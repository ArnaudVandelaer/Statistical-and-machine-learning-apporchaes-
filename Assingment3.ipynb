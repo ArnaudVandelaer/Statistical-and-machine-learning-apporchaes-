{
 "cells": [
  {
   "cell_type": "code",
   "execution_count": 4,
   "metadata": {},
   "outputs": [],
   "source": [
    "#exercise 5a\n",
    "library(ISLR)\n",
    "set.seed(123)\n"
   ]
  },
  {
   "cell_type": "code",
   "execution_count": 20,
   "metadata": {
    "scrolled": true
   },
   "outputs": [
    {
     "data": {
      "text/plain": [
       "\n",
       "Call:\n",
       "glm(formula = default ~ income + balance, family = binomial, \n",
       "    data = Default)\n",
       "\n",
       "Deviance Residuals: \n",
       "    Min       1Q   Median       3Q      Max  \n",
       "-2.4725  -0.1444  -0.0574  -0.0211   3.7245  \n",
       "\n",
       "Coefficients:\n",
       "              Estimate Std. Error z value Pr(>|z|)    \n",
       "(Intercept) -1.154e+01  4.348e-01 -26.545  < 2e-16 ***\n",
       "income       2.081e-05  4.985e-06   4.174 2.99e-05 ***\n",
       "balance      5.647e-03  2.274e-04  24.836  < 2e-16 ***\n",
       "---\n",
       "Signif. codes:  0 '***' 0.001 '**' 0.01 '*' 0.05 '.' 0.1 ' ' 1\n",
       "\n",
       "(Dispersion parameter for binomial family taken to be 1)\n",
       "\n",
       "    Null deviance: 2920.6  on 9999  degrees of freedom\n",
       "Residual deviance: 1579.0  on 9997  degrees of freedom\n",
       "AIC: 1585\n",
       "\n",
       "Number of Fisher Scoring iterations: 8\n"
      ]
     },
     "metadata": {},
     "output_type": "display_data"
    }
   ],
   "source": [
    "data(Default)\n",
    "fit.Default <- glm(default ~ income + balance, data=Default, family=binomial)\n",
    "summary(fit.Default)"
   ]
  },
  {
   "cell_type": "code",
   "execution_count": 23,
   "metadata": {},
   "outputs": [
    {
     "data": {
      "text/plain": [
       "     \n",
       "prob2   No  Yes\n",
       "  No  2890   69\n",
       "  Yes   10   31"
      ]
     },
     "metadata": {},
     "output_type": "display_data"
    },
    {
     "data": {
      "text/html": [
       "0.0263333333333333"
      ],
      "text/latex": [
       "0.0263333333333333"
      ],
      "text/markdown": [
       "0.0263333333333333"
      ],
      "text/plain": [
       "[1] 0.02633333"
      ]
     },
     "metadata": {},
     "output_type": "display_data"
    }
   ],
   "source": [
    "#exercise 5b\n",
    "set.seed(123)\n",
    "train = sample(nrow(Default), nrow(Default)*0.70)\n",
    "fit.Train = glm(default ~ income + balance, data = Default, family= binomial, subset = train)\n",
    "prob.Test <- predict(fit.Train, Default[-train,], type=\"response\")\n",
    "preb <- ifelse(prob.Test > 0.5, \"Yes\", \"No\")\n",
    "table(prob2, Default[-train,]$default)\n",
    "mean(Default[-train,]$default != prob2) "
   ]
  },
  {
   "cell_type": "code",
   "execution_count": 27,
   "metadata": {
    "scrolled": true
   },
   "outputs": [
    {
     "data": {
      "text/plain": [
       "     \n",
       "prob2   No  Yes\n",
       "  No  4808  117\n",
       "  Yes   21   54"
      ]
     },
     "metadata": {},
     "output_type": "display_data"
    },
    {
     "data": {
      "text/html": [
       "0.0276"
      ],
      "text/latex": [
       "0.0276"
      ],
      "text/markdown": [
       "0.0276"
      ],
      "text/plain": [
       "[1] 0.0276"
      ]
     },
     "metadata": {},
     "output_type": "display_data"
    },
    {
     "data": {
      "text/plain": [
       "     \n",
       "prob2   No  Yes\n",
       "  No  7694  186\n",
       "  Yes   33   87"
      ]
     },
     "metadata": {},
     "output_type": "display_data"
    },
    {
     "data": {
      "text/html": [
       "0.027375"
      ],
      "text/latex": [
       "0.027375"
      ],
      "text/markdown": [
       "0.027375"
      ],
      "text/plain": [
       "[1] 0.027375"
      ]
     },
     "metadata": {},
     "output_type": "display_data"
    },
    {
     "data": {
      "text/plain": [
       "     \n",
       "prob2  No Yes\n",
       "  No  483  11\n",
       "  Yes   2   4"
      ]
     },
     "metadata": {},
     "output_type": "display_data"
    },
    {
     "data": {
      "text/html": [
       "0.026"
      ],
      "text/latex": [
       "0.026"
      ],
      "text/markdown": [
       "0.026"
      ],
      "text/plain": [
       "[1] 0.026"
      ]
     },
     "metadata": {},
     "output_type": "display_data"
    }
   ],
   "source": [
    "#exercise5C\n",
    "set.seed(123)\n",
    "train = sample(nrow(Default), nrow(Default)*0.50)\n",
    "fit.Train = glm(default ~ income + balance, data = Default, family= binomial, subset = train)\n",
    "prob.Test <- predict(fit.Train, Default[-train,], type=\"response\")\n",
    "preb <- ifelse(prob.Test > 0.5, \"Yes\", \"No\")\n",
    "table(prob2, Default[-train,]$default)\n",
    "mean(Default[-train,]$default != prob2) \n",
    "\n",
    "set.seed(123)\n",
    "train = sample(nrow(Default), nrow(Default)*0.20)\n",
    "fit.Train = glm(default ~ income + balance, data = Default, family= binomial, subset = train)\n",
    "prob.Test <- predict(fit.Train, Default[-train,], type=\"response\")\n",
    "preb <- ifelse(prob.Test > 0.5, \"Yes\", \"No\")\n",
    "table(prob2, Default[-train,]$default)\n",
    "mean(Default[-train,]$default != prob2) \n",
    "\n",
    "set.seed(123)\n",
    "train = sample(nrow(Default), nrow(Default)*0.95)\n",
    "fit.Train = glm(default ~ income + balance, data = Default, family= binomial, subset = train)\n",
    "prob.Test <- predict(fit.Train, Default[-train,], type=\"response\")\n",
    "preb <- ifelse(prob.Test > 0.5, \"Yes\", \"No\")\n",
    "table(prob2, Default[-train,]$default)\n",
    "mean(Default[-train,]$default != prob2) "
   ]
  },
  {
   "cell_type": "code",
   "execution_count": 29,
   "metadata": {},
   "outputs": [
    {
     "data": {
      "text/html": [
       "0.027"
      ],
      "text/latex": [
       "0.027"
      ],
      "text/markdown": [
       "0.027"
      ],
      "text/plain": [
       "[1] 0.027"
      ]
     },
     "metadata": {},
     "output_type": "display_data"
    }
   ],
   "source": [
    "#Question 5d\n",
    "set.seed(123)\n",
    "train <- sample(nrow(Default), nrow(Default)*0.70)\n",
    "fit.train2 <- glm(default ~ income + balance + student, data=Default, family=binomial, subset=train)\n",
    "prob.test2 <- predict(fit.train2, Default[-train,], type=\"response\")\n",
    "preb2 <- ifelse(prob.test2 > 0.5, \"Yes\", \"No\")\n",
    "mean(Default[-train,]$default != preb2)  # test error"
   ]
  },
  {
   "cell_type": "code",
   "execution_count": 40,
   "metadata": {},
   "outputs": [],
   "source": [
    "#8a\n",
    "\n",
    "set.seed(1)\n",
    "y <- rnorm(100) \n",
    "x <- rnorm(100)\n",
    "y <- x - 2*x^2 + rnorm(100)\n",
    "\n",
    "#n = 100 p=2"
   ]
  },
  {
   "cell_type": "code",
   "execution_count": 41,
   "metadata": {},
   "outputs": [
    {
     "data": {
      "image/png": "[encoded data removed]",
      "text/plain": [
       "plot without title"
      ]
     },
     "metadata": {},
     "output_type": "display_data"
    }
   ],
   "source": [
    "plot(x, y)"
   ]
  },
  {
   "cell_type": "code",
   "execution_count": 46,
   "metadata": {
    "scrolled": true
   },
   "outputs": [
    {
     "data": {
      "text/html": [
       "<ol class=list-inline>\n",
       "\t<li>5.89097855988843</li>\n",
       "\t<li>5.88881215196093</li>\n",
       "</ol>\n"
      ],
      "text/latex": [
       "\\begin{enumerate*}\n",
       "\\item 5.89097855988843\n",
       "\\item 5.88881215196093\n",
       "\\end{enumerate*}\n"
      ],
      "text/markdown": [
       "1. 5.89097855988843\n",
       "2. 5.88881215196093\n",
       "\n",
       "\n"
      ],
      "text/plain": [
       "[1] 5.890979 5.888812"
      ]
     },
     "metadata": {},
     "output_type": "display_data"
    },
    {
     "data": {
      "text/html": [
       "<ol class=list-inline>\n",
       "\t<li>1.0865955642745</li>\n",
       "\t<li>1.08632580328877</li>\n",
       "</ol>\n"
      ],
      "text/latex": [
       "\\begin{enumerate*}\n",
       "\\item 1.0865955642745\n",
       "\\item 1.08632580328877\n",
       "\\end{enumerate*}\n"
      ],
      "text/markdown": [
       "1. 1.0865955642745\n",
       "2. 1.08632580328877\n",
       "\n",
       "\n"
      ],
      "text/plain": [
       "[1] 1.086596 1.086326"
      ]
     },
     "metadata": {},
     "output_type": "display_data"
    },
    {
     "data": {
      "text/html": [
       "<ol class=list-inline>\n",
       "\t<li>1.10258509387339</li>\n",
       "\t<li>1.10222658385953</li>\n",
       "</ol>\n"
      ],
      "text/latex": [
       "\\begin{enumerate*}\n",
       "\\item 1.10258509387339\n",
       "\\item 1.10222658385953\n",
       "\\end{enumerate*}\n"
      ],
      "text/markdown": [
       "1. 1.10258509387339\n",
       "2. 1.10222658385953\n",
       "\n",
       "\n"
      ],
      "text/plain": [
       "[1] 1.102585 1.102227"
      ]
     },
     "metadata": {},
     "output_type": "display_data"
    },
    {
     "data": {
      "text/html": [
       "<ol class=list-inline>\n",
       "\t<li>1.11477226814507</li>\n",
       "\t<li>1.11433406148513</li>\n",
       "</ol>\n"
      ],
      "text/latex": [
       "\\begin{enumerate*}\n",
       "\\item 1.11477226814507\n",
       "\\item 1.11433406148513\n",
       "\\end{enumerate*}\n"
      ],
      "text/markdown": [
       "1. 1.11477226814507\n",
       "2. 1.11433406148513\n",
       "\n",
       "\n"
      ],
      "text/plain": [
       "[1] 1.114772 1.114334"
      ]
     },
     "metadata": {},
     "output_type": "display_data"
    }
   ],
   "source": [
    "#c\n",
    "Data = data.frame(x,y)\n",
    "set.seed(1)\n",
    "# i.\n",
    "glm.fit = glm(y~x)\n",
    "cv.glm(Data, glm.fit)$delta\n",
    "# ii.\n",
    "glm.fit = glm(y~poly(x,2))\n",
    "cv.glm(Data, glm.fit)$delta\n",
    "# iii.\n",
    "glm.fit = glm(y~poly(x,3))\n",
    "cv.glm(Data, glm.fit)$delta\n",
    "# iv.\n",
    "glm.fit = glm(y~poly(x,4))\n",
    "cv.glm(Data, glm.fit)$delta"
   ]
  },
  {
   "cell_type": "code",
   "execution_count": 47,
   "metadata": {},
   "outputs": [
    {
     "data": {
      "text/html": [
       "<ol class=list-inline>\n",
       "\t<li>5.89097855988842</li>\n",
       "\t<li>5.88881215196093</li>\n",
       "</ol>\n"
      ],
      "text/latex": [
       "\\begin{enumerate*}\n",
       "\\item 5.89097855988842\n",
       "\\item 5.88881215196093\n",
       "\\end{enumerate*}\n"
      ],
      "text/markdown": [
       "1. 5.89097855988842\n",
       "2. 5.88881215196093\n",
       "\n",
       "\n"
      ],
      "text/plain": [
       "[1] 5.890979 5.888812"
      ]
     },
     "metadata": {},
     "output_type": "display_data"
    },
    {
     "data": {
      "text/html": [
       "<ol class=list-inline>\n",
       "\t<li>1.0865955642745</li>\n",
       "\t<li>1.08632580328877</li>\n",
       "</ol>\n"
      ],
      "text/latex": [
       "\\begin{enumerate*}\n",
       "\\item 1.0865955642745\n",
       "\\item 1.08632580328877\n",
       "\\end{enumerate*}\n"
      ],
      "text/markdown": [
       "1. 1.0865955642745\n",
       "2. 1.08632580328877\n",
       "\n",
       "\n"
      ],
      "text/plain": [
       "[1] 1.086596 1.086326"
      ]
     },
     "metadata": {},
     "output_type": "display_data"
    },
    {
     "data": {
      "text/html": [
       "<ol class=list-inline>\n",
       "\t<li>1.10258509387339</li>\n",
       "\t<li>1.10222658385953</li>\n",
       "</ol>\n"
      ],
      "text/latex": [
       "\\begin{enumerate*}\n",
       "\\item 1.10258509387339\n",
       "\\item 1.10222658385953\n",
       "\\end{enumerate*}\n"
      ],
      "text/markdown": [
       "1. 1.10258509387339\n",
       "2. 1.10222658385953\n",
       "\n",
       "\n"
      ],
      "text/plain": [
       "[1] 1.102585 1.102227"
      ]
     },
     "metadata": {},
     "output_type": "display_data"
    },
    {
     "data": {
      "text/html": [
       "<ol class=list-inline>\n",
       "\t<li>1.11477226814507</li>\n",
       "\t<li>1.11433406148513</li>\n",
       "</ol>\n"
      ],
      "text/latex": [
       "\\begin{enumerate*}\n",
       "\\item 1.11477226814507\n",
       "\\item 1.11433406148513\n",
       "\\end{enumerate*}\n"
      ],
      "text/markdown": [
       "1. 1.11477226814507\n",
       "2. 1.11433406148513\n",
       "\n",
       "\n"
      ],
      "text/plain": [
       "[1] 1.114772 1.114334"
      ]
     },
     "metadata": {},
     "output_type": "display_data"
    }
   ],
   "source": [
    "Data = data.frame(x,y)\n",
    "set.seed(123)\n",
    "# i.\n",
    "glm.fit = glm(y~x)\n",
    "cv.glm(Data, glm.fit)$delta\n",
    "# ii.\n",
    "glm.fit = glm(y~poly(x,2))\n",
    "cv.glm(Data, glm.fit)$delta\n",
    "# iii.\n",
    "glm.fit = glm(y~poly(x,3))\n",
    "cv.glm(Data, glm.fit)$delta\n",
    "# iv.\n",
    "glm.fit = glm(y~poly(x,4))\n",
    "cv.glm(Data, glm.fit)$delta"
   ]
  },
  {
   "cell_type": "code",
   "execution_count": 44,
   "metadata": {
    "scrolled": false
   },
   "outputs": [
    {
     "ename": "ERROR",
     "evalue": "Error: 'family' argument seems not to be a valid family object\n",
     "output_type": "error",
     "traceback": [
      "Error: 'family' argument seems not to be a valid family object\nTraceback:\n",
      "1. glm(df, fit1)",
      "2. eval(call(if (is.function(method)) \"method\" else method, x = X, \n .     y = Y, weights = weights, start = start, etastart = etastart, \n .     mustart = mustart, offset = offset, family = family, control = control, \n .     intercept = attr(mt, \"intercept\") > 0L, singular.ok = singular.ok))",
      "3. eval(call(if (is.function(method)) \"method\" else method, x = X, \n .     y = Y, weights = weights, start = start, etastart = etastart, \n .     mustart = mustart, offset = offset, family = family, control = control, \n .     intercept = attr(mt, \"intercept\") > 0L, singular.ok = singular.ok))",
      "4. glm.fit(x = structure(c(1, 1, 1, 1, 1, 1, 1, 1, 1, 1, 1, 1, 1, \n . 1, 1, 1, 1, 1, 1, 1, 1, 1, 1, 1, 1, 1, 1, 1, 1, 1, 1, 1, 1, 1, \n . 1, 1, 1, 1, 1, 1, 1, 1, 1, 1, 1, 1, 1, 1, 1, 1, 1, 1, 1, 1, 1, \n . 1, 1, 1, 1, 1, 1, 1, 1, 1, 1, 1, 1, 1, 1, 1, 1, 1, 1, 1, 1, 1, \n . 1, 1, 1, 1, 1, 1, 1, 1, 1, 1, 1, 1, 1, 1, 1, 1, 1, 1, 1, 1, 1, \n . 1, 1, 1, -0.620366677224124, 0.0421158731442352, -0.910921648552446, \n . 0.158028772404075, -0.654584643918818, 1.76728726937265, 0.716707476017206, \n . 0.910174229495227, 0.384185357826345, 1.68217608051942, -0.635736453948977, \n . -0.461644730360566, 1.43228223854166, -0.650696353310367, -0.207380743601965, \n . -0.392807929441984, -0.319992868548507, -0.279113302976559, 0.494188331267827, \n . -0.177330482269606, -0.505957462114257, 1.34303882517041, -0.214579408546869, \n . -0.179556530043387, -0.100190741213562, 0.712666307051405, -0.0735644041263263, \n . -0.0376341714670479, -0.681660478755657, -0.324270272246319, \n . 0.0601604404345152, -0.588894486259664, 0.531496192632572, -1.51839408178679, \n . 0.306557860789766, -1.53644982353759, -0.300976126836611, -0.528279904445006, \n . -0.652094780680999, -0.0568967778473925, -1.91435942568001, 1.17658331201856, \n . -1.664972436212, -0.463530401472386, -1.11592010504285, -0.750819001193448, \n . 2.08716654562835, 0.0173956196932517, -1.28630053043433, -1.64060553441858, \n . 0.450187101272656, -0.018559832714638, -0.318068374543844, -0.929362147453702, \n . -1.48746031014148, -1.07519229661568, 1.00002880371391, -0.621266694796823, \n . -1.38442684738449, 1.86929062242358, 0.425100377372448, -0.238647100913033, \n . 1.05848304870902, 0.886422651374936, -0.619243048231147, 2.20610246454047, \n . -0.255027030141015, -1.42449465021281, -0.144399601954219, 0.207538339232345, \n . 2.30797839905936, 0.105802367893711, 0.456998805423414, -0.077152935356531, \n . -0.334000842366544, -0.0347260283112762, 0.787639605630162, 2.07524500865228, \n . 1.02739243876377, 1.2079083983867, -1.23132342155804, 0.983895570053379, \n . 0.219924803660651, -1.46725002909224, 0.521022742648139, -0.158754604716016, \n . 1.4645873119698, -0.766081999604665, -0.430211753928547, -0.926109497377437, \n . -0.17710396143654, 0.402011779486338, -0.731748173119606, 0.830373167981674, \n . -1.20808278630446, -1.04798441280774, 1.44115770684428, -1.01584746530465, \n . 0.411974712317515, -0.38107605110892, 0.384854814210101, 0.00177374677070132, \n . 0.829778249801505, 0.0249730929075389, 0.428481056054325, 3.12330429248662, \n . 0.513669606178954, 0.828417128037231, 0.147598389168156, 2.82971636587167, \n . 0.40416083887962, 0.21311585706968, 2.05143241084192, 0.42340574421141, \n . 0.0430067728169041, 0.154298069432499, 0.102395435921902, 0.0779042358984844, \n . 0.24422210676128, 0.0314460999419712, 0.2559929534691, 1.80375328591512, \n . 0.046044322572324, 0.0322405474812218, 0.0100381846249229, 0.507893265206288, \n . 0.00541172155446146, 0.00141633086201116, 0.464661008297391, \n . 0.105151209462702, 0.00361927859327485, 0.346796715947033, 0.282488202782921, \n . 2.30552058760514, 0.0939777220119973, 2.36067806024868, 0.0905866289255676, \n . 0.279079657440425, 0.4252276029914, 0.00323724332941554, 3.6647720106899, \n . 1.38434829012057, 2.77213321334573, 0.214860433089151, 1.24527768083884, \n . 0.563729172553127, 4.35626418919017, 0.000302607584512245, 1.65456905459563, \n . 2.69158651956487, 0.202668426152276, 0.000344467390395346, 0.101167490884963, \n . 0.863714001119757, 2.2125381742462, 1.1560384747017, 1.00005760825748, \n . 0.385972306063769, 1.91663769575896, 3.49424743108074, 0.180710330842198, \n . 0.0569524387741952, 1.12038636440434, 0.785745116870571, 0.383461952782603, \n . 4.86688808405152, 0.0650387861025463, 2.02918500848491, 0.020851245044537, \n . 0.0430721622513198, 5.32676429052461, 0.0111941410519163, 0.208847908158427, \n . 0.00595257543412905, 0.111556562701561, 0.00120589704227556, \n . 0.620376148357237, 4.30664184593622, 1.05553522322896, 1.45904269889313, \n . 1.51615736847741, 0.968050492770664, 0.048366919265176, 2.15282264787119, \n . 0.271464698356589, 0.0252030245185385, 2.14501599438292, 0.586881630118282, \n . 0.185082153218276, 0.857678801132689, 0.0313658131565155, 0.161613470845772, \n . 0.535455388863881, 0.689519598103921, 1.45946401856516, 1.09827132948799, \n . 2.07693553599667, 1.03194607276588, 0.169723163589099, 0.145218956728768, \n . -0.238751102305228, 7.47028939848535e-05, -0.75586297124215, \n . 0.00394646721531129, -0.28047711950328, 5.51977591448855, 0.36815084695127, \n . 0.754003921211935, 0.0567051399571602, 4.76008118532366, -0.256939778534373, \n . -0.0983838123724932, 2.93823020561758, -0.275508573729026, -0.00891877652669037, \n . -0.0606095051706752, -0.0327658092669242, -0.021744108597491, \n . 0.12069171539907, -0.00557635206820799, -0.129521545056359, 2.42251069401271, \n . -0.00988016350451052, -0.00578900083242725, -0.00100573315800961, \n . 0.361958417690845, -0.000398110071451554, -5.33024385149999e-05, \n . -0.316741045375086, -0.0340974113195001, 0.000217737394226627, \n . -0.204226673874167, 0.15014140424274, -3.50068881565724, 0.0288096094218932, \n . -3.62706338909813, -0.0272644127172026, -0.147432174765173, -0.277288700512184, \n . -0.000184188714551709, -7.01569084163251, 1.62880109617729, -4.61552538972845, \n . -0.0995943428103448, -1.38963040040918, -0.423258574279947, 9.09224887959651, \n . 5.26404645646853e-06, -2.12827305256658, -4.41583174036456, 0.0912387112889845, \n . -6.39325714138552e-06, -0.0321781793824595, -0.802703098866487, \n . -3.29106271886413, -1.24296366259061, 1.00008641363073, -0.239791738871346, \n . -2.65344468271786, 6.53176395534691, 0.0768200298361181, -0.0135915344033887, \n . 1.18590997472672, 0.696502269801321, -0.237456148521767, 10.7368537968687, \n . -0.0165866484637091, -2.89056318887879, -0.00301091148468103, \n . 0.00893912502078501, 12.2940569194116, 0.00118436662982894, 0.0954432445435799, \n . -0.000459258667674233, -0.0372599859138377, -4.18760148305452e-05, \n . 0.488632824834453, 8.93733699483221, 1.08444890719426, 1.76238992959782, \n . -1.86688007857404, 0.952460591425047, 0.0106370852230644, -3.15872909271944, \n . 0.141439281669899, -0.00400109619508864, 3.1415632093455, -0.449599452732259, \n . -0.0796245177569066, -0.794304483428278, -0.00555500976369725, \n . 0.0649705190036722, -0.391818502588194, 0.572558573063004, -1.76315335805931, \n . -1.15097123433705, 2.99319165432035, -1.04829980235031, 0.0699216514932376, \n . -0.055339466576356, 0.148113228020691, 3.14617760657334e-06, \n . 0.688531943843649, 0.000623655369368571, 0.18359601539743, 9.75502970346537, \n . 0.263856464312041, 0.686274938025453, 0.0217852844850346, 8.00729471128199, \n . 0.163345983683878, 0.0454183685345442, 4.20837493625268, 0.179272424231218, \n . 0.0018495825081248, 0.0238078942305962, 0.0104848252976363, 0.0060690699709267, \n . 0.0596444374309178, 0.00098885720156044, 0.0655323922258329, \n . 3.25352591644959, 0.00212007964114422, 0.00103945290188892, 0.000100765150564039, \n . 0.257955568841905, 2.92867301830228e-05, 2.00599311068529e-06, \n . 0.215909852631948, 0.011056776851469, 1.30991775357376e-05, 0.120267962191647, \n . 0.0797995847115244, 5.31542517987115, 0.00883181223456424, 5.57280090413947, \n . 0.00820593734009847, 0.0778854551970649, 0.180818514345812, 1.04797443738454e-05, \n . 13.4305538903361, 1.91642018835975, 7.68472255253454, 0.0461650057072575, \n . 1.55071650239535, 0.317790579987433, 18.9770376860207, 9.15713502043355e-08, \n . 2.73759875642547, 7.24463799230333, 0.0410744909590406, 1.1865778304578e-07, \n . 0.0102348612119591, 0.7460018757303, 4.89532517249672, 1.33642495499064, \n . 1.00011521983368, 0.148974621048184, 3.67350005680422, 12.2097651096143, \n . 0.0326562236730965, 0.00324358028232846, 1.25526560554318, 0.617395388685948, \n . 0.147043069231847, 23.6865996226827, 0.00423004369769277, 4.11759179865991, \n . 0.000434774419907329, 0.00185521116100402, 28.3744178068082, \n . 0.000125308793890197, 0.0436174487421508, 3.54331542989966e-05, \n . 0.0124448666817874, 1.45418767656893e-06, 0.38486656545056, 18.547163989169, \n . 1.11415460747702, 2.12880559719335, 2.29873316598834, 0.937121756553525, \n . 0.00233935887920405, 4.63464535318711, 0.0736930824538336, 0.000635192444882052, \n . 4.60109361615853, 0.344430047770292, 0.0342554034399135, 0.735612925912407, \n . 0.000983814234969443, 0.0261189139588172, 0.28671247346337, 0.475437276169393, \n . 2.13003522148636, 1.20619991317531, 4.31366122068576, 1.06491269709692, \n . 0.0288059522586921, 0.0210885453933918), .Dim = c(100L, 5L), .Dimnames = list(\n .     c(\"1\", \"2\", \"3\", \"4\", \"5\", \"6\", \"7\", \"8\", \"9\", \"10\", \"11\", \n .     \"12\", \"13\", \"14\", \"15\", \"16\", \"17\", \"18\", \"19\", \"20\", \"21\", \n .     \"22\", \"23\", \"24\", \"25\", \"26\", \"27\", \"28\", \"29\", \"30\", \"31\", \n .     \"32\", \"33\", \"34\", \"35\", \"36\", \"37\", \"38\", \"39\", \"40\", \"41\", \n .     \"42\", \"43\", \"44\", \"45\", \"46\", \"47\", \"48\", \"49\", \"50\", \"51\", \n .     \"52\", \"53\", \"54\", \"55\", \"56\", \"57\", \"58\", \"59\", \"60\", \"61\", \n .     \"62\", \"63\", \"64\", \"65\", \"66\", \"67\", \"68\", \"69\", \"70\", \"71\", \n .     \"72\", \"73\", \"74\", \"75\", \"76\", \"77\", \"78\", \"79\", \"80\", \"81\", \n .     \"82\", \"83\", \"84\", \"85\", \"86\", \"87\", \"88\", \"89\", \"90\", \"91\", \n .     \"92\", \"93\", \"94\", \"95\", \"96\", \"97\", \"98\", \"99\", \"100\"), c(\"(Intercept)\", \n .     \"x\", \"x2\", \"x3\", \"x4\")), assign = 0:4), y = c(`1` = -0.980674465993391, \n . `2` = 1.72744166580688, `3` = -0.983889714713485, `4` = -0.222825214093769, \n . `5` = -3.79678229131994, `6` = -1.98165972576644, `7` = 0.356434430424792, \n . `8` = -0.205332690615534, `9` = 0.075589056344123, `10` = -3.467148228271, \n . `11` = -1.60843396347788, `12` = -0.467181801245413, `13` = -3.07082932711982, \n . `14` = -2.86771571928065, `15` = 0.694443978219105, `16` = 0.818340957192564, \n . `17` = -0.833524309617924, `18` = -1.68821153038122, `19` = 0.647985423423092, \n . `20` = -0.284931819047528, `21` = -2.7511617758773, `22` = -2.26233588697956, \n . `23` = -0.936968387619663, `24` = -0.585006204866236, `25` = -1.27683947309926, \n . `26` = 1.5000216845563, `27` = -0.41551988362647, `28` = -1.64598024544415, \n . `29` = -1.41378905661096, `30` = -0.271397044766249, `31` = -0.932904817161325, \n . `32` = -4.17140858983328, `33` = -0.673961915498384, `34` = -5.55892762107658, \n . `35` = 0.0588791407231609, `36` = -6.35598468804018, `37` = 0.0786713439323703, \n . `38` = -2.27289785790533, `39` = -0.405772942389556, `40` = -0.0687152927843893, \n . `41` = -8.53659277966174, `42` = -0.558005533485115, `43` = -6.98575844798817, \n . `44` = -1.77195888051671, `45` = -2.44351091075318, `46` = -3.87844229108518, \n . `47` = -7.17015257275371, `48` = -0.238880304632762, `49` = -4.76155967639059, \n . `50` = -6.00331466476421, `51` = 0.181072142070881, `52` = 0.387918835928408, \n . `53` = -0.590058169326676, `54` = -2.90445449131255, `55` = -5.21698585201425, \n . `56` = -2.24104088880328, `57` = -3.40318262769292, `58` = -0.820471751678521, \n . `59` = -4.84297783212376, `60` = -5.54447196129397, `61` = 1.01469252326487, \n . `62` = -0.741789160179802, `63` = -1.46662034189924, `64` = 0.172342195713597, \n . `65` = 0.333460345324249, `66` = -7.25761880262535, `67` = -0.807288612133748, \n . `68` = -6.67197796204222, `69` = -0.517135070922303, `70` = -0.818435311780316, \n . `71` = -8.60448276510865, `72` = 0.477793254011451, `73` = -0.812554102917304, \n . `74` = 2.56010879487009, `75` = -0.401102292104588, `76` = 1.09306944505912, \n . `77` = -2.74223667092442, `78` = -5.79703752602472, `79` = -2.39992316814572, \n . `80` = -0.790373321790419, `81` = -3.8655080030609, `82` = -1.35973399475772, \n . `83` = 1.44744959530757, `84` = -6.47412699408154, `85` = -0.602520958305575, \n . `86` = -1.21023283477851, `87` = -3.49362328354943, `88` = -0.994660306468146, \n . `89` = -0.366673910819937, `90` = -1.63630788196577, `91` = -0.62995425180325, \n . `92` = 0.455155129569442, `93` = -1.55849402636088, `94` = -1.97492337060871, \n . `95` = -2.34858153595933, `96` = -3.11007941085004, `97` = -1.94711436599119, \n . `98` = -2.12460293392743, `99` = 0.0219626836970465, `100` = -0.977329384333426\n . ), weights = NULL, start = NULL, etastart = NULL, mustart = NULL, \n .     offset = NULL, family = structure(list(coefficients = c(`(Intercept)` = -1.81851838252041, \n .     x = 0.243044313015494), residuals = c(`1` = 0.988620509410663, \n .     `2` = 3.5357240248719, `3` = 1.0560229940903, `4` = 1.55728517400101, \n .     `5` = -1.81917083370778, `6` = -0.592670463531727, `7` = 2.00076113680353, \n .     `8` = 1.3919730215728, `9` = 1.80073337250102, `10` = -2.05747317561153, \n .     `11` = 0.364596548751464, `12` = 1.46353670762271, `13` = -1.60041899731006, \n .     `14` = -0.891049288588229, `15` = 2.5633650711009, `16` = 2.73232907307124, \n .     `17` = 1.06276651980872, `18` = 0.198143753114617, `19` = 2.34639414247024, \n .     `20` = 1.57668572871281, `21` = -0.809673309562261, `22` = -0.770235453075824, \n .     `23` = 0.933702299838294, `24` = 1.27715237114602, `25` = 0.566029699289915, \n .     `26` = 3.14533057407011, `27` = 1.42087790895722, `28` = 0.181684908426381, \n .     `29` = 0.570403028678435, `30` = 1.62593338330362, `31` = 0.870991912442971, \n .     `32` = -2.20976275146127, `33` = 1.01537934001329, `34` = -3.37137219206151, \n .     `35` = 1.80289037856843, `36` = -4.1640409136753, `37` = 1.97034026243385, \n .     `38` = -0.32598404892919, `39` = 1.57123336812246, `40` = 1.76363152802074, \n .     `41` = -6.2528002256622, `42` = 0.974550966260251, `43` = -4.76257798351887, \n .     `44` = 0.159217929991358, `45` = -0.353774492922456, `46` = -1.87744162022072, \n .     `47` = -5.85890814946446, `48` = 1.57541017144983, `49` = -2.6304132651193, \n .     `50` = -3.78605643720162, `51` = 1.89017510983404, `52` = 2.21094808024063, \n .     `53` = 1.3057649227767, `54` = -0.860059924121646, `55` = -3.03694870027768, \n .     `56` = -0.161203133192362, `57` = -1.82771555876686, `58` = 1.14904196787819, \n .     `59` = -2.68798237756058, `60` = -4.1802740339268, `61` = 2.72989267660417, \n .     `62` = 1.13473104303516, `63` = 0.0946397552091458, `64` = 1.77542059388922, \n .     `65` = 2.30248222909162, `66` = -5.97528107804097, `67` = 1.07321263972767, \n .     `68` = -4.50724425586659, `69` = 1.33647881365478, `70` = 0.949642057656994, \n .     `71` = -7.34690540704222, `72` = 2.27059697271172, `73` = 0.894893318890074, \n .     `74` = 4.39737875956136, `75` = 1.4985930956954, `76` = 2.9200277912742, \n .     `77` = -1.11514961525818, `78` = -4.48289564097104, `79` = -0.831106675101961, \n .     `80` = 0.734569793858451, `81` = -1.74772346544803, `82` = 0.21965416486008, \n .     `83` = 3.21251650500721, `84` = -4.29900183621844, `85` = 1.08936580966247, \n .     `86` = 0.646869951583151, `87` = -2.03106451811793, `88` = 1.01004994935972, \n .     `89` = 1.55640499188523, `90` = 0.407296147121863, `91` = 1.23160824135683, \n .     `92` = 2.17596683532046, `93` = 0.437871588195735, `94` = -0.358222464246899, \n .     `95` = -0.236445502575708, `96` = -1.03685437666782, `97` = -0.478861168277728, \n .     `98` = -0.0591886020735157, `99` = 1.74035295528249, `100` = 0.933807365235411\n .     ), fitted.values = c(`1` = -1.96929497540405, `2` = -1.80828235906502, \n .     `3` = -2.03991270880378, `4` = -1.78011038809478, `5` = -1.97761145761215, \n .     `6` = -1.38898926223471, `7` = -1.64432670637874, `8` = -1.59730571218834, \n .     `9` = -1.7251443161569, `10` = -1.40967505265947, `11` = -1.97303051222935, \n .     `12` = -1.93071850886812, `13` = -1.47041032980976, `14` = -1.97666643069242, \n .     `15` = -1.86892109288179, `16` = -1.91398811587868, `17` = -1.89629082942664, \n .     `18` = -1.88635528349584, `19` = -1.69840871904715, `20` = -1.86161754776033, \n .     `21` = -1.94148846631503, `22` = -1.49210043390373, `23` = -1.87067068745796, \n .     `24` = -1.86215857601225, `25` = -1.84286917238918, `26` = -1.64530888951381, \n .     `27` = -1.83639779258369, `28` = -1.82766515387053, `29` = -1.98419208528939, \n .     `30` = -1.89733042806987, `31` = -1.8038967296043, `32` = -1.961645838372, \n .     `33` = -1.68934125551168, `34` = -2.18755542901507, `35` = -1.74401123784526, \n .     `36` = -2.19194377436488, `37` = -1.89166891850148, `38` = -1.94691380897614, \n .     `39` = -1.97700631051202, `40` = -1.83234682080513, `41` = -2.28379255399955, \n .     `42` = -1.53255649974537, `43` = -2.22318046446929, `44` = -1.93117681050806, \n .     `45` = -2.08973641783073, `46` = -2.00100067086445, `47` = -1.31124442328925, \n .     `48` = -1.81429047608259, `49` = -2.13114641127129, `50` = -2.21725822756259, \n .     `51` = -1.70910296776316, `52` = -1.82302924431222, `53` = -1.89582309210338, \n .     `54` = -2.0443945671909, `55` = -2.18003715173656, `56` = -2.07983775561092, \n .     `57` = -1.57546706892606, `58` = -1.96951371955671, `59` = -2.15499545456318, \n .     `60` = -1.36419792736717, `61` = -1.7152001533393, `62` = -1.87652020321496, \n .     `63` = -1.56126009710838, `64` = -1.60307839817562, `65` = -1.96902188376737, \n .     `66` = -1.28233772458439, `67` = -1.88050125186142, `68` = -2.16473370617563, \n .     `69` = -1.85361388457709, `70` = -1.76807736943731, `71` = -1.25757735806643, \n .     `72` = -1.79280371870027, `73` = -1.70744742180738, `74` = -1.83726996469127, \n .     `75` = -1.89969538779999, `76` = -1.82695834621508, `77` = -1.62708705566623, \n .     `78` = -1.31414188505368, `79` = -1.56881649304376, `80` = -1.52494311564887, \n .     `81` = -2.11778453761287, `82` = -1.5793881596178, `83` = -1.76506690969964, \n .     `84` = -2.1751251578631, `85` = -1.69188676796805, `86` = -1.85710278636166, \n .     `87` = -1.4625587654315, `88` = -2.00471025582786, `89` = -1.92307890270517, \n .     `90` = -2.04360402908764, `91` = -1.86156249316008, `92` = -1.72081170575102, \n .     `93` = -1.99636561455661, `94` = -1.61670090636181, `95` = -2.11213603338362, \n .     `96` = -2.07322503418222, `97` = -1.46825319771346, `98` = -2.06541433185391, \n .     `99` = -1.71839027158545, `100` = -1.91113674956884), effects = c(`(Intercept)` = 18.2770742051582, \n .     x = -2.31640100387662, 1.25859723567587, 1.37869512427988, \n .     -1.70800074968775, -1.34508682221998, 1.62295850625914, 0.945184387061202, \n .     1.54150084122336, -2.77954074978601, 0.469045781334965, 1.50590864724386, \n .     -2.23337990450355, -0.781265683777248, 2.51507204589521, \n .     2.75015531822092, 1.05462851017371, 0.1754289863778, 2.04793696186232, \n .     1.51767743894501, -0.751500421025584, -1.37137411506079, \n .     0.887976160774645, 1.21893784122477, 0.479515068577977, 2.76896893580628, \n .     1.32486891002485, 0.0728639760314588, 0.691227761964509, \n .     1.61932060207691, 0.727299564865183, -2.1220163378932, 0.703618993740742, \n .     -2.95218659511023, 1.57133811132713, -3.73841703495385, 1.95542129950534, \n .     -0.259851466711283, 1.68151562148366, 1.66167921887133, -5.6924220656807, \n .     0.43276669196321, -4.29112575802237, 0.202262258601641, -0.0781022948224764, \n .     -1.73195647362078, -6.72538644708587, 1.44696682164699, -2.29398714165132, \n .     -3.32329291482113, 1.60740780344192, 2.09532565670995, 1.29694068075988, \n .     -0.650910204798992, -2.6287934083017, 0.0999464210774904, \n .     -2.30654436505003, 1.24833160149014, -2.31656656015958, -4.96906255264637, \n .     2.45607074611458, 1.09758691556371, -0.405032553663683, 1.33710125155819, \n .     2.40105027469168, -6.88416931755892, 1.04190923601051, -4.12154113816628, \n .     1.26572809373172, 0.75339798153479, -8.29212037193566, 2.11062971416258, \n .     0.609697108093862, 4.30264935221376, 1.49545002250301, 2.81016987876939, \n .     -1.51824508856193, -5.34512297979802, -1.31969275389924, \n .     0.181615680332618, -1.43090097404015, -0.253421883901179, \n .     3.0118556871512, -3.89805308750416, 0.781340066101691, 0.581237911018024, \n .     -2.67554470644686, 1.16097754666511, 1.5875686210455, 0.61528604271754, \n .     1.17251917922475, 1.91037779279087, 0.576556495490945, -0.77655578926892, \n .     0.0720898876792244, -0.785406557432912, -1.11498687293915, \n .     0.180799886045912, 1.47121134926868, 0.947450279705903), \n .         R = structure(c(-10, 0, 0.378080765659308, -9.53077640507864\n .         ), .Dim = c(2L, 2L), .Dimnames = list(c(\"(Intercept)\", \n .         \"x\"), c(\"(Intercept)\", \"x\"))), rank = 2L, qr = structure(list(\n .             qr = structure(c(-10, 0.1, 0.1, 0.1, 0.1, 0.1, 0.1, \n .             0.1, 0.1, 0.1, 0.1, 0.1, 0.1, 0.1, 0.1, 0.1, 0.1, \n .             0.1, 0.1, 0.1, 0.1, 0.1, 0.1, 0.1, 0.1, 0.1, 0.1, \n .             0.1, 0.1, 0.1, 0.1, 0.1, 0.1, 0.1, 0.1, 0.1, 0.1, \n .             0.1, 0.1, 0.1, 0.1, 0.1, 0.1, 0.1, 0.1, 0.1, 0.1, \n .             0.1, 0.1, 0.1, 0.1, 0.1, 0.1, 0.1, 0.1, 0.1, 0.1, \n .             0.1, 0.1, 0.1, 0.1, 0.1, 0.1, 0.1, 0.1, 0.1, 0.1, \n .             0.1, 0.1, 0.1, 0.1, 0.1, 0.1, 0.1, 0.1, 0.1, 0.1, \n .             0.1, 0.1, 0.1, 0.1, 0.1, 0.1, 0.1, 0.1, 0.1, 0.1, \n .             0.1, 0.1, 0.1, 0.1, 0.1, 0.1, 0.1, 0.1, 0.1, 0.1, \n .             0.1, 0.1, 0.1, 0.378080765659308, -9.53077640507864, \n .             -0.0860531885694405, 0.0261045597108478, -0.0591574779013113, \n .             0.194953185318206, 0.0847229429220444, 0.10502210274442, \n .             0.0498336428211973, 0.186023043088883, -0.057179864623153, \n .             -0.038913595833588, 0.159803369962925, -0.0587495058281883, \n .             -0.0122353929305053, -0.0316910152176057, -0.0240510226505074, \n .             -0.0197618059241382, 0.0613755118952494, -0.00908242195991931, \n .             -0.0435630315007681, 0.150439661322809, -0.0129907002254144, \n .             -0.00931598611872116, -0.000988669911037, 0.0842989303553823, \n .             0.00180505181273015, 0.00557496846297623, -0.0619983623881629, \n .             -0.0244998217321365, 0.0158358966124869, -0.0522650533109967, \n .             0.0652899738214431, -0.149791168290656, 0.0416887138314443, \n .             -0.151685635329163, -0.0220557243764063, -0.0459051746150325, \n .             -0.0588962333676034, 0.00355387326971577, -0.191337137586739, \n .             0.132974608521534, -0.165170645071489, -0.0391114465680585, \n .             -0.107562292107025, -0.069254699070339, 0.228515957400998, \n .             0.0113488727936849, -0.125439159441851, -0.16261399063351, \n .             0.0567587600037954, 0.00757631000554414, -0.0238490984920897, \n .             -0.0879880255772031, -0.146545496549913, -0.103288998232932, \n .             0.11444993636465, -0.0556616505200037, -0.135734891161868, \n .             0.205655708251866, 0.0541265794936284, -0.0155159606389668, \n .             0.120583145508446, 0.102530010063741, -0.0554493229530073, \n .             0.240995100112681, -0.0172345959874211, -0.139938935105966, \n .             -0.0056272070943351, 0.03129926418444, 0.251684253880323, \n .             0.0206247958080314, 0.0574734661159993, 0.00142853146667604, \n .             -0.0255207847373163, 0.00588010028352991, 0.0921653722266663, \n .             0.22726511104081, 0.117321017784131, 0.136261338273314, \n .             -0.119670782707403, 0.112757185115975, 0.0325988922422031, \n .             -0.144424968253974, 0.0641910654493137, -0.00713338058447671, \n .             0.163192923138354, -0.0708561424116269, -0.0356155459060637, \n .             -0.0876467469721849, -0.00905865465876372, 0.0517040488513392, \n .             -0.0672537258795631, 0.096649116313742, -0.117232299810962, \n .             -0.100434258739365, 0.160734612909501, -0.0970623458817757, \n .             0.0527493921064667, -0.0304600684579259), .Dim = c(100L, \n .             2L), .Dimnames = list(c(\"1\", \"2\", \"3\", \"4\", \"5\", \n .             \"6\", \"7\", \"8\", \"9\", \"10\", \"11\", \"12\", \"13\", \"14\", \n .             \"15\", \"16\", \"17\", \"18\", \"19\", \"20\", \"21\", \"22\", \"23\", \n .             \"24\", \"25\", \"26\", \"27\", \"28\", \"29\", \"30\", \"31\", \"32\", \n .             \"33\", \"34\", \"35\", \"36\", \"37\", \"38\", \"39\", \"40\", \"41\", \n .             \"42\", \"43\", \"44\", \"45\", \"46\", \"47\", \"48\", \"49\", \"50\", \n .             \"51\", \"52\", \"53\", \"54\", \"55\", \"56\", \"57\", \"58\", \"59\", \n .             \"60\", \"61\", \"62\", \"63\", \"64\", \"65\", \"66\", \"67\", \"68\", \n .             \"69\", \"70\", \"71\", \"72\", \"73\", \"74\", \"75\", \"76\", \"77\", \n .             \"78\", \"79\", \"80\", \"81\", \"82\", \"83\", \"84\", \"85\", \"86\", \n .             \"87\", \"88\", \"89\", \"90\", \"91\", \"92\", \"93\", \"94\", \"95\", \n .             \"96\", \"97\", \"98\", \"99\", \"100\"), c(\"(Intercept)\", \n .             \"x\"))), rank = 2L, qraux = c(1.1, 1.01394260203465\n .             ), pivot = 1:2, tol = 1e-11), class = \"qr\"), family = structure(list(\n .             family = \"gaussian\", link = \"identity\", linkfun = function (mu) \n .             mu, linkinv = function (eta) \n .             eta, variance = function (mu) \n .             rep.int(1, length(mu)), dev.resids = function (y, \n .                 mu, wt) \n .             wt * ((y - mu)^2), aic = function (y, n, mu, wt, \n .                 dev) \n .             {\n .                 nobs <- length(y)\n .                 nobs * (log(dev/nobs * 2 * pi) + 1) + 2 - sum(log(wt))\n .             }, mu.eta = function (eta) \n .             rep.int(1, length(eta)), initialize = expression(\n .                 {\n .                   n <- rep.int(1, nobs)\n .                   if (is.null(etastart) && is.null(start) && \n .                     is.null(mustart) && ((family$link == \"inverse\" && \n .                     any(y == 0)) || (family$link == \"log\" && \n .                     any(y <= 0)))) \n .                     stop(\"cannot find valid starting values: please specify some\")\n .                   mustart <- y\n .                 }), validmu = function (mu) \n .             TRUE, valideta = function (eta) \n .             TRUE), class = \"family\"), linear.predictors = c(`1` = -1.96929497540405, \n .         `2` = -1.80828235906502, `3` = -2.03991270880378, `4` = -1.78011038809478, \n .         `5` = -1.97761145761215, `6` = -1.38898926223471, `7` = -1.64432670637874, \n .         `8` = -1.59730571218834, `9` = -1.7251443161569, `10` = -1.40967505265947, \n .         `11` = -1.97303051222935, `12` = -1.93071850886812, `13` = -1.47041032980976, \n .         `14` = -1.97666643069242, `15` = -1.86892109288179, `16` = -1.91398811587868, \n .         `17` = -1.89629082942664, `18` = -1.88635528349584, `19` = -1.69840871904715, \n .         `20` = -1.86161754776033, `21` = -1.94148846631503, `22` = -1.49210043390373, \n .         `23` = -1.87067068745796, `24` = -1.86215857601225, `25` = -1.84286917238918, \n .         `26` = -1.64530888951381, `27` = -1.83639779258369, `28` = -1.82766515387053, \n .         `29` = -1.98419208528939, `30` = -1.89733042806987, `31` = -1.8038967296043, \n .         `32` = -1.961645838372, `33` = -1.68934125551168, `34` = -2.18755542901507, \n .         `35` = -1.74401123784526, `36` = -2.19194377436488, `37` = -1.89166891850148, \n .         `38` = -1.94691380897614, `39` = -1.97700631051202, `40` = -1.83234682080513, \n .         `41` = -2.28379255399955, `42` = -1.53255649974537, `43` = -2.22318046446929, \n .         `44` = -1.93117681050806, `45` = -2.08973641783073, `46` = -2.00100067086445, \n .         `47` = -1.31124442328925, `48` = -1.81429047608259, `49` = -2.13114641127129, \n .         `50` = -2.21725822756259, `51` = -1.70910296776316, `52` = -1.82302924431222, \n .         `53` = -1.89582309210338, `54` = -2.0443945671909, `55` = -2.18003715173656, \n .         `56` = -2.07983775561092, `57` = -1.57546706892606, `58` = -1.96951371955671, \n .         `59` = -2.15499545456318, `60` = -1.36419792736717, `61` = -1.7152001533393, \n .         `62` = -1.87652020321496, `63` = -1.56126009710838, `64` = -1.60307839817562, \n .         `65` = -1.96902188376737, `66` = -1.28233772458439, `67` = -1.88050125186142, \n .         `68` = -2.16473370617563, `69` = -1.85361388457709, `70` = -1.76807736943731, \n .         `71` = -1.25757735806643, `72` = -1.79280371870027, `73` = -1.70744742180738, \n .         `74` = -1.83726996469127, `75` = -1.89969538779999, `76` = -1.82695834621508, \n .         `77` = -1.62708705566623, `78` = -1.31414188505368, `79` = -1.56881649304376, \n .         `80` = -1.52494311564887, `81` = -2.11778453761287, `82` = -1.5793881596178, \n .         `83` = -1.76506690969964, `84` = -2.1751251578631, `85` = -1.69188676796805, \n .         `86` = -1.85710278636166, `87` = -1.4625587654315, `88` = -2.00471025582786, \n .         `89` = -1.92307890270517, `90` = -2.04360402908764, `91` = -1.86156249316008, \n .         `92` = -1.72081170575102, `93` = -1.99636561455661, `94` = -1.61670090636181, \n .         `95` = -2.11213603338362, `96` = -2.07322503418222, `97` = -1.46825319771346, \n .         `98` = -2.06541433185391, `99` = -1.71839027158545, `100` = -1.91113674956884\n .         ), deviance = 546.841795979118, aic = 459.686641976595, \n .         null.deviance = 552.207509589878, iter = 2L, weights = c(`1` = 1, \n .         `2` = 1, `3` = 1, `4` = 1, `5` = 1, `6` = 1, `7` = 1, \n .         `8` = 1, `9` = 1, `10` = 1, `11` = 1, `12` = 1, `13` = 1, \n .         `14` = 1, `15` = 1, `16` = 1, `17` = 1, `18` = 1, `19` = 1, \n .         `20` = 1, `21` = 1, `22` = 1, `23` = 1, `24` = 1, `25` = 1, \n .         `26` = 1, `27` = 1, `28` = 1, `29` = 1, `30` = 1, `31` = 1, \n .         `32` = 1, `33` = 1, `34` = 1, `35` = 1, `36` = 1, `37` = 1, \n .         `38` = 1, `39` = 1, `40` = 1, `41` = 1, `42` = 1, `43` = 1, \n .         `44` = 1, `45` = 1, `46` = 1, `47` = 1, `48` = 1, `49` = 1, \n .         `50` = 1, `51` = 1, `52` = 1, `53` = 1, `54` = 1, `55` = 1, \n .         `56` = 1, `57` = 1, `58` = 1, `59` = 1, `60` = 1, `61` = 1, \n .         `62` = 1, `63` = 1, `64` = 1, `65` = 1, `66` = 1, `67` = 1, \n .         `68` = 1, `69` = 1, `70` = 1, `71` = 1, `72` = 1, `73` = 1, \n .         `74` = 1, `75` = 1, `76` = 1, `77` = 1, `78` = 1, `79` = 1, \n .         `80` = 1, `81` = 1, `82` = 1, `83` = 1, `84` = 1, `85` = 1, \n .         `86` = 1, `87` = 1, `88` = 1, `89` = 1, `90` = 1, `91` = 1, \n .         `92` = 1, `93` = 1, `94` = 1, `95` = 1, `96` = 1, `97` = 1, \n .         `98` = 1, `99` = 1, `100` = 1), prior.weights = c(`1` = 1, \n .         `2` = 1, `3` = 1, `4` = 1, `5` = 1, `6` = 1, `7` = 1, \n .         `8` = 1, `9` = 1, `10` = 1, `11` = 1, `12` = 1, `13` = 1, \n .         `14` = 1, `15` = 1, `16` = 1, `17` = 1, `18` = 1, `19` = 1, \n .         `20` = 1, `21` = 1, `22` = 1, `23` = 1, `24` = 1, `25` = 1, \n .         `26` = 1, `27` = 1, `28` = 1, `29` = 1, `30` = 1, `31` = 1, \n .         `32` = 1, `33` = 1, `34` = 1, `35` = 1, `36` = 1, `37` = 1, \n .         `38` = 1, `39` = 1, `40` = 1, `41` = 1, `42` = 1, `43` = 1, \n .         `44` = 1, `45` = 1, `46` = 1, `47` = 1, `48` = 1, `49` = 1, \n .         `50` = 1, `51` = 1, `52` = 1, `53` = 1, `54` = 1, `55` = 1, \n .         `56` = 1, `57` = 1, `58` = 1, `59` = 1, `60` = 1, `61` = 1, \n .         `62` = 1, `63` = 1, `64` = 1, `65` = 1, `66` = 1, `67` = 1, \n .         `68` = 1, `69` = 1, `70` = 1, `71` = 1, `72` = 1, `73` = 1, \n .         `74` = 1, `75` = 1, `76` = 1, `77` = 1, `78` = 1, `79` = 1, \n .         `80` = 1, `81` = 1, `82` = 1, `83` = 1, `84` = 1, `85` = 1, \n .         `86` = 1, `87` = 1, `88` = 1, `89` = 1, `90` = 1, `91` = 1, \n .         `92` = 1, `93` = 1, `94` = 1, `95` = 1, `96` = 1, `97` = 1, \n .         `98` = 1, `99` = 1, `100` = 1), df.residual = 98L, df.null = 99L, \n .         y = c(`1` = -0.980674465993391, `2` = 1.72744166580688, \n .         `3` = -0.983889714713485, `4` = -0.222825214093769, `5` = -3.79678229131994, \n .         `6` = -1.98165972576644, `7` = 0.356434430424792, `8` = -0.205332690615534, \n .         `9` = 0.075589056344123, `10` = -3.467148228271, `11` = -1.60843396347788, \n .         `12` = -0.467181801245413, `13` = -3.07082932711982, \n .         `14` = -2.86771571928065, `15` = 0.694443978219105, `16` = 0.818340957192564, \n .         `17` = -0.833524309617924, `18` = -1.68821153038122, \n .         `19` = 0.647985423423092, `20` = -0.284931819047528, \n .         `21` = -2.7511617758773, `22` = -2.26233588697956, `23` = -0.936968387619663, \n .         `24` = -0.585006204866236, `25` = -1.27683947309926, \n .         `26` = 1.5000216845563, `27` = -0.41551988362647, `28` = -1.64598024544415, \n .         `29` = -1.41378905661096, `30` = -0.271397044766249, \n .         `31` = -0.932904817161325, `32` = -4.17140858983328, \n .         `33` = -0.673961915498384, `34` = -5.55892762107658, \n .         `35` = 0.0588791407231609, `36` = -6.35598468804018, \n .         `37` = 0.0786713439323703, `38` = -2.27289785790533, \n .         `39` = -0.405772942389556, `40` = -0.0687152927843893, \n .         `41` = -8.53659277966174, `42` = -0.558005533485115, \n .         `43` = -6.98575844798817, `44` = -1.77195888051671, `45` = -2.44351091075318, \n .         `46` = -3.87844229108518, `47` = -7.17015257275371, `48` = -0.238880304632762, \n .         `49` = -4.76155967639059, `50` = -6.00331466476421, `51` = 0.181072142070881, \n .         `52` = 0.387918835928408, `53` = -0.590058169326676, \n .         `54` = -2.90445449131255, `55` = -5.21698585201425, `56` = -2.24104088880328, \n .         `57` = -3.40318262769292, `58` = -0.820471751678521, \n .         `59` = -4.84297783212376, `60` = -5.54447196129397, `61` = 1.01469252326487, \n .         `62` = -0.741789160179802, `63` = -1.46662034189924, \n .         `64` = 0.172342195713597, `65` = 0.333460345324249, `66` = -7.25761880262535, \n .         `67` = -0.807288612133748, `68` = -6.67197796204222, \n .         `69` = -0.517135070922303, `70` = -0.818435311780316, \n .         `71` = -8.60448276510865, `72` = 0.477793254011451, `73` = -0.812554102917304, \n .         `74` = 2.56010879487009, `75` = -0.401102292104588, `76` = 1.09306944505912, \n .         `77` = -2.74223667092442, `78` = -5.79703752602472, `79` = -2.39992316814572, \n .         `80` = -0.790373321790419, `81` = -3.8655080030609, `82` = -1.35973399475772, \n .         `83` = 1.44744959530757, `84` = -6.47412699408154, `85` = -0.602520958305575, \n .         `86` = -1.21023283477851, `87` = -3.49362328354943, `88` = -0.994660306468146, \n .         `89` = -0.366673910819937, `90` = -1.63630788196577, \n .         `91` = -0.62995425180325, `92` = 0.455155129569442, `93` = -1.55849402636088, \n .         `94` = -1.97492337060871, `95` = -2.34858153595933, `96` = -3.11007941085004, \n .         `97` = -1.94711436599119, `98` = -2.12460293392743, `99` = 0.0219626836970465, \n .         `100` = -0.977329384333426), converged = TRUE, boundary = FALSE, \n .         model = structure(list(y = c(-0.980674465993391, 1.72744166580688, \n .         -0.983889714713485, -0.222825214093769, -3.79678229131994, \n .         -1.98165972576644, 0.356434430424792, -0.205332690615534, \n .         0.075589056344123, -3.467148228271, -1.60843396347788, \n .         -0.467181801245413, -3.07082932711982, -2.86771571928065, \n .         0.694443978219105, 0.818340957192564, -0.833524309617924, \n .         -1.68821153038122, 0.647985423423092, -0.284931819047528, \n .         -2.7511617758773, -2.26233588697956, -0.936968387619663, \n .         -0.585006204866236, -1.27683947309926, 1.5000216845563, \n .         -0.41551988362647, -1.64598024544415, -1.41378905661096, \n .         -0.271397044766249, -0.932904817161325, -4.17140858983328, \n .         -0.673961915498384, -5.55892762107658, 0.0588791407231609, \n .         -6.35598468804018, 0.0786713439323703, -2.27289785790533, \n .         -0.405772942389556, -0.0687152927843893, -8.53659277966174, \n .         -0.558005533485115, -6.98575844798817, -1.77195888051671, \n .         -2.44351091075318, -3.87844229108518, -7.17015257275371, \n .         -0.238880304632762, -4.76155967639059, -6.00331466476421, \n .         0.181072142070881, 0.387918835928408, -0.590058169326676, \n .         -2.90445449131255, -5.21698585201425, -2.24104088880328, \n .         -3.40318262769292, -0.820471751678521, -4.84297783212376, \n .         -5.54447196129397, 1.01469252326487, -0.741789160179802, \n .         -1.46662034189924, 0.172342195713597, 0.333460345324249, \n .         -7.25761880262535, -0.807288612133748, -6.67197796204222, \n .         -0.517135070922303, -0.818435311780316, -8.60448276510865, \n .         0.477793254011451, -0.812554102917304, 2.56010879487009, \n .         -0.401102292104588, 1.09306944505912, -2.74223667092442, \n .         -5.79703752602472, -2.39992316814572, -0.790373321790419, \n .         -3.8655080030609, -1.35973399475772, 1.44744959530757, \n .         -6.47412699408154, -0.602520958305575, -1.21023283477851, \n .         -3.49362328354943, -0.994660306468146, -0.366673910819937, \n .         -1.63630788196577, -0.62995425180325, 0.455155129569442, \n .         -1.55849402636088, -1.97492337060871, -2.34858153595933, \n .         -3.11007941085004, -1.94711436599119, -2.12460293392743, \n .         0.0219626836970465, -0.977329384333426), x = c(-0.620366677224124, \n .         0.0421158731442352, -0.910921648552446, 0.158028772404075, \n .         -0.654584643918818, 1.76728726937265, 0.716707476017206, \n .         0.910174229495227, 0.384185357826345, 1.68217608051942, \n .         -0.635736453948977, -0.461644730360566, 1.43228223854166, \n .         -0.650696353310367, -0.207380743601965, -0.392807929441984, \n .         -0.319992868548507, -0.279113302976559, 0.494188331267827, \n .         -0.177330482269606, -0.505957462114257, 1.34303882517041, \n .         -0.214579408546869, -0.179556530043387, -0.100190741213562, \n .         0.712666307051405, -0.0735644041263263, -0.0376341714670479, \n .         -0.681660478755657, -0.324270272246319, 0.0601604404345152, \n .         -0.588894486259664, 0.531496192632572, -1.51839408178679, \n .         0.306557860789766, -1.53644982353759, -0.300976126836611, \n .         -0.528279904445006, -0.652094780680999, -0.0568967778473925, \n .         -1.91435942568001, 1.17658331201856, -1.664972436212, \n .         -0.463530401472386, -1.11592010504285, -0.750819001193448, \n .         2.08716654562835, 0.0173956196932517, -1.28630053043433, \n .         -1.64060553441858, 0.450187101272656, -0.018559832714638, \n .         -0.318068374543844, -0.929362147453702, -1.48746031014148, \n .         -1.07519229661568, 1.00002880371391, -0.621266694796823, \n .         -1.38442684738449, 1.86929062242358, 0.425100377372448, \n .         -0.238647100913033, 1.05848304870902, 0.886422651374936, \n .         -0.619243048231147, 2.20610246454047, -0.255027030141015, \n .         -1.42449465021281, -0.144399601954219, 0.207538339232345, \n .         2.30797839905936, 0.105802367893711, 0.456998805423414, \n .         -0.077152935356531, -0.334000842366544, -0.0347260283112762, \n .         0.787639605630162, 2.07524500865228, 1.02739243876377, \n .         1.2079083983867, -1.23132342155804, 0.983895570053379, \n .         0.219924803660651, -1.46725002909224, 0.521022742648139, \n .         -0.158754604716016, 1.4645873119698, -0.766081999604665, \n .         -0.430211753928547, -0.926109497377437, -0.17710396143654, \n .         0.402011779486338, -0.731748173119606, 0.830373167981674, \n .         -1.20808278630446, -1.04798441280774, 1.44115770684428, \n .         -1.01584746530465, 0.411974712317515, -0.38107605110892\n .         )), terms = y ~ x, row.names = c(NA, 100L), class = \"data.frame\"), \n .         call = glm(formula = y ~ x, data = df), formula = y ~ \n .             x, terms = y ~ x, data = structure(list(y = c(-0.980674465993391, \n .         1.72744166580688, -0.983889714713485, -0.222825214093769, \n .         -3.79678229131994, -1.98165972576644, 0.356434430424792, \n .         -0.205332690615534, 0.075589056344123, -3.467148228271, \n .         -1.60843396347788, -0.467181801245413, -3.07082932711982, \n .         -2.86771571928065, 0.694443978219105, 0.818340957192564, \n .         -0.833524309617924, -1.68821153038122, 0.647985423423092, \n .         -0.284931819047528, -2.7511617758773, -2.26233588697956, \n .         -0.936968387619663, -0.585006204866236, -1.27683947309926, \n .         1.5000216845563, -0.41551988362647, -1.64598024544415, \n .         -1.41378905661096, -0.271397044766249, -0.932904817161325, \n .         -4.17140858983328, -0.673961915498384, -5.55892762107658, \n .         0.0588791407231609, -6.35598468804018, 0.0786713439323703, \n .         -2.27289785790533, -0.405772942389556, -0.0687152927843893, \n .         -8.53659277966174, -0.558005533485115, -6.98575844798817, \n .         -1.77195888051671, -2.44351091075318, -3.87844229108518, \n .         -7.17015257275371, -0.238880304632762, -4.76155967639059, \n .         -6.00331466476421, 0.181072142070881, 0.387918835928408, \n .         -0.590058169326676, -2.90445449131255, -5.21698585201425, \n .         -2.24104088880328, -3.40318262769292, -0.820471751678521, \n .         -4.84297783212376, -5.54447196129397, 1.01469252326487, \n .         -0.741789160179802, -1.46662034189924, 0.172342195713597, \n .         0.333460345324249, -7.25761880262535, -0.807288612133748, \n .         -6.67197796204222, -0.517135070922303, -0.818435311780316, \n .         -8.60448276510865, 0.477793254011451, -0.812554102917304, \n .         2.56010879487009, -0.401102292104588, 1.09306944505912, \n .         -2.74223667092442, -5.79703752602472, -2.39992316814572, \n .         -0.790373321790419, -3.8655080030609, -1.35973399475772, \n .         1.44744959530757, -6.47412699408154, -0.602520958305575, \n .         -1.21023283477851, -3.49362328354943, -0.994660306468146, \n .         -0.366673910819937, -1.63630788196577, -0.62995425180325, \n .         0.455155129569442, -1.55849402636088, -1.97492337060871, \n .         -2.34858153595933, -3.11007941085004, -1.94711436599119, \n .         -2.12460293392743, 0.0219626836970465, -0.977329384333426\n .         ), x = c(-0.620366677224124, 0.0421158731442352, -0.910921648552446, \n .         0.158028772404075, -0.654584643918818, 1.76728726937265, \n .         0.716707476017206, 0.910174229495227, 0.384185357826345, \n .         1.68217608051942, -0.635736453948977, -0.461644730360566, \n .         1.43228223854166, -0.650696353310367, -0.207380743601965, \n .         -0.392807929441984, -0.319992868548507, -0.279113302976559, \n .         0.494188331267827, -0.177330482269606, -0.505957462114257, \n .         1.34303882517041, -0.214579408546869, -0.179556530043387, \n .         -0.100190741213562, 0.712666307051405, -0.0735644041263263, \n .         -0.0376341714670479, -0.681660478755657, -0.324270272246319, \n .         0.0601604404345152, -0.588894486259664, 0.531496192632572, \n .         -1.51839408178679, 0.306557860789766, -1.53644982353759, \n .         -0.300976126836611, -0.528279904445006, -0.652094780680999, \n .         -0.0568967778473925, -1.91435942568001, 1.17658331201856, \n .         -1.664972436212, -0.463530401472386, -1.11592010504285, \n .         -0.750819001193448, 2.08716654562835, 0.0173956196932517, \n .         -1.28630053043433, -1.64060553441858, 0.450187101272656, \n .         -0.018559832714638, -0.318068374543844, -0.929362147453702, \n .         -1.48746031014148, -1.07519229661568, 1.00002880371391, \n .         -0.621266694796823, -1.38442684738449, 1.86929062242358, \n .         0.425100377372448, -0.238647100913033, 1.05848304870902, \n .         0.886422651374936, -0.619243048231147, 2.20610246454047, \n .         -0.255027030141015, -1.42449465021281, -0.144399601954219, \n .         0.207538339232345, 2.30797839905936, 0.105802367893711, \n .         0.456998805423414, -0.077152935356531, -0.334000842366544, \n .         -0.0347260283112762, 0.787639605630162, 2.07524500865228, \n .         1.02739243876377, 1.2079083983867, -1.23132342155804, \n .         0.983895570053379, 0.219924803660651, -1.46725002909224, \n .         0.521022742648139, -0.158754604716016, 1.4645873119698, \n .         -0.766081999604665, -0.430211753928547, -0.926109497377437, \n .         -0.17710396143654, 0.402011779486338, -0.731748173119606, \n .         0.830373167981674, -1.20808278630446, -1.04798441280774, \n .         1.44115770684428, -1.01584746530465, 0.411974712317515, \n .         -0.38107605110892), x2 = c(0.384854814210101, 0.00177374677070132, \n .         0.829778249801505, 0.0249730929075389, 0.428481056054325, \n .         3.12330429248662, 0.513669606178954, 0.828417128037231, \n .         0.147598389168156, 2.82971636587167, 0.40416083887962, \n .         0.21311585706968, 2.05143241084192, 0.42340574421141, \n .         0.0430067728169041, 0.154298069432499, 0.102395435921902, \n .         0.0779042358984844, 0.24422210676128, 0.0314460999419712, \n .         0.2559929534691, 1.80375328591512, 0.046044322572324, \n .         0.0322405474812218, 0.0100381846249229, 0.507893265206288, \n .         0.00541172155446146, 0.00141633086201116, 0.464661008297391, \n .         0.105151209462702, 0.00361927859327485, 0.346796715947033, \n .         0.282488202782921, 2.30552058760514, 0.0939777220119973, \n .         2.36067806024868, 0.0905866289255676, 0.279079657440425, \n .         0.4252276029914, 0.00323724332941554, 3.6647720106899, \n .         1.38434829012057, 2.77213321334573, 0.214860433089151, \n .         1.24527768083884, 0.563729172553127, 4.35626418919017, \n .         0.000302607584512245, 1.65456905459563, 2.69158651956487, \n .         0.202668426152276, 0.000344467390395346, 0.101167490884963, \n .         0.863714001119757, 2.2125381742462, 1.1560384747017, \n .         1.00005760825748, 0.385972306063769, 1.91663769575896, \n .         3.49424743108074, 0.180710330842198, 0.0569524387741952, \n .         1.12038636440434, 0.785745116870571, 0.383461952782603, \n .         4.86688808405152, 0.0650387861025463, 2.02918500848491, \n .         0.020851245044537, 0.0430721622513198, 5.32676429052461, \n .         0.0111941410519163, 0.208847908158427, 0.00595257543412905, \n .         0.111556562701561, 0.00120589704227556, 0.620376148357237, \n .         4.30664184593622, 1.05553522322896, 1.45904269889313, \n .         1.51615736847741, 0.968050492770664, 0.048366919265176, \n .         2.15282264787119, 0.271464698356589, 0.0252030245185385, \n .         2.14501599438292, 0.586881630118282, 0.185082153218276, \n .         0.857678801132689, 0.0313658131565155, 0.161613470845772, \n .         0.535455388863881, 0.689519598103921, 1.45946401856516, \n .         1.09827132948799, 2.07693553599667, 1.03194607276588, \n .         0.169723163589099, 0.145218956728768), x3 = c(-0.238751102305228, \n .         7.47028939848535e-05, -0.75586297124215, 0.00394646721531129, \n .         -0.28047711950328, 5.51977591448855, 0.36815084695127, \n .         0.754003921211935, 0.0567051399571602, 4.76008118532366, \n .         -0.256939778534373, -0.0983838123724932, 2.93823020561758, \n .         -0.275508573729026, -0.00891877652669037, -0.0606095051706752, \n .         -0.0327658092669242, -0.021744108597491, 0.12069171539907, \n .         -0.00557635206820799, -0.129521545056359, 2.42251069401271, \n .         -0.00988016350451052, -0.00578900083242725, -0.00100573315800961, \n .         0.361958417690845, -0.000398110071451554, -5.33024385149999e-05, \n .         -0.316741045375086, -0.0340974113195001, 0.000217737394226627, \n .         -0.204226673874167, 0.15014140424274, -3.50068881565724, \n .         0.0288096094218932, -3.62706338909813, -0.0272644127172026, \n .         -0.147432174765173, -0.277288700512184, -0.000184188714551709, \n .         -7.01569084163251, 1.62880109617729, -4.61552538972845, \n .         -0.0995943428103448, -1.38963040040918, -0.423258574279947, \n .         9.09224887959651, 5.26404645646853e-06, -2.12827305256658, \n .         -4.41583174036456, 0.0912387112889845, -6.39325714138552e-06, \n .         -0.0321781793824595, -0.802703098866487, -3.29106271886413, \n .         -1.24296366259061, 1.00008641363073, -0.239791738871346, \n .         -2.65344468271786, 6.53176395534691, 0.0768200298361181, \n .         -0.0135915344033887, 1.18590997472672, 0.696502269801321, \n .         -0.237456148521767, 10.7368537968687, -0.0165866484637091, \n .         -2.89056318887879, -0.00301091148468103, 0.00893912502078501, \n .         12.2940569194116, 0.00118436662982894, 0.0954432445435799, \n .         -0.000459258667674233, -0.0372599859138377, -4.18760148305452e-05, \n .         0.488632824834453, 8.93733699483221, 1.08444890719426, \n .         1.76238992959782, -1.86688007857404, 0.952460591425047, \n .         0.0106370852230644, -3.15872909271944, 0.141439281669899, \n .         -0.00400109619508864, 3.1415632093455, -0.449599452732259, \n .         -0.0796245177569066, -0.794304483428278, -0.00555500976369725, \n .         0.0649705190036722, -0.391818502588194, 0.572558573063004, \n .         -1.76315335805931, -1.15097123433705, 2.99319165432035, \n .         -1.04829980235031, 0.0699216514932376, -0.055339466576356\n .         ), x4 = c(0.148113228020691, 3.14617760657334e-06, 0.688531943843649, \n .         0.000623655369368571, 0.18359601539743, 9.75502970346537, \n .         0.263856464312041, 0.686274938025453, 0.0217852844850346, \n .         8.00729471128199, 0.163345983683878, 0.0454183685345442, \n .         4.20837493625268, 0.179272424231218, 0.0018495825081248, \n .         0.0238078942305962, 0.0104848252976363, 0.0060690699709267, \n .         0.0596444374309178, 0.00098885720156044, 0.0655323922258329, \n .         3.25352591644959, 0.00212007964114422, 0.00103945290188892, \n .         0.000100765150564039, 0.257955568841905, 2.92867301830228e-05, \n .         2.00599311068529e-06, 0.215909852631948, 0.011056776851469, \n .         1.30991775357376e-05, 0.120267962191647, 0.0797995847115244, \n .         5.31542517987115, 0.00883181223456424, 5.57280090413947, \n .         0.00820593734009847, 0.0778854551970649, 0.180818514345812, \n .         1.04797443738454e-05, 13.4305538903361, 1.91642018835975, \n .         7.68472255253454, 0.0461650057072575, 1.55071650239535, \n .         0.317790579987433, 18.9770376860207, 9.15713502043355e-08, \n .         2.73759875642547, 7.24463799230333, 0.0410744909590406, \n .         1.1865778304578e-07, 0.0102348612119591, 0.7460018757303, \n .         4.89532517249672, 1.33642495499064, 1.00011521983368, \n .         0.148974621048184, 3.67350005680422, 12.2097651096143, \n .         0.0326562236730965, 0.00324358028232846, 1.25526560554318, \n .         0.617395388685948, 0.147043069231847, 23.6865996226827, \n .         0.00423004369769277, 4.11759179865991, 0.000434774419907329, \n .         0.00185521116100402, 28.3744178068082, 0.000125308793890197, \n .         0.0436174487421508, 3.54331542989966e-05, 0.0124448666817874, \n .         1.45418767656893e-06, 0.38486656545056, 18.547163989169, \n .         1.11415460747702, 2.12880559719335, 2.29873316598834, \n .         0.937121756553525, 0.00233935887920405, 4.63464535318711, \n .         0.0736930824538336, 0.000635192444882052, 4.60109361615853, \n .         0.344430047770292, 0.0342554034399135, 0.735612925912407, \n .         0.000983814234969443, 0.0261189139588172, 0.28671247346337, \n .         0.475437276169393, 2.13003522148636, 1.20619991317531, \n .         4.31366122068576, 1.06491269709692, 0.0288059522586921, \n .         0.0210885453933918)), class = \"data.frame\", row.names = c(NA, \n .         -100L)), offset = NULL, control = list(epsilon = 1e-08, \n .             maxit = 25, trace = FALSE), method = \"glm.fit\", contrasts = NULL, \n .         xlevels = structure(list(), .Names = character(0))), class = c(\"glm\", \n .     \"lm\")), control = list(epsilon = 1e-08, maxit = 25, trace = FALSE), \n .     intercept = TRUE, singular.ok = TRUE)",
      "5. stop(\"'family' argument seems not to be a valid family object\", \n .     call. = FALSE)"
     ]
    }
   ],
   "source": [
    "#d \n",
    "set.seed(2)\n",
    "df <- data.frame(y, x, x2=x^2, x3=x^3, x4=x^4)\n",
    "fit1 <- glm(y ~ x, data=df)\n",
    "cv.err1 <- cv.glm(df, fit1)\n",
    "cv.err1$delta\n",
    "fit2 <- glm(y ~ x + x2, data=df)\n",
    "cv.err2 <- cv.glm(df, fit2)\n",
    "cv.err2$delta\n",
    "fit3 <- glm(y ~ x + x2 + x3, data=df)\n",
    "cv.err3 <- cv.glm(df, fit3)\n",
    "cv.err3$delta\n",
    "fit4 <- glm(y ~ x + x2 + x3 + x4, data=df)\n",
    "cv.err4 <- cv.glm(df, fit4)\n",
    "cv.err4$delta"
   ]
  },
  {
   "cell_type": "code",
   "execution_count": 48,
   "metadata": {},
   "outputs": [],
   "source": [
    "#exactly the same\n"
   ]
  },
  {
   "cell_type": "code",
   "execution_count": null,
   "metadata": {},
   "outputs": [],
   "source": [
    "#e\n",
    "quadratic polynomial has the lowest error rate, this was espected"
   ]
  },
  {
   "cell_type": "code",
   "execution_count": 49,
   "metadata": {
    "scrolled": true
   },
   "outputs": [
    {
     "data": {
      "text/plain": [
       "\n",
       "Call:\n",
       "glm(formula = y ~ poly(x, 4))\n",
       "\n",
       "Deviance Residuals: \n",
       "    Min       1Q   Median       3Q      Max  \n",
       "-2.8914  -0.5244   0.0749   0.5932   2.7796  \n",
       "\n",
       "Coefficients:\n",
       "            Estimate Std. Error t value Pr(>|t|)    \n",
       "(Intercept)  -1.8277     0.1041 -17.549   <2e-16 ***\n",
       "poly(x, 4)1   2.3164     1.0415   2.224   0.0285 *  \n",
       "poly(x, 4)2 -21.0586     1.0415 -20.220   <2e-16 ***\n",
       "poly(x, 4)3  -0.3048     1.0415  -0.293   0.7704    \n",
       "poly(x, 4)4  -0.4926     1.0415  -0.473   0.6373    \n",
       "---\n",
       "Signif. codes:  0 '***' 0.001 '**' 0.01 '*' 0.05 '.' 0.1 ' ' 1\n",
       "\n",
       "(Dispersion parameter for gaussian family taken to be 1.084654)\n",
       "\n",
       "    Null deviance: 552.21  on 99  degrees of freedom\n",
       "Residual deviance: 103.04  on 95  degrees of freedom\n",
       "AIC: 298.78\n",
       "\n",
       "Number of Fisher Scoring iterations: 2\n"
      ]
     },
     "metadata": {},
     "output_type": "display_data"
    }
   ],
   "source": [
    "#f\n",
    "summary(glm.fit)"
   ]
  },
  {
   "cell_type": "code",
   "execution_count": 51,
   "metadata": {},
   "outputs": [],
   "source": [
    "#p-values show statistical significance"
   ]
  },
  {
   "cell_type": "raw",
   "metadata": {},
   "source": [
    "chap6 ex1\n",
    "a\n",
    "Best subset selection has the smallest training RSS\n",
    "\n",
    "b ()\n",
    "Best subset selection may have the smallest test RSS because it considers more\n",
    "models however the other models can have more luck and fit a model test data better.\n",
    "c\n",
    "i True\n",
    "ii True\n",
    "iii False\n",
    "iv False\n",
    "v False"
   ]
  },
  {
   "cell_type": "code",
   "execution_count": 52,
   "metadata": {},
   "outputs": [
    {
     "data": {
      "text/html": [
       "0"
      ],
      "text/latex": [
       "0"
      ],
      "text/markdown": [
       "0"
      ],
      "text/plain": [
       "[1] 0"
      ]
     },
     "metadata": {},
     "output_type": "display_data"
    }
   ],
   "source": [
    "#chap6 ex9a\n",
    "library(ISLR)\n",
    "set.seed(11)\n",
    "sum(is.na(College))\n",
    "train.size = dim(College)[1] / 2\n",
    "train = sample(1:dim(College)[1], train.size)\n",
    "test = -train\n",
    "College.train = College[train, ]\n",
    "College.test = College[test, ]\n"
   ]
  },
  {
   "cell_type": "code",
   "execution_count": 54,
   "metadata": {},
   "outputs": [
    {
     "data": {
      "text/html": [
       "1026095.92589411"
      ],
      "text/latex": [
       "1026095.92589411"
      ],
      "text/markdown": [
       "1026095.92589411"
      ],
      "text/plain": [
       "[1] 1026096"
      ]
     },
     "metadata": {},
     "output_type": "display_data"
    }
   ],
   "source": [
    "### b\n",
    "#NUmber of applications is the Apps variable.\n",
    "\n",
    "lm.fit = lm(Apps~., data=College.train)\n",
    "lm.pred = predict(lm.fit, College.test)\n",
    "mean((College.test[, \"Apps\"] - lm.pred)^2)\n",
    "\n",
    "#Test RSS is $1538442$"
   ]
  },
  {
   "cell_type": "code",
   "execution_count": 55,
   "metadata": {},
   "outputs": [
    {
     "name": "stderr",
     "output_type": "stream",
     "text": [
      "Loading required package: Matrix\n",
      "Loading required package: foreach\n",
      "Loaded glmnet 2.0-16\n",
      "\n"
     ]
    },
    {
     "data": {
      "text/html": [
       "0.01"
      ],
      "text/latex": [
       "0.01"
      ],
      "text/markdown": [
       "0.01"
      ],
      "text/plain": [
       "[1] 0.01"
      ]
     },
     "metadata": {},
     "output_type": "display_data"
    },
    {
     "data": {
      "text/html": [
       "1026068.65314469"
      ],
      "text/latex": [
       "1026068.65314469"
      ],
      "text/markdown": [
       "1026068.65314469"
      ],
      "text/plain": [
       "[1] 1026069"
      ]
     },
     "metadata": {},
     "output_type": "display_data"
    }
   ],
   "source": [
    "#C\n",
    "library(glmnet)\n",
    "train.mat = model.matrix(Apps~., data=College.train)\n",
    "test.mat = model.matrix(Apps~., data=College.test)\n",
    "grid = 10 ^ seq(4, -2, length=100)\n",
    "mod.ridge = cv.glmnet(train.mat, College.train[, \"Apps\"], alpha=0, lambda=grid, thresh=1e-12)\n",
    "lambda.best = mod.ridge$lambda.min\n",
    "lambda.best\n",
    "ridge.pred = predict(mod.ridge, newx=test.mat, s=lambda.best)\n",
    "mean((College.test[, \"Apps\"] - ridge.pred)^2)\n",
    "\n",
    "#Test RSS is slightly higher that OLS, $1608859$."
   ]
  },
  {
   "cell_type": "code",
   "execution_count": 56,
   "metadata": {},
   "outputs": [
    {
     "data": {
      "text/html": [
       "0.01"
      ],
      "text/latex": [
       "0.01"
      ],
      "text/markdown": [
       "0.01"
      ],
      "text/plain": [
       "[1] 0.01"
      ]
     },
     "metadata": {},
     "output_type": "display_data"
    },
    {
     "data": {
      "text/html": [
       "1026035.85789427"
      ],
      "text/latex": [
       "1026035.85789427"
      ],
      "text/markdown": [
       "1026035.85789427"
      ],
      "text/plain": [
       "[1] 1026036"
      ]
     },
     "metadata": {},
     "output_type": "display_data"
    },
    {
     "data": {
      "text/plain": [
       "19 x 1 sparse Matrix of class \"dgCMatrix\"\n",
       "                        1\n",
       "(Intercept) -471.39372069\n",
       "(Intercept)    .         \n",
       "PrivateYes  -491.04485135\n",
       "Accept         1.57033288\n",
       "Enroll        -0.75961467\n",
       "Top10perc     48.14698891\n",
       "Top25perc    -12.84690694\n",
       "F.Undergrad    0.04149116\n",
       "P.Undergrad    0.04438973\n",
       "Outstate      -0.08328388\n",
       "Room.Board     0.14943472\n",
       "Books          0.01532293\n",
       "Personal       0.02909954\n",
       "PhD           -8.39597537\n",
       "Terminal      -3.26800340\n",
       "S.F.Ratio     14.59298267\n",
       "perc.alumni   -0.04404771\n",
       "Expend         0.07712632\n",
       "Grad.Rate      8.28950241"
      ]
     },
     "metadata": {},
     "output_type": "display_data"
    }
   ],
   "source": [
    "#9d\n",
    "#Pick $\\lambda$ using College.train and report error on College.test\n",
    "\n",
    "mod.lasso = cv.glmnet(train.mat, College.train[, \"Apps\"], alpha=1, lambda=grid, thresh=1e-12)\n",
    "lambda.best = mod.lasso$lambda.min\n",
    "lambda.best\n",
    "lasso.pred = predict(mod.lasso, newx=test.mat, s=lambda.best)\n",
    "mean((College.test[, \"Apps\"] - lasso.pred)^2)\n",
    "\n",
    "#Again, Test RSS is slightly higher that OLS, $1635280$.\n",
    "\n",
    "#The coefficients look like\n",
    "mod.lasso = glmnet(model.matrix(Apps~., data=College), College[, \"Apps\"], alpha=1)\n",
    "predict(mod.lasso, s=lambda.best, type=\"coefficients\")\n"
   ]
  },
  {
   "cell_type": "code",
   "execution_count": 58,
   "metadata": {},
   "outputs": [
    {
     "ename": "ERROR",
     "evalue": "Error in library(pls): there is no package called 'pls'\n",
     "output_type": "error",
     "traceback": [
      "Error in library(pls): there is no package called 'pls'\nTraceback:\n",
      "1. library(pls)"
     ]
    }
   ],
   "source": [
    "\n",
    "### e\n",
    "#Use validation to fit pcr\n",
    "\n",
    "library(pls)\n",
    "pcr.fit = pcr(Apps~., data=College.train, scale=T, validation=\"CV\")\n",
    "validationplot(pcr.fit, val.type=\"MSEP\")\n",
    "pcr.pred = predict(pcr.fit, College.test, ncomp=10)\n",
    "mean((College.test[, \"Apps\"] - data.frame(pcr.pred))^2)\n",
    "\n",
    "#Test RSS for PCR is about $3014496$."
   ]
  },
  {
   "cell_type": "code",
   "execution_count": 59,
   "metadata": {},
   "outputs": [
    {
     "ename": "ERROR",
     "evalue": "Error in plsr(Apps ~ ., data = College.train, scale = T, validation = \"CV\"): could not find function \"plsr\"\n",
     "output_type": "error",
     "traceback": [
      "Error in plsr(Apps ~ ., data = College.train, scale = T, validation = \"CV\"): could not find function \"plsr\"\nTraceback:\n"
     ]
    }
   ],
   "source": [
    "#9f\n",
    "#Use validation to fit pls\n",
    "\n",
    "pls.fit = plsr(Apps~., data=College.train, scale=T, validation=\"CV\")\n",
    "validationplot(pls.fit, val.type=\"MSEP\")\n",
    "pls.pred = predict(pls.fit, College.test, ncomp=10)\n",
    "mean((College.test[, \"Apps\"] - data.frame(pls.pred))^2)\n",
    "\n",
    "#Test RSS for PLS is about $1508987$.\n"
   ]
  },
  {
   "cell_type": "code",
   "execution_count": 60,
   "metadata": {},
   "outputs": [
    {
     "ename": "ERROR",
     "evalue": "Error in data.frame(pcr.pred): object 'pcr.pred' not found\n",
     "output_type": "error",
     "traceback": [
      "Error in data.frame(pcr.pred): object 'pcr.pred' not found\nTraceback:\n",
      "1. mean((College.test[, \"Apps\"] - data.frame(pcr.pred))^2)",
      "2. data.frame(pcr.pred)"
     ]
    }
   ],
   "source": [
    "### g\n",
    "#Results for OLS, Lasso, Ridge are comparable. Lasso reduces the $F.Undergrad$ and $Books$ variables to zero and shrinks coefficients of other variables. Here are the test $R^2$ for all models.\n",
    "test.avg = mean(College.test[, \"Apps\"])\n",
    "lm.test.r2 = 1 - mean((College.test[, \"Apps\"] - lm.pred)^2) /mean((College.test[, \"Apps\"] - test.avg)^2)\n",
    "ridge.test.r2 = 1 - mean((College.test[, \"Apps\"] - ridge.pred)^2) /mean((College.test[, \"Apps\"] - test.avg)^2)\n",
    "lasso.test.r2 = 1 - mean((College.test[, \"Apps\"] - lasso.pred)^2) /mean((College.test[, \"Apps\"] - test.avg)^2)\n",
    "pcr.test.r2 = 1 - mean((College.test[, \"Apps\"] - data.frame(pcr.pred))^2) /mean((College.test[, \"Apps\"] - test.avg)^2)\n",
    "pls.test.r2 = 1 - mean((College.test[, \"Apps\"] - data.frame(pls.pred))^2) /mean((College.test[, \"Apps\"] - test.avg)^2)\n",
    "barplot(c(lm.test.r2, ridge.test.r2, lasso.test.r2, pcr.test.r2, pls.test.r2), col=\"red\", names.arg=c(\"OLS\", \"Ridge\", \"Lasso\", \"PCR\", \"PLS\"), main=\"Test R-squared\")\n",
    "\n",
    "#The plot shows that test $R^2$ for all models except PCR are around 0.9, with PLS having slightly higher test $R^2$ than others. PCR has a smaller test $R^2$ of less than 0.8. All models except PCR predict college applications with high accuracy. "
   ]
  },
  {
   "cell_type": "code",
   "execution_count": null,
   "metadata": {},
   "outputs": [],
   "source": [
    "chap7"
   ]
  },
  {
   "cell_type": "code",
   "execution_count": 61,
   "metadata": {},
   "outputs": [],
   "source": [
    "set.seed(1)\n",
    "library(MASS)\n",
    "attach(Boston)"
   ]
  },
  {
   "cell_type": "code",
   "execution_count": 62,
   "metadata": {},
   "outputs": [
    {
     "data": {
      "text/plain": [
       "\n",
       "Call:\n",
       "lm(formula = nox ~ poly(dis, 3), data = Boston)\n",
       "\n",
       "Residuals:\n",
       "      Min        1Q    Median        3Q       Max \n",
       "-0.121130 -0.040619 -0.009738  0.023385  0.194904 \n",
       "\n",
       "Coefficients:\n",
       "               Estimate Std. Error t value Pr(>|t|)    \n",
       "(Intercept)    0.554695   0.002759 201.021  < 2e-16 ***\n",
       "poly(dis, 3)1 -2.003096   0.062071 -32.271  < 2e-16 ***\n",
       "poly(dis, 3)2  0.856330   0.062071  13.796  < 2e-16 ***\n",
       "poly(dis, 3)3 -0.318049   0.062071  -5.124 4.27e-07 ***\n",
       "---\n",
       "Signif. codes:  0 '***' 0.001 '**' 0.01 '*' 0.05 '.' 0.1 ' ' 1\n",
       "\n",
       "Residual standard error: 0.06207 on 502 degrees of freedom\n",
       "Multiple R-squared:  0.7148,\tAdjusted R-squared:  0.7131 \n",
       "F-statistic: 419.3 on 3 and 502 DF,  p-value: < 2.2e-16\n"
      ]
     },
     "metadata": {},
     "output_type": "display_data"
    },
    {
     "data": {
      "image/png": "[encoded data removed]",
      "text/plain": [
       "plot without title"
      ]
     },
     "metadata": {},
     "output_type": "display_data"
    }
   ],
   "source": [
    "#9a\n",
    "lm.fit = lm(nox~poly(dis, 3), data=Boston)\n",
    "summary(lm.fit)\n",
    "dislim = range(dis)\n",
    "dis.grid = seq(from=dislim[1], to=dislim[2], by=0.1)\n",
    "lm.pred = predict(lm.fit, list(dis=dis.grid))\n",
    "plot(nox~dis, data=Boston, col=\"darkgrey\")\n",
    "lines(dis.grid, lm.pred, col=\"red\", lwd=2)\n",
    "#Summary shows that all polynomial terms are significant while predicting nox using dis. Plot shows a smooth curve fitting the data fairly well.\n"
   ]
  },
  {
   "cell_type": "code",
   "execution_count": 63,
   "metadata": {},
   "outputs": [
    {
     "data": {
      "text/html": [
       "<ol class=list-inline>\n",
       "\t<li>2.76856285896928</li>\n",
       "\t<li>2.03526186893526</li>\n",
       "\t<li>1.93410670717907</li>\n",
       "\t<li>1.93298132729859</li>\n",
       "\t<li>1.9152899610843</li>\n",
       "\t<li>1.87825729850816</li>\n",
       "\t<li>1.84948361458298</li>\n",
       "\t<li>1.83562968906769</li>\n",
       "\t<li>1.8333308044916</li>\n",
       "\t<li>1.83217112393135</li>\n",
       "</ol>\n"
      ],
      "text/latex": [
       "\\begin{enumerate*}\n",
       "\\item 2.76856285896928\n",
       "\\item 2.03526186893526\n",
       "\\item 1.93410670717907\n",
       "\\item 1.93298132729859\n",
       "\\item 1.9152899610843\n",
       "\\item 1.87825729850816\n",
       "\\item 1.84948361458298\n",
       "\\item 1.83562968906769\n",
       "\\item 1.8333308044916\n",
       "\\item 1.83217112393135\n",
       "\\end{enumerate*}\n"
      ],
      "text/markdown": [
       "1. 2.76856285896928\n",
       "2. 2.03526186893526\n",
       "3. 1.93410670717907\n",
       "4. 1.93298132729859\n",
       "5. 1.9152899610843\n",
       "6. 1.87825729850816\n",
       "7. 1.84948361458298\n",
       "8. 1.83562968906769\n",
       "9. 1.8333308044916\n",
       "10. 1.83217112393135\n",
       "\n",
       "\n"
      ],
      "text/plain": [
       " [1] 2.768563 2.035262 1.934107 1.932981 1.915290 1.878257 1.849484 1.835630\n",
       " [9] 1.833331 1.832171"
      ]
     },
     "metadata": {},
     "output_type": "display_data"
    }
   ],
   "source": [
    "### b\n",
    "#We plot polynomials of degrees 1 to 10 and save train RSS.\n",
    "\n",
    "all.rss = rep(NA, 10)\n",
    "for (i in 1:10) {\n",
    "  lm.fit = lm(nox~poly(dis, i), data=Boston)\n",
    "  all.rss[i] = sum(lm.fit$residuals^2)\n",
    "}\n",
    "all.rss\n",
    "\n",
    "#As expected, train RSS monotonically decreases with degree of polynomial. "
   ]
  },
  {
   "cell_type": "code",
   "execution_count": 64,
   "metadata": {},
   "outputs": [
    {
     "data": {
      "image/png": "[encoded data removed]",
      "text/plain": [
       "plot without title"
      ]
     },
     "metadata": {},
     "output_type": "display_data"
    }
   ],
   "source": [
    "### c\n",
    "#9c\n",
    "#We use a 10-fold cross validation to pick the best polynomial degree.\n",
    "library(boot)\n",
    "all.deltas = rep(NA, 10)\n",
    "for (i in 1:10) {\n",
    "  glm.fit = glm(nox~poly(dis, i), data=Boston)\n",
    "  all.deltas[i] = cv.glm(Boston, glm.fit, K=10)$delta[2]\n",
    "}\n",
    "plot(1:10, all.deltas, xlab=\"Degree\", ylab=\"CV error\", type=\"l\", pch=20, lwd=2)\n",
    "\n",
    "#A 10-fold CV shows that the CV error reduces as we increase degree from 1 to 3, stay almost constant till degree 5, and the starts increasing for higher degrees. We pick 4 as the best polynomial degree.\n"
   ]
  },
  {
   "cell_type": "code",
   "execution_count": 65,
   "metadata": {},
   "outputs": [
    {
     "data": {
      "text/plain": [
       "\n",
       "Call:\n",
       "lm(formula = nox ~ bs(dis, df = 4, knots = c(4, 7, 11)), data = Boston)\n",
       "\n",
       "Residuals:\n",
       "      Min        1Q    Median        3Q       Max \n",
       "-0.124567 -0.040355 -0.008702  0.024740  0.192920 \n",
       "\n",
       "Coefficients:\n",
       "                                      Estimate Std. Error t value Pr(>|t|)    \n",
       "(Intercept)                            0.73926    0.01331  55.537  < 2e-16 ***\n",
       "bs(dis, df = 4, knots = c(4, 7, 11))1 -0.08861    0.02504  -3.539  0.00044 ***\n",
       "bs(dis, df = 4, knots = c(4, 7, 11))2 -0.31341    0.01680 -18.658  < 2e-16 ***\n",
       "bs(dis, df = 4, knots = c(4, 7, 11))3 -0.26618    0.03147  -8.459 3.00e-16 ***\n",
       "bs(dis, df = 4, knots = c(4, 7, 11))4 -0.39802    0.04647  -8.565  < 2e-16 ***\n",
       "bs(dis, df = 4, knots = c(4, 7, 11))5 -0.25681    0.09001  -2.853  0.00451 ** \n",
       "bs(dis, df = 4, knots = c(4, 7, 11))6 -0.32926    0.06327  -5.204 2.85e-07 ***\n",
       "---\n",
       "Signif. codes:  0 '***' 0.001 '**' 0.01 '*' 0.05 '.' 0.1 ' ' 1\n",
       "\n",
       "Residual standard error: 0.06185 on 499 degrees of freedom\n",
       "Multiple R-squared:  0.7185,\tAdjusted R-squared:  0.7151 \n",
       "F-statistic: 212.3 on 6 and 499 DF,  p-value: < 2.2e-16\n"
      ]
     },
     "metadata": {},
     "output_type": "display_data"
    },
    {
     "data": {
      "image/png": "[encoded data removed]",
      "text/plain": [
       "plot without title"
      ]
     },
     "metadata": {},
     "output_type": "display_data"
    }
   ],
   "source": [
    "### d\n",
    "#We see that dis has limits of about 1 and 13 respectively. We split this range in roughly equal 4 intervals and establish knots at $[4, 7, 11]$. Note: bs function in R expects either df or knots argument. If both are specified, knots are ignored.\n",
    "library(splines)\n",
    "sp.fit = lm(nox~bs(dis, df=4, knots=c(4, 7, 11)), data=Boston)\n",
    "summary(sp.fit)\n",
    "sp.pred = predict(sp.fit, list(dis=dis.grid))\n",
    "plot(nox~dis, data=Boston, col=\"darkgrey\")\n",
    "lines(dis.grid, sp.pred, col=\"red\", lwd=2)\n",
    "\n",
    "#The summary shows that all terms in spline fit are significant. Plot shows that the spline fits data well except at the extreme values of $dis$, (especially $dis > 10$). \n"
   ]
  },
  {
   "cell_type": "code",
   "execution_count": 66,
   "metadata": {},
   "outputs": [
    {
     "data": {
      "text/html": [
       "<ol class=list-inline>\n",
       "\t<li>1.93410670717907</li>\n",
       "\t<li>1.92277499281193</li>\n",
       "\t<li>1.84017280148852</li>\n",
       "\t<li>1.83396590316021</li>\n",
       "\t<li>1.82988444592328</li>\n",
       "\t<li>1.81699505672523</li>\n",
       "\t<li>1.82565251038706</li>\n",
       "\t<li>1.79253488955613</li>\n",
       "\t<li>1.79699182173143</li>\n",
       "\t<li>1.78899914528888</li>\n",
       "\t<li>1.78235042874344</li>\n",
       "\t<li>1.78183805686312</li>\n",
       "\t<li>1.78279784044131</li>\n",
       "\t<li>1.78354576630177</li>\n",
       "</ol>\n"
      ],
      "text/latex": [
       "\\begin{enumerate*}\n",
       "\\item 1.93410670717907\n",
       "\\item 1.92277499281193\n",
       "\\item 1.84017280148852\n",
       "\\item 1.83396590316021\n",
       "\\item 1.82988444592328\n",
       "\\item 1.81699505672523\n",
       "\\item 1.82565251038706\n",
       "\\item 1.79253488955613\n",
       "\\item 1.79699182173143\n",
       "\\item 1.78899914528888\n",
       "\\item 1.78235042874344\n",
       "\\item 1.78183805686312\n",
       "\\item 1.78279784044131\n",
       "\\item 1.78354576630177\n",
       "\\end{enumerate*}\n"
      ],
      "text/markdown": [
       "1. 1.93410670717907\n",
       "2. 1.92277499281193\n",
       "3. 1.84017280148852\n",
       "4. 1.83396590316021\n",
       "5. 1.82988444592328\n",
       "6. 1.81699505672523\n",
       "7. 1.82565251038706\n",
       "8. 1.79253488955613\n",
       "9. 1.79699182173143\n",
       "10. 1.78899914528888\n",
       "11. 1.78235042874344\n",
       "12. 1.78183805686312\n",
       "13. 1.78279784044131\n",
       "14. 1.78354576630177\n",
       "\n",
       "\n"
      ],
      "text/plain": [
       " [1] 1.934107 1.922775 1.840173 1.833966 1.829884 1.816995 1.825653 1.792535\n",
       " [9] 1.796992 1.788999 1.782350 1.781838 1.782798 1.783546"
      ]
     },
     "metadata": {},
     "output_type": "display_data"
    }
   ],
   "source": [
    "### e\n",
    "#We fit regression splines with dfs between 3 and 16. \n",
    "all.cv = rep(NA, 16)\n",
    "for (i in 3:16) {\n",
    "  lm.fit = lm(nox~bs(dis, df=i), data=Boston)\n",
    "  all.cv[i] = sum(lm.fit$residuals^2)\n",
    "}\n",
    "all.cv[-c(1, 2)]\n",
    "\n",
    "#Train RSS monotonically decreases till df=14 and then slightly increases for df=15 and df=16.\n"
   ]
  },
  {
   "cell_type": "code",
   "execution_count": 67,
   "metadata": {},
   "outputs": [
    {
     "name": "stderr",
     "output_type": "stream",
     "text": [
      "Warning message in bs(dis, degree = 3L, knots = numeric(0), Boundary.knots = c(1.1296, :\n",
      "\"some 'x' values beyond boundary knots may cause ill-conditioned bases\"Warning message in bs(dis, degree = 3L, knots = numeric(0), Boundary.knots = c(1.1296, :\n",
      "\"some 'x' values beyond boundary knots may cause ill-conditioned bases\"Warning message in bs(dis, degree = 3L, knots = numeric(0), Boundary.knots = c(1.137, :\n",
      "\"some 'x' values beyond boundary knots may cause ill-conditioned bases\"Warning message in bs(dis, degree = 3L, knots = numeric(0), Boundary.knots = c(1.137, :\n",
      "\"some 'x' values beyond boundary knots may cause ill-conditioned bases\"Warning message in bs(dis, degree = 3L, knots = c(`50%` = 3.0992), Boundary.knots = c(1.137, :\n",
      "\"some 'x' values beyond boundary knots may cause ill-conditioned bases\"Warning message in bs(dis, degree = 3L, knots = c(`50%` = 3.0992), Boundary.knots = c(1.137, :\n",
      "\"some 'x' values beyond boundary knots may cause ill-conditioned bases\"Warning message in bs(dis, degree = 3L, knots = c(`50%` = 3.2157), Boundary.knots = c(1.1296, :\n",
      "\"some 'x' values beyond boundary knots may cause ill-conditioned bases\"Warning message in bs(dis, degree = 3L, knots = c(`50%` = 3.2157), Boundary.knots = c(1.1296, :\n",
      "\"some 'x' values beyond boundary knots may cause ill-conditioned bases\"Warning message in bs(dis, degree = 3L, knots = c(`33.33333%` = 2.354, `66.66667%` = 4.2474:\n",
      "\"some 'x' values beyond boundary knots may cause ill-conditioned bases\"Warning message in bs(dis, degree = 3L, knots = c(`33.33333%` = 2.354, `66.66667%` = 4.2474:\n",
      "\"some 'x' values beyond boundary knots may cause ill-conditioned bases\"Warning message in bs(dis, degree = 3L, knots = c(`33.33333%` = 2.4212, `66.66667%` = 4.38856666666667:\n",
      "\"some 'x' values beyond boundary knots may cause ill-conditioned bases\"Warning message in bs(dis, degree = 3L, knots = c(`33.33333%` = 2.4212, `66.66667%` = 4.38856666666667:\n",
      "\"some 'x' values beyond boundary knots may cause ill-conditioned bases\"Warning message in bs(dis, degree = 3L, knots = c(`25%` = 2.1105, `50%` = 3.2721, :\n",
      "\"some 'x' values beyond boundary knots may cause ill-conditioned bases\"Warning message in bs(dis, degree = 3L, knots = c(`25%` = 2.1105, `50%` = 3.2721, :\n",
      "\"some 'x' values beyond boundary knots may cause ill-conditioned bases\"Warning message in bs(dis, degree = 3L, knots = c(`25%` = 2.1, `50%` = 3.1323, `75%` = 5.118:\n",
      "\"some 'x' values beyond boundary knots may cause ill-conditioned bases\"Warning message in bs(dis, degree = 3L, knots = c(`25%` = 2.1, `50%` = 3.1323, `75%` = 5.118:\n",
      "\"some 'x' values beyond boundary knots may cause ill-conditioned bases\"Warning message in bs(dis, degree = 3L, knots = c(`20%` = 1.92938, `40%` = 2.55946, :\n",
      "\"some 'x' values beyond boundary knots may cause ill-conditioned bases\"Warning message in bs(dis, degree = 3L, knots = c(`20%` = 1.92938, `40%` = 2.55946, :\n",
      "\"some 'x' values beyond boundary knots may cause ill-conditioned bases\"Warning message in bs(dis, degree = 3L, knots = c(`20%` = 1.93736, `40%` = 2.59666, :\n",
      "\"some 'x' values beyond boundary knots may cause ill-conditioned bases\"Warning message in bs(dis, degree = 3L, knots = c(`20%` = 1.93736, `40%` = 2.59666, :\n",
      "\"some 'x' values beyond boundary knots may cause ill-conditioned bases\"Warning message in bs(dis, degree = 3L, knots = c(`16.66667%` = 1.86156666666667, :\n",
      "\"some 'x' values beyond boundary knots may cause ill-conditioned bases\"Warning message in bs(dis, degree = 3L, knots = c(`16.66667%` = 1.86156666666667, :\n",
      "\"some 'x' values beyond boundary knots may cause ill-conditioned bases\"Warning message in bs(dis, degree = 3L, knots = c(`14.28571%` = 1.79777142857143, :\n",
      "\"some 'x' values beyond boundary knots may cause ill-conditioned bases\"Warning message in bs(dis, degree = 3L, knots = c(`14.28571%` = 1.79777142857143, :\n",
      "\"some 'x' values beyond boundary knots may cause ill-conditioned bases\"Warning message in bs(dis, degree = 3L, knots = c(`14.28571%` = 1.7936, `28.57143%` = 2.16771428571429, :\n",
      "\"some 'x' values beyond boundary knots may cause ill-conditioned bases\"Warning message in bs(dis, degree = 3L, knots = c(`14.28571%` = 1.7936, `28.57143%` = 2.16771428571429, :\n",
      "\"some 'x' values beyond boundary knots may cause ill-conditioned bases\"Warning message in bs(dis, degree = 3L, knots = c(`12.5%` = 1.734325, `25%` = 2.0941, :\n",
      "\"some 'x' values beyond boundary knots may cause ill-conditioned bases\"Warning message in bs(dis, degree = 3L, knots = c(`12.5%` = 1.734325, `25%` = 2.0941, :\n",
      "\"some 'x' values beyond boundary knots may cause ill-conditioned bases\"Warning message in bs(dis, degree = 3L, knots = c(`12.5%` = 1.751575, `25%` = 2.1084, :\n",
      "\"some 'x' values beyond boundary knots may cause ill-conditioned bases\"Warning message in bs(dis, degree = 3L, knots = c(`12.5%` = 1.751575, `25%` = 2.1084, :\n",
      "\"some 'x' values beyond boundary knots may cause ill-conditioned bases\"Warning message in bs(dis, degree = 3L, knots = c(`11.11111%` = 1.71552222222222, :\n",
      "\"some 'x' values beyond boundary knots may cause ill-conditioned bases\"Warning message in bs(dis, degree = 3L, knots = c(`11.11111%` = 1.71552222222222, :\n",
      "\"some 'x' values beyond boundary knots may cause ill-conditioned bases\"Warning message in bs(dis, degree = 3L, knots = c(`11.11111%` = 1.66286666666667, :\n",
      "\"some 'x' values beyond boundary knots may cause ill-conditioned bases\"Warning message in bs(dis, degree = 3L, knots = c(`11.11111%` = 1.66286666666667, :\n",
      "\"some 'x' values beyond boundary knots may cause ill-conditioned bases\"Warning message in bs(dis, degree = 3L, knots = c(`10%` = 1.62008, `20%` = 1.92938, :\n",
      "\"some 'x' values beyond boundary knots may cause ill-conditioned bases\"Warning message in bs(dis, degree = 3L, knots = c(`10%` = 1.62008, `20%` = 1.92938, :\n",
      "\"some 'x' values beyond boundary knots may cause ill-conditioned bases\"Warning message in bs(dis, degree = 3L, knots = c(`10%` = 1.6283, `20%` = 1.9512, :\n",
      "\"some 'x' values beyond boundary knots may cause ill-conditioned bases\"Warning message in bs(dis, degree = 3L, knots = c(`10%` = 1.6283, `20%` = 1.9512, :\n",
      "\"some 'x' values beyond boundary knots may cause ill-conditioned bases\"Warning message in bs(dis, degree = 3L, knots = c(`9.090909%` = 1.61225454545455, :\n",
      "\"some 'x' values beyond boundary knots may cause ill-conditioned bases\"Warning message in bs(dis, degree = 3L, knots = c(`9.090909%` = 1.61225454545455, :\n",
      "\"some 'x' values beyond boundary knots may cause ill-conditioned bases\"Warning message in bs(dis, degree = 3L, knots = c(`9.090909%` = 1.61066363636364, :\n",
      "\"some 'x' values beyond boundary knots may cause ill-conditioned bases\"Warning message in bs(dis, degree = 3L, knots = c(`9.090909%` = 1.61066363636364, :\n",
      "\"some 'x' values beyond boundary knots may cause ill-conditioned bases\"Warning message in bs(dis, degree = 3L, knots = c(`8.333333%` = 1.60476666666667, :\n",
      "\"some 'x' values beyond boundary knots may cause ill-conditioned bases\"Warning message in bs(dis, degree = 3L, knots = c(`8.333333%` = 1.60476666666667, :\n",
      "\"some 'x' values beyond boundary knots may cause ill-conditioned bases\"Warning message in bs(dis, degree = 3L, knots = c(`8.333333%` = 1.5881, `16.66667%` = 1.82231666666667, :\n",
      "\"some 'x' values beyond boundary knots may cause ill-conditioned bases\"Warning message in bs(dis, degree = 3L, knots = c(`8.333333%` = 1.5881, `16.66667%` = 1.82231666666667, :\n",
      "\"some 'x' values beyond boundary knots may cause ill-conditioned bases\"Warning message in bs(dis, degree = 3L, knots = c(`7.692308%` = 1.58949230769231, :\n",
      "\"some 'x' values beyond boundary knots may cause ill-conditioned bases\"Warning message in bs(dis, degree = 3L, knots = c(`7.692308%` = 1.58949230769231, :\n",
      "\"some 'x' values beyond boundary knots may cause ill-conditioned bases\"Warning message in bs(dis, degree = 3L, knots = c(`7.692308%` = 1.5741, `15.38462%` = 1.8209, :\n",
      "\"some 'x' values beyond boundary knots may cause ill-conditioned bases\"Warning message in bs(dis, degree = 3L, knots = c(`7.692308%` = 1.5741, `15.38462%` = 1.8209, :\n",
      "\"some 'x' values beyond boundary knots may cause ill-conditioned bases\"Warning message in bs(dis, degree = 3L, knots = c(`7.142857%` = 1.54201428571429, :\n",
      "\"some 'x' values beyond boundary knots may cause ill-conditioned bases\"Warning message in bs(dis, degree = 3L, knots = c(`7.142857%` = 1.54201428571429, :\n"
     ]
    },
    {
     "name": "stderr",
     "output_type": "stream",
     "text": [
      "\"some 'x' values beyond boundary knots may cause ill-conditioned bases\"Warning message in bs(dis, degree = 3L, knots = c(`7.142857%` = 1.5768, `14.28571%` = 1.81652857142857, :\n",
      "\"some 'x' values beyond boundary knots may cause ill-conditioned bases\"Warning message in bs(dis, degree = 3L, knots = c(`7.142857%` = 1.5768, `14.28571%` = 1.81652857142857, :\n",
      "\"some 'x' values beyond boundary knots may cause ill-conditioned bases\""
     ]
    },
    {
     "data": {
      "image/png": "[encoded data removed]",
      "text/plain": [
       "plot without title"
      ]
     },
     "metadata": {},
     "output_type": "display_data"
    }
   ],
   "source": [
    "### f\n",
    "#Finally, we use a 10-fold cross validation to find best df. We try all integer values of df between 3 and 16.\n",
    "\n",
    "all.cv = rep(NA, 16)\n",
    "for (i in 3:16) {\n",
    "  lm.fit = glm(nox~bs(dis, df=i), data=Boston)\n",
    "  all.cv[i] = cv.glm(Boston, lm.fit, K=10)$delta[2]\n",
    "}\n",
    "plot(3:16, all.cv[-c(1, 2)], lwd=2, type=\"l\", xlab=\"df\", ylab=\"CV error\")\n",
    "\n",
    "#CV error is more jumpy in this case, but attains minimum at df=10. We pick $10$ as the optimal degrees of freedom."
   ]
  },
  {
   "cell_type": "code",
   "execution_count": 2,
   "metadata": {},
   "outputs": [
    {
     "name": "stderr",
     "output_type": "stream",
     "text": [
      "Installing package into 'C:/Users/avandelaer/Documents/R/win-library/3.6'\n",
      "(as 'lib' is unspecified)\n"
     ]
    },
    {
     "name": "stdout",
     "output_type": "stream",
     "text": [
      "package 'leaps' successfully unpacked and MD5 sums checked\n",
      "\n",
      "The downloaded binary packages are in\n",
      "\tC:\\Users\\avandelaer\\AppData\\Local\\Temp\\RtmpMvVk7S\\downloaded_packages\n"
     ]
    },
    {
     "name": "stderr",
     "output_type": "stream",
     "text": [
      "Warning message:\n",
      "\"package 'ISLR' was built under R version 3.6.2\"Warning message:\n",
      "\"package 'leaps' was built under R version 3.6.2\""
     ]
    },
    {
     "data": {
      "text/html": [
       "<ol class=list-inline>\n",
       "\t<li>'(Intercept)'</li>\n",
       "\t<li>'PrivateYes'</li>\n",
       "\t<li>'Room.Board'</li>\n",
       "\t<li>'PhD'</li>\n",
       "\t<li>'perc.alumni'</li>\n",
       "\t<li>'Expend'</li>\n",
       "\t<li>'Grad.Rate'</li>\n",
       "</ol>\n"
      ],
      "text/latex": [
       "\\begin{enumerate*}\n",
       "\\item '(Intercept)'\n",
       "\\item 'PrivateYes'\n",
       "\\item 'Room.Board'\n",
       "\\item 'PhD'\n",
       "\\item 'perc.alumni'\n",
       "\\item 'Expend'\n",
       "\\item 'Grad.Rate'\n",
       "\\end{enumerate*}\n"
      ],
      "text/markdown": [
       "1. '(Intercept)'\n",
       "2. 'PrivateYes'\n",
       "3. 'Room.Board'\n",
       "4. 'PhD'\n",
       "5. 'perc.alumni'\n",
       "6. 'Expend'\n",
       "7. 'Grad.Rate'\n",
       "\n",
       "\n"
      ],
      "text/plain": [
       "[1] \"(Intercept)\" \"PrivateYes\"  \"Room.Board\"  \"PhD\"         \"perc.alumni\"\n",
       "[6] \"Expend\"      \"Grad.Rate\"  "
      ]
     },
     "metadata": {},
     "output_type": "display_data"
    },
    {
     "data": {
      "image/png": "[encoded data removed]",
      "text/plain": [
       "plot without title"
      ]
     },
     "metadata": {},
     "output_type": "display_data"
    }
   ],
   "source": [
    "### a\n",
    " install.packages(\"leaps\")\n",
    "set.seed(1)\n",
    "library(ISLR)\n",
    "library(leaps)\n",
    "attach(College)\n",
    "train = sample(length(Outstate), length(Outstate)/2)\n",
    "test = -train\n",
    "College.train = College[train, ]\n",
    "College.test = College[test, ]\n",
    "reg.fit = regsubsets(Outstate~., data=College.train, nvmax=17, method=\"forward\")\n",
    "reg.summary = summary(reg.fit)\n",
    "par(mfrow=c(1, 3))\n",
    "plot(reg.summary$cp,xlab=\"Number of Variables\",ylab=\"Cp\",type='l')\n",
    "min.cp = min(reg.summary$cp)\n",
    "std.cp = sd(reg.summary$cp)\n",
    "abline(h=min.cp+0.2*std.cp, col=\"red\", lty=2)\n",
    "abline(h=min.cp-0.2*std.cp, col=\"red\", lty=2)\n",
    "plot(reg.summary$bic,xlab=\"Number of Variables\",ylab=\"BIC\",type='l')\n",
    "min.bic = min(reg.summary$bic)\n",
    "std.bic = sd(reg.summary$bic)\n",
    "abline(h=min.bic+0.2*std.bic, col=\"red\", lty=2)\n",
    "abline(h=min.bic-0.2*std.bic, col=\"red\", lty=2)\n",
    "plot(reg.summary$adjr2,xlab=\"Number of Variables\",ylab=\"Adjusted R2\",type='l', ylim=c(0.4, 0.84))\n",
    "max.adjr2 = max(reg.summary$adjr2)\n",
    "std.adjr2 = sd(reg.summary$adjr2)\n",
    "abline(h=max.adjr2+0.2*std.adjr2, col=\"red\", lty=2)\n",
    "abline(h=max.adjr2-0.2*std.adjr2, col=\"red\", lty=2)\n",
    "\n",
    "#6 is the best size beause the cp,BIC and adjr2 scores show that size 6 is the minimum \n",
    "\n",
    "reg.fit = regsubsets(Outstate~., data=College, method=\"forward\")\n",
    "coefi = coef(reg.fit, id=6)\n",
    "names(coefi)"
   ]
  },
  {
   "cell_type": "code",
   "execution_count": 6,
   "metadata": {},
   "outputs": [
    {
     "name": "stderr",
     "output_type": "stream",
     "text": [
      "Installing package into 'C:/Users/avandelaer/Documents/R/win-library/3.6'\n",
      "(as 'lib' is unspecified)\n"
     ]
    },
    {
     "name": "stdout",
     "output_type": "stream",
     "text": [
      "package 'gam' successfully unpacked and MD5 sums checked\n",
      "\n",
      "The downloaded binary packages are in\n",
      "\tC:\\Users\\avandelaer\\AppData\\Local\\Temp\\RtmpMvVk7S\\downloaded_packages\n"
     ]
    },
    {
     "name": "stderr",
     "output_type": "stream",
     "text": [
      "Warning message:\n",
      "\"package 'gam' was built under R version 3.6.2\"Loading required package: splines\n",
      "Loading required package: foreach\n",
      "Loaded gam 1.16.1\n",
      "\n",
      "Warning message in model.matrix.default(mt, mf, contrasts):\n",
      "\"non-list contrasts argument ignored\""
     ]
    },
    {
     "data": {
      "image/png": "[encoded data removed]",
      "text/plain": [
       "plot without title"
      ]
     },
     "metadata": {},
     "output_type": "display_data"
    }
   ],
   "source": [
    "### b\n",
    "install.packages(\"gam\")\n",
    "library(gam)\n",
    "gam.fit = gam(Outstate ~ Private + s(Room.Board, df=2) + s(PhD, df=2) + s(perc.alumni, df=2) + s(Expend, df=5) + s(Grad.Rate, df=2), data=College.train)\n",
    "par(mfrow=c(2, 3))\n",
    "plot(gam.fit, se=T, col=\"blue\")\n",
    "\n"
   ]
  },
  {
   "cell_type": "code",
   "execution_count": 7,
   "metadata": {},
   "outputs": [
    {
     "data": {
      "text/html": [
       "3349290.24577041"
      ],
      "text/latex": [
       "3349290.24577041"
      ],
      "text/markdown": [
       "3349290.24577041"
      ],
      "text/plain": [
       "[1] 3349290"
      ]
     },
     "metadata": {},
     "output_type": "display_data"
    },
    {
     "data": {
      "text/html": [
       "0.766001611846921"
      ],
      "text/latex": [
       "0.766001611846921"
      ],
      "text/markdown": [
       "0.766001611846921"
      ],
      "text/plain": [
       "[1] 0.7660016"
      ]
     },
     "metadata": {},
     "output_type": "display_data"
    }
   ],
   "source": [
    "### c\n",
    "\n",
    "gam.pred = predict(gam.fit, College.test)\n",
    "gam.err = mean((College.test$Outstate - gam.pred)^2)\n",
    "gam.err\n",
    "gam.tss = mean((College.test$Outstate - mean(College.test$Outstate))^2)\n",
    "test.rss = 1 - gam.err / gam.tss\n",
    "test.rss\n",
    "\n",
    "#We obtain a test R-squared = 0.77 using GAM with 6 predictors. This is a slight improvement over a test RSS = 0.74 obtained using OLS. \n"
   ]
  },
  {
   "cell_type": "code",
   "execution_count": 8,
   "metadata": {},
   "outputs": [
    {
     "data": {
      "text/plain": [
       "\n",
       "Call: gam(formula = Outstate ~ Private + s(Room.Board, df = 2) + s(PhD, \n",
       "    df = 2) + s(perc.alumni, df = 2) + s(Expend, df = 5) + s(Grad.Rate, \n",
       "    df = 2), data = College.train)\n",
       "Deviance Residuals:\n",
       "     Min       1Q   Median       3Q      Max \n",
       "-7402.89 -1114.45   -12.67  1282.69  7470.60 \n",
       "\n",
       "(Dispersion Parameter for gaussian family taken to be 3711182)\n",
       "\n",
       "    Null Deviance: 6989966760 on 387 degrees of freedom\n",
       "Residual Deviance: 1384271126 on 373 degrees of freedom\n",
       "AIC: 6987.021 \n",
       "\n",
       "Number of Local Scoring Iterations: 2 \n",
       "\n",
       "Anova for Parametric Effects\n",
       "                        Df     Sum Sq    Mean Sq F value    Pr(>F)    \n",
       "Private                  1 1778718277 1778718277 479.286 < 2.2e-16 ***\n",
       "s(Room.Board, df = 2)    1 1577115244 1577115244 424.963 < 2.2e-16 ***\n",
       "s(PhD, df = 2)           1  322431195  322431195  86.881 < 2.2e-16 ***\n",
       "s(perc.alumni, df = 2)   1  336869281  336869281  90.771 < 2.2e-16 ***\n",
       "s(Expend, df = 5)        1  530538753  530538753 142.957 < 2.2e-16 ***\n",
       "s(Grad.Rate, df = 2)     1   86504998   86504998  23.309 2.016e-06 ***\n",
       "Residuals              373 1384271126    3711182                      \n",
       "---\n",
       "Signif. codes:  0 '***' 0.001 '**' 0.01 '*' 0.05 '.' 0.1 ' ' 1\n",
       "\n",
       "Anova for Nonparametric Effects\n",
       "                       Npar Df  Npar F     Pr(F)    \n",
       "(Intercept)                                         \n",
       "Private                                             \n",
       "s(Room.Board, df = 2)        1  1.9157    0.1672    \n",
       "s(PhD, df = 2)               1  0.9699    0.3253    \n",
       "s(perc.alumni, df = 2)       1  0.1859    0.6666    \n",
       "s(Expend, df = 5)            4 20.5075 2.665e-15 ***\n",
       "s(Grad.Rate, df = 2)         1  0.5702    0.4506    \n",
       "---\n",
       "Signif. codes:  0 '***' 0.001 '**' 0.01 '*' 0.05 '.' 0.1 ' ' 1"
      ]
     },
     "metadata": {},
     "output_type": "display_data"
    }
   ],
   "source": [
    "### d\n",
    "\n",
    "summary(gam.fit)\n",
    "\n",
    "#Non-parametric Anova test shows a strong evidence of non-linear relationship between response and Expend, and a moderately strong non-linear relationship (using p value of 0.05) between response and Grad.Rate or PhD. \n"
   ]
  },
  {
   "cell_type": "code",
   "execution_count": null,
   "metadata": {},
   "outputs": [],
   "source": []
  },
  {
   "cell_type": "code",
   "execution_count": null,
   "metadata": {},
   "outputs": [],
   "source": []
  }
 ],
 "metadata": {
  "kernelspec": {
   "display_name": "R",
   "language": "R",
   "name": "ir"
  },
  "language_info": {
   "codemirror_mode": "r",
   "file_extension": ".r",
   "mimetype": "text/x-r-source",
   "name": "R",
   "pygments_lexer": "r",
   "version": "3.6.0"
  }
 },
 "nbformat": 4,
 "nbformat_minor": 2
}
