{
 "cells": [
  {
   "cell_type": "markdown",
   "metadata": {},
   "source": [
    "# Course : Statistical & machine learning approches for marketing\n",
    "Title: Excerises Session 1\n",
    "\n",
    "Name: Arnaud Vandelaer"
   ]
  },
  {
   "cell_type": "code",
   "execution_count": 3,
   "metadata": {
    "scrolled": true
   },
   "outputs": [
    {
     "data": {
      "text/html": [
       "<table>\n",
       "<thead><tr><th scope=col>TV</th><th scope=col>radio</th><th scope=col>newspaper</th><th scope=col>sales</th></tr></thead>\n",
       "<tbody>\n",
       "\t<tr><td>230.1</td><td>37.8 </td><td>69.2 </td><td>22.1 </td></tr>\n",
       "\t<tr><td> 44.5</td><td>39.3 </td><td>45.1 </td><td>10.4 </td></tr>\n",
       "\t<tr><td> 17.2</td><td>45.9 </td><td>69.3 </td><td> 9.3 </td></tr>\n",
       "\t<tr><td>151.5</td><td>41.3 </td><td>58.5 </td><td>18.5 </td></tr>\n",
       "\t<tr><td>180.8</td><td>10.8 </td><td>58.4 </td><td>12.9 </td></tr>\n",
       "\t<tr><td>  8.7</td><td>48.9 </td><td>75.0 </td><td> 7.2 </td></tr>\n",
       "</tbody>\n",
       "</table>\n"
      ],
      "text/latex": [
       "\\begin{tabular}{r|llll}\n",
       " TV & radio & newspaper & sales\\\\\n",
       "\\hline\n",
       "\t 230.1 & 37.8  & 69.2  & 22.1 \\\\\n",
       "\t  44.5 & 39.3  & 45.1  & 10.4 \\\\\n",
       "\t  17.2 & 45.9  & 69.3  &  9.3 \\\\\n",
       "\t 151.5 & 41.3  & 58.5  & 18.5 \\\\\n",
       "\t 180.8 & 10.8  & 58.4  & 12.9 \\\\\n",
       "\t   8.7 & 48.9  & 75.0  &  7.2 \\\\\n",
       "\\end{tabular}\n"
      ],
      "text/markdown": [
       "\n",
       "| TV | radio | newspaper | sales |\n",
       "|---|---|---|---|\n",
       "| 230.1 | 37.8  | 69.2  | 22.1  |\n",
       "|  44.5 | 39.3  | 45.1  | 10.4  |\n",
       "|  17.2 | 45.9  | 69.3  |  9.3  |\n",
       "| 151.5 | 41.3  | 58.5  | 18.5  |\n",
       "| 180.8 | 10.8  | 58.4  | 12.9  |\n",
       "|   8.7 | 48.9  | 75.0  |  7.2  |\n",
       "\n"
      ],
      "text/plain": [
       "  TV    radio newspaper sales\n",
       "1 230.1 37.8  69.2      22.1 \n",
       "2  44.5 39.3  45.1      10.4 \n",
       "3  17.2 45.9  69.3       9.3 \n",
       "4 151.5 41.3  58.5      18.5 \n",
       "5 180.8 10.8  58.4      12.9 \n",
       "6   8.7 48.9  75.0       7.2 "
      ]
     },
     "metadata": {},
     "output_type": "display_data"
    }
   ],
   "source": [
    "#linair regression\n",
    "# Import Advertising data\n",
    "adver <- read.csv('C:/Users/avandelaer/Documents/Statistical & machine learning/SML_Section1_v2.1/data/Advertising.csv', row.names=1)\n",
    "head(adver)"
   ]
  },
  {
   "cell_type": "code",
   "execution_count": 4,
   "metadata": {
    "scrolled": true
   },
   "outputs": [
    {
     "data": {
      "image/png": "[encoded data removed]",
      "text/plain": [
       "plot without title"
      ]
     },
     "metadata": {},
     "output_type": "display_data"
    }
   ],
   "source": [
    "options(repr.plot.width=8, repr.plot.height=4)  #size\n",
    "par(mfrow=c(1, 3))  # regions\n",
    "plot(adver$TV, adver$sales, ylab=\"Sales\", xlab=\"TV\")\n",
    "abline(lm(sales ~ TV, data=adver), col='red')\n",
    "plot(adver$radio, adver$sales, ylab=\"Sales\", xlab=\"Radio\")\n",
    "abline(lm(sales ~ radio, data=adver), col='red')\n",
    "plot(adver$newspaper, adver$sales, ylab=\"Sales\", xlab=\"Newspaper\")\n",
    "abline(lm(sales ~ newspaper, data=adver), col='red')\n",
    "\n",
    "mtext(\"Sales and Advertising Budget Data\", side=3, line=-2.5, outer=TRUE)"
   ]
  },
  {
   "cell_type": "code",
   "execution_count": 5,
   "metadata": {
    "scrolled": true
   },
   "outputs": [
    {
     "data": {
      "image/png": "[encoded data removed]",
      "text/plain": [
       "plot without title"
      ]
     },
     "metadata": {},
     "output_type": "display_data"
    }
   ],
   "source": [
    "\n",
    "# Sales ~ TV\n",
    "options(repr.plot.width=6, repr.plot.height=4.5)  # size\n",
    "\n",
    "plot(adver$TV, adver$sales, pch=21, cex=0.8, bg='red',\n",
    "     xlab='TV', ylab='Sales')\n",
    "abline(lm(sales ~ TV, data=adver), col='blue')"
   ]
  },
  {
   "cell_type": "code",
   "execution_count": 6,
   "metadata": {},
   "outputs": [
    {
     "name": "stdout",
     "output_type": "stream",
     "text": [
      "[1] \"B0= 7.03259354912769 B1= 0.0475366404330197\"\n"
     ]
    }
   ],
   "source": [
    "#ex1\n",
    "\n",
    "adver$num <- mapply(function (x,y) (x - mean(adver$TV)) * (y - mean(adver$sales)), adver$TV, adver$sales)\n",
    "adver$denom <- mapply(function (x) (x - mean(adver$TV))**2, adver$TV)\n",
    "B1 <- sum(adver$num) / sum(adver$denom)\n",
    "                \n",
    "B0 <- mean(adver$sales) - B1*mean(adver$TV)\n",
    "\n",
    "print(paste(\"B0=\",B0, \"B1=\", B1))"
   ]
  },
  {
   "cell_type": "code",
   "execution_count": 7,
   "metadata": {},
   "outputs": [
    {
     "data": {
      "text/plain": [
       "\n",
       "Call:\n",
       "lm(formula = sales ~ TV, data = adver)\n",
       "\n",
       "Residuals:\n",
       "    Min      1Q  Median      3Q     Max \n",
       "-8.3860 -1.9545 -0.1913  2.0671  7.2124 \n",
       "\n",
       "Coefficients:\n",
       "            Estimate Std. Error t value Pr(>|t|)    \n",
       "(Intercept) 7.032594   0.457843   15.36   <2e-16 ***\n",
       "TV          0.047537   0.002691   17.67   <2e-16 ***\n",
       "---\n",
       "Signif. codes:  0 '***' 0.001 '**' 0.01 '*' 0.05 '.' 0.1 ' ' 1\n",
       "\n",
       "Residual standard error: 3.259 on 198 degrees of freedom\n",
       "Multiple R-squared:  0.6119,\tAdjusted R-squared:  0.6099 \n",
       "F-statistic: 312.1 on 1 and 198 DF,  p-value: < 2.2e-16\n"
      ]
     },
     "metadata": {},
     "output_type": "display_data"
    }
   ],
   "source": [
    "# Check B0, B1 by lm function\n",
    "md <- lm(sales ~ TV, data=adver)\n",
    "summary(md)"
   ]
  },
  {
   "cell_type": "code",
   "execution_count": 8,
   "metadata": {},
   "outputs": [
    {
     "name": "stdout",
     "output_type": "stream",
     "text": [
      "[1] \"B0= 9.31163809515828 B1= 0.20249578339244\"\n"
     ]
    }
   ],
   "source": [
    "#ex2\n",
    "\n",
    "adver$num <- mapply(function (x,y) (x - mean(adver$radio)) * (y - mean(adver$sales)), adver$radio, adver$sales)\n",
    "adver$denom <- mapply(function (x) (x - mean(adver$radio))**2, adver$radio)\n",
    "B1 <- sum(adver$num) / sum(adver$denom)\n",
    "                \n",
    "B0 <- mean(adver$sales) - B1*mean(adver$radio)\n",
    "\n",
    "print(paste(\"B0=\",B0, \"B1=\", B1))"
   ]
  },
  {
   "cell_type": "code",
   "execution_count": 9,
   "metadata": {},
   "outputs": [
    {
     "data": {
      "text/plain": [
       "\n",
       "Call:\n",
       "lm(formula = sales ~ radio, data = adver)\n",
       "\n",
       "Residuals:\n",
       "     Min       1Q   Median       3Q      Max \n",
       "-15.7305  -2.1324   0.7707   2.7775   8.1810 \n",
       "\n",
       "Coefficients:\n",
       "            Estimate Std. Error t value Pr(>|t|)    \n",
       "(Intercept)  9.31164    0.56290  16.542   <2e-16 ***\n",
       "radio        0.20250    0.02041   9.921   <2e-16 ***\n",
       "---\n",
       "Signif. codes:  0 '***' 0.001 '**' 0.01 '*' 0.05 '.' 0.1 ' ' 1\n",
       "\n",
       "Residual standard error: 4.275 on 198 degrees of freedom\n",
       "Multiple R-squared:  0.332,\tAdjusted R-squared:  0.3287 \n",
       "F-statistic: 98.42 on 1 and 198 DF,  p-value: < 2.2e-16\n"
      ]
     },
     "metadata": {},
     "output_type": "display_data"
    }
   ],
   "source": [
    "# Check B0, B1 by lm function\n",
    "summary(lm(sales ~ radio, data=adver))"
   ]
  },
  {
   "cell_type": "code",
   "execution_count": 10,
   "metadata": {},
   "outputs": [
    {
     "name": "stdout",
     "output_type": "stream",
     "text": [
      "[1] \"95% confidence interval B0: 6.11690766858074 7.94827942967465\"\n",
      "[1] \"95% confidence interval B1: 0.042155426057426 0.0529178548086135\"\n"
     ]
    }
   ],
   "source": [
    "#ex3\n",
    "\n",
    "adver$num    <- mapply(function (x,y) (x - mean(adver$TV)) * (y - mean(adver$sales)), adver$TV, adver$sales)\n",
    "adver$denom  <- mapply(function (x) (x - mean(adver$TV))**2, adver$TV)\n",
    "B1         <- sum(adver$num) / sum(adver$denom)           \n",
    "B0         <- mean(adver$sales) - B1*mean(adver$TV)\n",
    "\n",
    "adver$rss    <- mapply(function(x,y) (y - B0 - B1*x)**2, adver$TV, adver$sales) \n",
    "RSS        <- sum(adver$rss)\n",
    "RSE        <- (RSS/(nrow(adver)-2))**0.5\n",
    "                  \n",
    "SE_B0      <- ((RSE**2)*(1/nrow(adver) + (mean(adver$TV))**2 / sum(adver$denom)))**0.5\n",
    "SE_B1      <- (RSE**2/sum(adver$denom))**0.5 \n",
    "                  \n",
    "B0_ubound  <- B0 + 2 * SE_B0\n",
    "B0_lbound  <- B0 - 2 * SE_B0\n",
    "                     \n",
    "B1_ubound  <- B1 + 2 * SE_B1\n",
    "B1_lbound  <- B1 - 2 * SE_B1\n",
    "\n",
    "#print(SE_B0)\n",
    "#print(SE_B1)\n",
    "\n",
    "print(paste(\"95% confidence interval B0:\", B0_lbound, B0_ubound))\n",
    "print(paste(\"95% confidence interval B1:\", B1_lbound, B1_ubound))"
   ]
  },
  {
   "cell_type": "code",
   "execution_count": 11,
   "metadata": {},
   "outputs": [
    {
     "name": "stdout",
     "output_type": "stream",
     "text": [
      "[1] \"95% confidence interval B0: 6.11690754912769 7.94827954912769\"\n",
      "[1] \"95% confidence interval B1: 0.0421546404330197 0.0529186404330197\"\n"
     ]
    }
   ],
   "source": [
    "# Check\n",
    "SE_B0 <- 0.457843\n",
    "SE_B1 <- 0.002691\n",
    "\n",
    "B0_ubound  <- B0 + 2 * SE_B0\n",
    "B0_lbound  <- B0 - 2 * SE_B0\n",
    "                     \n",
    "B1_ubound  <- B1 + 2 * SE_B1\n",
    "B1_lbound  <- B1 - 2 * SE_B1\n",
    "\n",
    "print(paste(\"95% confidence interval B0:\", B0_lbound, B0_ubound))\n",
    "print(paste(\"95% confidence interval B1:\", B1_lbound, B1_ubound))"
   ]
  },
  {
   "cell_type": "code",
   "execution_count": 12,
   "metadata": {},
   "outputs": [
    {
     "name": "stdout",
     "output_type": "stream",
     "text": [
      "[1] \"T-Statistic:  9.92076547282496\"\n"
     ]
    }
   ],
   "source": [
    "#ex4\n",
    "adver$num    <- mapply(function (x,y) (x - mean(adver$radio)) * (y - mean(adver$sales)), adver$radio, adver$sales)\n",
    "adver$denom  <- mapply(function (x) (x - mean(adver$radio))**2, adver$radio)\n",
    "B1         <- sum(adver$num) / sum(adver$denom)           \n",
    "B0         <- mean(adver$sales) - B1*mean(adver$radio)\n",
    "\n",
    "adver$rss    <- mapply(function(x,y) (y - B0 - B1*x)**2, adver$radio, adver$sales) \n",
    "RSS        <- sum(adver$rss)\n",
    "RSE        <- (RSS/(nrow(adver)-2))**0.5\n",
    "                  \n",
    "SE_B0      <- ((RSE**2)*(1/nrow(adver) + (mean(adver$radio))**2 / sum(adver$denom)))**0.5\n",
    "SE_B1      <- (RSE**2/sum(adver$denom))**0.5 \n",
    "\n",
    "t          <- (B1 - 0) / SE_B1\n",
    "p          <- 2*pt(t, nrow(adver)-1, lower=FALSE)\n",
    "\n",
    "print(paste(\"T-Statistic: \", t))"
   ]
  },
  {
   "cell_type": "code",
   "execution_count": 13,
   "metadata": {},
   "outputs": [
    {
     "data": {
      "text/plain": [
       "\n",
       "Call:\n",
       "lm(formula = sales ~ TV, data = adver)\n",
       "\n",
       "Residuals:\n",
       "    Min      1Q  Median      3Q     Max \n",
       "-8.3860 -1.9545 -0.1913  2.0671  7.2124 \n",
       "\n",
       "Coefficients:\n",
       "            Estimate Std. Error t value Pr(>|t|)    \n",
       "(Intercept) 7.032594   0.457843   15.36   <2e-16 ***\n",
       "TV          0.047537   0.002691   17.67   <2e-16 ***\n",
       "---\n",
       "Signif. codes:  0 '***' 0.001 '**' 0.01 '*' 0.05 '.' 0.1 ' ' 1\n",
       "\n",
       "Residual standard error: 3.259 on 198 degrees of freedom\n",
       "Multiple R-squared:  0.6119,\tAdjusted R-squared:  0.6099 \n",
       "F-statistic: 312.1 on 1 and 198 DF,  p-value: < 2.2e-16\n"
      ]
     },
     "metadata": {},
     "output_type": "display_data"
    }
   ],
   "source": [
    "# Double check with the lm function\n",
    "md <- lm(sales ~ TV, data=adver)\n",
    "summary(md)"
   ]
  },
  {
   "cell_type": "code",
   "execution_count": 14,
   "metadata": {},
   "outputs": [
    {
     "data": {
      "text/plain": [
       "\n",
       "Call:\n",
       "lm(formula = sales ~ radio, data = adver)\n",
       "\n",
       "Residuals:\n",
       "     Min       1Q   Median       3Q      Max \n",
       "-15.7305  -2.1324   0.7707   2.7775   8.1810 \n",
       "\n",
       "Coefficients:\n",
       "            Estimate Std. Error t value Pr(>|t|)    \n",
       "(Intercept)  9.31164    0.56290  16.542   <2e-16 ***\n",
       "radio        0.20250    0.02041   9.921   <2e-16 ***\n",
       "---\n",
       "Signif. codes:  0 '***' 0.001 '**' 0.01 '*' 0.05 '.' 0.1 ' ' 1\n",
       "\n",
       "Residual standard error: 4.275 on 198 degrees of freedom\n",
       "Multiple R-squared:  0.332,\tAdjusted R-squared:  0.3287 \n",
       "F-statistic: 98.42 on 1 and 198 DF,  p-value: < 2.2e-16\n"
      ]
     },
     "metadata": {},
     "output_type": "display_data"
    }
   ],
   "source": [
    "# Show the model of Sales ~ f(Radio)\n",
    "md <- lm(sales ~ radio, data=adver)\n",
    "summary(md)"
   ]
  },
  {
   "cell_type": "code",
   "execution_count": 15,
   "metadata": {},
   "outputs": [
    {
     "name": "stdout",
     "output_type": "stream",
     "text": [
      "[1] \"T-Statistic:  3.29959074363342\"\n"
     ]
    }
   ],
   "source": [
    "\n",
    "adver$num    <- mapply(function (x,y) (x - mean(adver$newspaper)) * (y - mean(adver$sales)), adver$newspaper, adver$sales)\n",
    "adver$denom  <- mapply(function (x) (x - mean(adver$newspaper))**2, adver$newspaper)\n",
    "B1         <- sum(adver$num) / sum(adver$denom)           \n",
    "B0         <- mean(adver$sales) - B1*mean(adver$newspaper)\n",
    "\n",
    "adver$rss    <- mapply(function(x,y) (y - B0 - B1*x)**2, adver$newspaper, adver$sales) \n",
    "RSS        <- sum(adver$rss)\n",
    "RSE        <- (RSS/(nrow(adver)-2))**0.5\n",
    "                  \n",
    "SE_B0      <- ((RSE**2)*(1/nrow(adver) + (mean(adver$newspaper))**2 / sum(adver$denom)))**0.5\n",
    "SE_B1      <- (RSE**2/sum(adver$denom))**0.5 \n",
    "\n",
    "t          <- (B1 - 0) / SE_B1\n",
    "p          <- 2*pt(t, nrow(adver)-1, lower=FALSE)\n",
    "\n",
    "print(paste(\"T-Statistic: \", t))"
   ]
  },
  {
   "cell_type": "code",
   "execution_count": 16,
   "metadata": {},
   "outputs": [
    {
     "data": {
      "text/plain": [
       "\n",
       "Call:\n",
       "lm(formula = sales ~ newspaper, data = adver)\n",
       "\n",
       "Residuals:\n",
       "     Min       1Q   Median       3Q      Max \n",
       "-11.2272  -3.3873  -0.8392   3.5059  12.7751 \n",
       "\n",
       "Coefficients:\n",
       "            Estimate Std. Error t value Pr(>|t|)    \n",
       "(Intercept) 12.35141    0.62142   19.88  < 2e-16 ***\n",
       "newspaper    0.05469    0.01658    3.30  0.00115 ** \n",
       "---\n",
       "Signif. codes:  0 '***' 0.001 '**' 0.01 '*' 0.05 '.' 0.1 ' ' 1\n",
       "\n",
       "Residual standard error: 5.092 on 198 degrees of freedom\n",
       "Multiple R-squared:  0.05212,\tAdjusted R-squared:  0.04733 \n",
       "F-statistic: 10.89 on 1 and 198 DF,  p-value: 0.001148\n"
      ]
     },
     "metadata": {},
     "output_type": "display_data"
    }
   ],
   "source": [
    "\n",
    "# Show the model of Sales ~ f(Newspaper)\n",
    "md <- lm(sales ~ newspaper, data=adver)\n",
    "summary(md)"
   ]
  },
  {
   "cell_type": "code",
   "execution_count": 17,
   "metadata": {},
   "outputs": [
    {
     "name": "stdout",
     "output_type": "stream",
     "text": [
      "[1] \"RSE: 4.27494435490106  R2 0.332032455445296\"\n"
     ]
    }
   ],
   "source": [
    "#ex5\n",
    "adver$num    <- mapply(function (x,y) (x - mean(adver$radio)) * (y - mean(adver$sales)), adver$radio, adver$sales)\n",
    "adver$denom  <- mapply(function (x) (x - mean(adver$radio))**2, adver$radio)\n",
    "B1         <- sum(adver$num) / sum(adver$denom)           \n",
    "B0         <- mean(adver$sales) - B1*mean(adver$radio)\n",
    "\n",
    "adver$rss    <- mapply(function(x,y) (y - B0 - B1*x)**2, adver$radio, adver$sales) \n",
    "RSS        <- sum(adver$rss)\n",
    "RSE        <- (RSS/(nrow(adver)-2))**0.5\n",
    "\n",
    "adver$y2     <- mapply(function (x) (x - mean(adver$sales))**2, adver$sales)\n",
    "Cor_XY     <- sum(adver$num) / ((sum(adver$denom)**0.5) * (sum(adver$y2)**0.5))\n",
    "R2         <- Cor_XY**2\n",
    "                     \n",
    "print(paste(\"RSE:\", RSE, \" R2\", R2))"
   ]
  },
  {
   "cell_type": "code",
   "execution_count": 18,
   "metadata": {},
   "outputs": [
    {
     "data": {
      "text/plain": [
       "\n",
       "Call:\n",
       "lm(formula = sales ~ radio, data = adver)\n",
       "\n",
       "Residuals:\n",
       "     Min       1Q   Median       3Q      Max \n",
       "-15.7305  -2.1324   0.7707   2.7775   8.1810 \n",
       "\n",
       "Coefficients:\n",
       "            Estimate Std. Error t value Pr(>|t|)    \n",
       "(Intercept)  9.31164    0.56290  16.542   <2e-16 ***\n",
       "radio        0.20250    0.02041   9.921   <2e-16 ***\n",
       "---\n",
       "Signif. codes:  0 '***' 0.001 '**' 0.01 '*' 0.05 '.' 0.1 ' ' 1\n",
       "\n",
       "Residual standard error: 4.275 on 198 degrees of freedom\n",
       "Multiple R-squared:  0.332,\tAdjusted R-squared:  0.3287 \n",
       "F-statistic: 98.42 on 1 and 198 DF,  p-value: < 2.2e-16\n"
      ]
     },
     "metadata": {},
     "output_type": "display_data"
    }
   ],
   "source": [
    "\n",
    "# Show the model of Sales ~ f(Radio)\n",
    "md <- lm(sales ~ radio, data=adver)\n",
    "summary(md)"
   ]
  },
  {
   "cell_type": "code",
   "execution_count": 19,
   "metadata": {},
   "outputs": [
    {
     "name": "stdout",
     "output_type": "stream",
     "text": [
      "[1] \"RSE: 5.09248036652019  R2 0.0521204454443051\"\n"
     ]
    }
   ],
   "source": [
    "adver$num    <- mapply(function (x,y) (x - mean(adver$newspaper)) * (y - mean(adver$sales)), adver$newspaper, adver$sales)\n",
    "adver$denom  <- mapply(function (x) (x - mean(adver$newspaper))**2, adver$newspaper)\n",
    "B1         <- sum(adver$num) / sum(adver$denom)           \n",
    "B0         <- mean(adver$sales) - B1*mean(adver$newspaper)\n",
    "\n",
    "adver$rss    <- mapply(function(x,y) (y - B0 - B1*x)**2, adver$newspaper, adver$sales) \n",
    "RSS        <- sum(adver$rss)\n",
    "RSE        <- (RSS/(nrow(adver)-2))**0.5\n",
    "\n",
    "adver$y2     <- mapply(function (x) (x - mean(adver$sales))**2, adver$sales)\n",
    "Cor_XY     <- sum(adver$num) / ((sum(adver$denom)**0.5) * (sum(adver$y2)**0.5))\n",
    "R2         <- Cor_XY**2\n",
    "                     \n",
    "print(paste(\"RSE:\", RSE, \" R2\", R2))"
   ]
  },
  {
   "cell_type": "code",
   "execution_count": 20,
   "metadata": {},
   "outputs": [
    {
     "data": {
      "text/plain": [
       "\n",
       "Call:\n",
       "lm(formula = sales ~ newspaper, data = adver)\n",
       "\n",
       "Residuals:\n",
       "     Min       1Q   Median       3Q      Max \n",
       "-11.2272  -3.3873  -0.8392   3.5059  12.7751 \n",
       "\n",
       "Coefficients:\n",
       "            Estimate Std. Error t value Pr(>|t|)    \n",
       "(Intercept) 12.35141    0.62142   19.88  < 2e-16 ***\n",
       "newspaper    0.05469    0.01658    3.30  0.00115 ** \n",
       "---\n",
       "Signif. codes:  0 '***' 0.001 '**' 0.01 '*' 0.05 '.' 0.1 ' ' 1\n",
       "\n",
       "Residual standard error: 5.092 on 198 degrees of freedom\n",
       "Multiple R-squared:  0.05212,\tAdjusted R-squared:  0.04733 \n",
       "F-statistic: 10.89 on 1 and 198 DF,  p-value: 0.001148\n"
      ]
     },
     "metadata": {},
     "output_type": "display_data"
    }
   ],
   "source": [
    "# Show the model of Sales ~ f(Newspaper)\n",
    "md <- lm(sales ~ newspaper, data=adver)\n",
    "summary(md)"
   ]
  },
  {
   "cell_type": "code",
   "execution_count": 21,
   "metadata": {},
   "outputs": [
    {
     "name": "stdout",
     "output_type": "stream",
     "text": [
      "[1] \"1 Coefficient: 2.93888936945944\"\n",
      "[1] \"2 Coefficient: 0.0457646454553974\"\n",
      "[1] \"3 Coefficient: 0.188530016918204\"\n",
      "[1] \"4 Coefficient: -0.00103749304247596\"\n"
     ]
    }
   ],
   "source": [
    "#ex6\n",
    "# β = ((X'X)**-1)X'y\n",
    "X <- as.matrix(cbind(1, adver$TV, adver$radio, adver$newspaper))\n",
    "y <- as.matrix(adver$sales)\n",
    "\n",
    "B <- solve(t(X) %*% X) %*% t(X) %*% y\n",
    "\n",
    "for (coef in 1:nrow(B)){print(paste(coef, \"Coefficient:\", B[coef]))}\n"
   ]
  },
  {
   "cell_type": "code",
   "execution_count": 22,
   "metadata": {},
   "outputs": [
    {
     "data": {
      "text/plain": [
       "\n",
       "Call:\n",
       "lm(formula = sales ~ ., data = adver)\n",
       "\n",
       "Residuals:\n",
       "     Min       1Q   Median       3Q      Max \n",
       "-10.0522  -0.7168   0.3045   1.0974   2.9067 \n",
       "\n",
       "Coefficients: (1 not defined because of singularities)\n",
       "              Estimate Std. Error t value Pr(>|t|)    \n",
       "(Intercept)  2.9210985  0.3075467   9.498  < 2e-16 ***\n",
       "TV           0.0453246  0.0013704  33.074  < 2e-16 ***\n",
       "radio        0.1844936  0.0092864  19.867  < 2e-16 ***\n",
       "newspaper    0.0022167  0.0067476   0.329  0.74287    \n",
       "num          0.0028070  0.0009748   2.880  0.00443 ** \n",
       "denom       -0.0003207  0.0001841  -1.742  0.08315 .  \n",
       "rss          0.0060714  0.0040842   1.487  0.13876    \n",
       "y2                  NA         NA      NA       NA    \n",
       "---\n",
       "Signif. codes:  0 '***' 0.001 '**' 0.01 '*' 0.05 '.' 0.1 ' ' 1\n",
       "\n",
       "Residual standard error: 1.646 on 193 degrees of freedom\n",
       "Multiple R-squared:  0.9034,\tAdjusted R-squared:  0.9004 \n",
       "F-statistic:   301 on 6 and 193 DF,  p-value: < 2.2e-16\n"
      ]
     },
     "metadata": {},
     "output_type": "display_data"
    }
   ],
   "source": [
    "\n",
    "# Compare with the function of R\n",
    "md <- lm(sales ~ ., data=adver)\n",
    "summary(md)"
   ]
  },
  {
   "cell_type": "markdown",
   "metadata": {},
   "source": [
    "### BOOK"
   ]
  },
  {
   "cell_type": "markdown",
   "metadata": {},
   "source": [
    "Exercise 2 (p.52, Chap.2)\n",
    "\n",
    "A\n",
    "\n",
    "Regression\n",
    "p=record profit, number of employees, industry, ceo salary = 4\n",
    "n=500\n",
    "inference: factors that affect CEO salary\n",
    "B\n",
    "\n",
    "Classification\n",
    "p=price charged, marketing budget, competition price, + 10 variables = 13\n",
    "n=20\n",
    "prediction: whether it will be a success or failure\n",
    "C\n",
    "\n",
    "regression\n",
    "p=% change USD/EUR, % change US market, % change British market, % change German market=4\n",
    "n=52 (nr weeks per year)\n",
    "prediction: \"predicting the % change in the USD/EUR exchange rate...\"\n",
    "\n"
   ]
  },
  {
   "cell_type": "code",
   "execution_count": 23,
   "metadata": {
    "scrolled": true
   },
   "outputs": [
    {
     "data": {
      "text/html": [
       "<table>\n",
       "<thead><tr><th scope=col>crim</th><th scope=col>zn</th><th scope=col>indus</th><th scope=col>chas</th><th scope=col>nox</th><th scope=col>rm</th><th scope=col>age</th><th scope=col>dis</th><th scope=col>rad</th><th scope=col>tax</th><th scope=col>ptratio</th><th scope=col>black</th><th scope=col>lstat</th><th scope=col>medv</th></tr></thead>\n",
       "<tbody>\n",
       "\t<tr><td>0.00632</td><td>18     </td><td>2.31   </td><td>0      </td><td>0.538  </td><td>6.575  </td><td>65.2   </td><td>4.0900 </td><td>1      </td><td>296    </td><td>15.3   </td><td>396.90 </td><td>4.98   </td><td>24.0   </td></tr>\n",
       "\t<tr><td>0.02731</td><td> 0     </td><td>7.07   </td><td>0      </td><td>0.469  </td><td>6.421  </td><td>78.9   </td><td>4.9671 </td><td>2      </td><td>242    </td><td>17.8   </td><td>396.90 </td><td>9.14   </td><td>21.6   </td></tr>\n",
       "\t<tr><td>0.02729</td><td> 0     </td><td>7.07   </td><td>0      </td><td>0.469  </td><td>7.185  </td><td>61.1   </td><td>4.9671 </td><td>2      </td><td>242    </td><td>17.8   </td><td>392.83 </td><td>4.03   </td><td>34.7   </td></tr>\n",
       "\t<tr><td>0.03237</td><td> 0     </td><td>2.18   </td><td>0      </td><td>0.458  </td><td>6.998  </td><td>45.8   </td><td>6.0622 </td><td>3      </td><td>222    </td><td>18.7   </td><td>394.63 </td><td>2.94   </td><td>33.4   </td></tr>\n",
       "\t<tr><td>0.06905</td><td> 0     </td><td>2.18   </td><td>0      </td><td>0.458  </td><td>7.147  </td><td>54.2   </td><td>6.0622 </td><td>3      </td><td>222    </td><td>18.7   </td><td>396.90 </td><td>5.33   </td><td>36.2   </td></tr>\n",
       "\t<tr><td>0.02985</td><td> 0     </td><td>2.18   </td><td>0      </td><td>0.458  </td><td>6.430  </td><td>58.7   </td><td>6.0622 </td><td>3      </td><td>222    </td><td>18.7   </td><td>394.12 </td><td>5.21   </td><td>28.7   </td></tr>\n",
       "</tbody>\n",
       "</table>\n"
      ],
      "text/latex": [
       "\\begin{tabular}{r|llllllllllllll}\n",
       " crim & zn & indus & chas & nox & rm & age & dis & rad & tax & ptratio & black & lstat & medv\\\\\n",
       "\\hline\n",
       "\t 0.00632 & 18      & 2.31    & 0       & 0.538   & 6.575   & 65.2    & 4.0900  & 1       & 296     & 15.3    & 396.90  & 4.98    & 24.0   \\\\\n",
       "\t 0.02731 &  0      & 7.07    & 0       & 0.469   & 6.421   & 78.9    & 4.9671  & 2       & 242     & 17.8    & 396.90  & 9.14    & 21.6   \\\\\n",
       "\t 0.02729 &  0      & 7.07    & 0       & 0.469   & 7.185   & 61.1    & 4.9671  & 2       & 242     & 17.8    & 392.83  & 4.03    & 34.7   \\\\\n",
       "\t 0.03237 &  0      & 2.18    & 0       & 0.458   & 6.998   & 45.8    & 6.0622  & 3       & 222     & 18.7    & 394.63  & 2.94    & 33.4   \\\\\n",
       "\t 0.06905 &  0      & 2.18    & 0       & 0.458   & 7.147   & 54.2    & 6.0622  & 3       & 222     & 18.7    & 396.90  & 5.33    & 36.2   \\\\\n",
       "\t 0.02985 &  0      & 2.18    & 0       & 0.458   & 6.430   & 58.7    & 6.0622  & 3       & 222     & 18.7    & 394.12  & 5.21    & 28.7   \\\\\n",
       "\\end{tabular}\n"
      ],
      "text/markdown": [
       "\n",
       "| crim | zn | indus | chas | nox | rm | age | dis | rad | tax | ptratio | black | lstat | medv |\n",
       "|---|---|---|---|---|---|---|---|---|---|---|---|---|---|\n",
       "| 0.00632 | 18      | 2.31    | 0       | 0.538   | 6.575   | 65.2    | 4.0900  | 1       | 296     | 15.3    | 396.90  | 4.98    | 24.0    |\n",
       "| 0.02731 |  0      | 7.07    | 0       | 0.469   | 6.421   | 78.9    | 4.9671  | 2       | 242     | 17.8    | 396.90  | 9.14    | 21.6    |\n",
       "| 0.02729 |  0      | 7.07    | 0       | 0.469   | 7.185   | 61.1    | 4.9671  | 2       | 242     | 17.8    | 392.83  | 4.03    | 34.7    |\n",
       "| 0.03237 |  0      | 2.18    | 0       | 0.458   | 6.998   | 45.8    | 6.0622  | 3       | 222     | 18.7    | 394.63  | 2.94    | 33.4    |\n",
       "| 0.06905 |  0      | 2.18    | 0       | 0.458   | 7.147   | 54.2    | 6.0622  | 3       | 222     | 18.7    | 396.90  | 5.33    | 36.2    |\n",
       "| 0.02985 |  0      | 2.18    | 0       | 0.458   | 6.430   | 58.7    | 6.0622  | 3       | 222     | 18.7    | 394.12  | 5.21    | 28.7    |\n",
       "\n"
      ],
      "text/plain": [
       "  crim    zn indus chas nox   rm    age  dis    rad tax ptratio black  lstat\n",
       "1 0.00632 18 2.31  0    0.538 6.575 65.2 4.0900 1   296 15.3    396.90 4.98 \n",
       "2 0.02731  0 7.07  0    0.469 6.421 78.9 4.9671 2   242 17.8    396.90 9.14 \n",
       "3 0.02729  0 7.07  0    0.469 7.185 61.1 4.9671 2   242 17.8    392.83 4.03 \n",
       "4 0.03237  0 2.18  0    0.458 6.998 45.8 6.0622 3   222 18.7    394.63 2.94 \n",
       "5 0.06905  0 2.18  0    0.458 7.147 54.2 6.0622 3   222 18.7    396.90 5.33 \n",
       "6 0.02985  0 2.18  0    0.458 6.430 58.7 6.0622 3   222 18.7    394.12 5.21 \n",
       "  medv\n",
       "1 24.0\n",
       "2 21.6\n",
       "3 34.7\n",
       "4 33.4\n",
       "5 36.2\n",
       "6 28.7"
      ]
     },
     "metadata": {},
     "output_type": "display_data"
    },
    {
     "data": {
      "text/html": [
       "<ol class=list-inline>\n",
       "\t<li>506</li>\n",
       "\t<li>14</li>\n",
       "</ol>\n"
      ],
      "text/latex": [
       "\\begin{enumerate*}\n",
       "\\item 506\n",
       "\\item 14\n",
       "\\end{enumerate*}\n"
      ],
      "text/markdown": [
       "1. 506\n",
       "2. 14\n",
       "\n",
       "\n"
      ],
      "text/plain": [
       "[1] 506  14"
      ]
     },
     "metadata": {},
     "output_type": "display_data"
    },
    {
     "data": {
      "image/png": "[encoded data removed]",
      "text/plain": [
       "plot without title"
      ]
     },
     "metadata": {},
     "output_type": "display_data"
    },
    {
     "data": {
      "image/png": "[encoded data removed]",
      "text/plain": [
       "plot without title"
      ]
     },
     "metadata": {},
     "output_type": "display_data"
    },
    {
     "data": {
      "image/png": "[encoded data removed]",
      "text/plain": [
       "plot without title"
      ]
     },
     "metadata": {},
     "output_type": "display_data"
    },
    {
     "data": {
      "image/png": "[encoded data removed]",
      "text/plain": [
       "plot without title"
      ]
     },
     "metadata": {},
     "output_type": "display_data"
    }
   ],
   "source": [
    "#Exercise 10 (p.56, Chap.2)\n",
    "\n",
    "#A\n",
    "library(MASS)\n",
    "head(Boston)\n",
    "dim(Boston)\n",
    "#?Boston\n",
    "\n",
    "#B\n",
    "pairs(Boston)\n",
    "\n",
    "plot(Boston$age, Boston$crim)\n",
    "# Crime goes rises (exponentially after ~70%) with the amount of units built prior 1940\n",
    "\n",
    "plot(Boston$indus,Boston$nox)\n",
    "# The more industrial parks, the more nitrogen oxcides concentration\n",
    "\n",
    "plot(Boston$lstat,Boston$medv)\n",
    "# lower status of the population shows negative correlation with median value of owner-occupied homes in $1000s."
   ]
  },
  {
   "cell_type": "code",
   "execution_count": 24,
   "metadata": {},
   "outputs": [
    {
     "data": {
      "image/png": "[encoded data removed]",
      "text/plain": [
       "plot without title"
      ]
     },
     "metadata": {},
     "output_type": "display_data"
    }
   ],
   "source": [
    "#c\n",
    "par( mfrow = c(2,1) )\n",
    "\n",
    "# dis: weighted mean of distances to five Boston employment centres\n",
    "plot(Boston$dis, Boston$crim)\n",
    "# in close distance to an employment center, the crime rate rises \n",
    "\n",
    "# lstat: lower status of the population (percent)\n",
    "plot(Boston$lstat, Boston$crim)\n",
    "# with growing lstat, the avg. crime rate rises as well and gets more variance \n",
    "# in areas with low lstat (<10%), the crime rate is consistently lower than 5% (or very close to 0%)"
   ]
  },
  {
   "cell_type": "code",
   "execution_count": 25,
   "metadata": {},
   "outputs": [
    {
     "data": {
      "text/plain": [
       "      crim               tax           ptratio     \n",
       " Min.   : 0.00632   Min.   :187.0   Min.   :12.60  \n",
       " 1st Qu.: 0.08204   1st Qu.:279.0   1st Qu.:17.40  \n",
       " Median : 0.25651   Median :330.0   Median :19.05  \n",
       " Mean   : 3.61352   Mean   :408.2   Mean   :18.46  \n",
       " 3rd Qu.: 3.67708   3rd Qu.:666.0   3rd Qu.:20.20  \n",
       " Max.   :88.97620   Max.   :711.0   Max.   :22.00  "
      ]
     },
     "metadata": {},
     "output_type": "display_data"
    },
    {
     "data": {
      "image/png": "[encoded data removed]",
      "text/plain": [
       "Plot with title \"Histogram of Boston$ptratio\""
      ]
     },
     "metadata": {},
     "output_type": "display_data"
    }
   ],
   "source": [
    "summary(Boston[,c(\"crim\", \"tax\", \"ptratio\")])\n",
    "\n",
    "par( mfrow = c(3,1) )\n",
    "\n",
    "#Crim\n",
    "hist(Boston$crim)\n",
    "# Mean and Median a very far apart from the max value. This indicates that there are a few outliers (subsurbs with a signifivcantly higher crime rate than the rest)\n",
    "\n",
    "#Tax\n",
    "hist(Boston$tax)\n",
    "# Some suburbs seem to have a significantly higher tax rate than the average one. There is a gap between the average/ low tax rate and very high tax rates\n",
    "\n",
    "#Ptratio\n",
    "hist(Boston$ptratio)\n",
    "# The ptratio ranges from 12.6 to 22 pupils per teacher with an average of ~18.5. So some suburbs have a very low number of students per teacher."
   ]
  },
  {
   "cell_type": "code",
   "execution_count": 26,
   "metadata": {},
   "outputs": [
    {
     "data": {
      "text/html": [
       "35"
      ],
      "text/latex": [
       "35"
      ],
      "text/markdown": [
       "35"
      ],
      "text/plain": [
       "[1] 35"
      ]
     },
     "metadata": {},
     "output_type": "display_data"
    },
    {
     "data": {
      "text/html": [
       "19.05"
      ],
      "text/latex": [
       "19.05"
      ],
      "text/markdown": [
       "19.05"
      ],
      "text/plain": [
       "[1] 19.05"
      ]
     },
     "metadata": {},
     "output_type": "display_data"
    },
    {
     "data": {
      "text/html": [
       "<table>\n",
       "<thead><tr><th></th><th scope=col>crim</th><th scope=col>zn</th><th scope=col>indus</th><th scope=col>chas</th><th scope=col>nox</th><th scope=col>rm</th><th scope=col>age</th><th scope=col>dis</th><th scope=col>rad</th><th scope=col>tax</th><th scope=col>ptratio</th><th scope=col>black</th><th scope=col>lstat</th><th scope=col>medv</th></tr></thead>\n",
       "<tbody>\n",
       "\t<tr><th scope=row>399</th><td>38.3518</td><td>0      </td><td>18.1   </td><td>0      </td><td>0.693  </td><td>5.453  </td><td>100    </td><td>1.4896 </td><td>24     </td><td>666    </td><td>20.2   </td><td>396.90 </td><td>30.59  </td><td>5      </td></tr>\n",
       "\t<tr><th scope=row>406</th><td>67.9208</td><td>0      </td><td>18.1   </td><td>0      </td><td>0.693  </td><td>5.683  </td><td>100    </td><td>1.4254 </td><td>24     </td><td>666    </td><td>20.2   </td><td>384.97 </td><td>22.98  </td><td>5      </td></tr>\n",
       "</tbody>\n",
       "</table>\n"
      ],
      "text/latex": [
       "\\begin{tabular}{r|llllllllllllll}\n",
       "  & crim & zn & indus & chas & nox & rm & age & dis & rad & tax & ptratio & black & lstat & medv\\\\\n",
       "\\hline\n",
       "\t399 & 38.3518 & 0       & 18.1    & 0       & 0.693   & 5.453   & 100     & 1.4896  & 24      & 666     & 20.2    & 396.90  & 30.59   & 5      \\\\\n",
       "\t406 & 67.9208 & 0       & 18.1    & 0       & 0.693   & 5.683   & 100     & 1.4254  & 24      & 666     & 20.2    & 384.97  & 22.98   & 5      \\\\\n",
       "\\end{tabular}\n"
      ],
      "text/markdown": [
       "\n",
       "| <!--/--> | crim | zn | indus | chas | nox | rm | age | dis | rad | tax | ptratio | black | lstat | medv |\n",
       "|---|---|---|---|---|---|---|---|---|---|---|---|---|---|---|\n",
       "| 399 | 38.3518 | 0       | 18.1    | 0       | 0.693   | 5.453   | 100     | 1.4896  | 24      | 666     | 20.2    | 396.90  | 30.59   | 5       |\n",
       "| 406 | 67.9208 | 0       | 18.1    | 0       | 0.693   | 5.683   | 100     | 1.4254  | 24      | 666     | 20.2    | 384.97  | 22.98   | 5       |\n",
       "\n"
      ],
      "text/plain": [
       "    crim    zn indus chas nox   rm    age dis    rad tax ptratio black  lstat\n",
       "399 38.3518 0  18.1  0    0.693 5.453 100 1.4896 24  666 20.2    396.90 30.59\n",
       "406 67.9208 0  18.1  0    0.693 5.683 100 1.4254 24  666 20.2    384.97 22.98\n",
       "    medv\n",
       "399 5   \n",
       "406 5   "
      ]
     },
     "metadata": {},
     "output_type": "display_data"
    },
    {
     "data": {
      "text/plain": [
       "      crim                zn             indus            chas        \n",
       " Min.   : 0.00632   Min.   :  0.00   Min.   : 0.46   Min.   :0.00000  \n",
       " 1st Qu.: 0.08204   1st Qu.:  0.00   1st Qu.: 5.19   1st Qu.:0.00000  \n",
       " Median : 0.25651   Median :  0.00   Median : 9.69   Median :0.00000  \n",
       " Mean   : 3.61352   Mean   : 11.36   Mean   :11.14   Mean   :0.06917  \n",
       " 3rd Qu.: 3.67708   3rd Qu.: 12.50   3rd Qu.:18.10   3rd Qu.:0.00000  \n",
       " Max.   :88.97620   Max.   :100.00   Max.   :27.74   Max.   :1.00000  \n",
       "      nox               rm             age              dis        \n",
       " Min.   :0.3850   Min.   :3.561   Min.   :  2.90   Min.   : 1.130  \n",
       " 1st Qu.:0.4490   1st Qu.:5.886   1st Qu.: 45.02   1st Qu.: 2.100  \n",
       " Median :0.5380   Median :6.208   Median : 77.50   Median : 3.207  \n",
       " Mean   :0.5547   Mean   :6.285   Mean   : 68.57   Mean   : 3.795  \n",
       " 3rd Qu.:0.6240   3rd Qu.:6.623   3rd Qu.: 94.08   3rd Qu.: 5.188  \n",
       " Max.   :0.8710   Max.   :8.780   Max.   :100.00   Max.   :12.127  \n",
       "      rad              tax           ptratio          black       \n",
       " Min.   : 1.000   Min.   :187.0   Min.   :12.60   Min.   :  0.32  \n",
       " 1st Qu.: 4.000   1st Qu.:279.0   1st Qu.:17.40   1st Qu.:375.38  \n",
       " Median : 5.000   Median :330.0   Median :19.05   Median :391.44  \n",
       " Mean   : 9.549   Mean   :408.2   Mean   :18.46   Mean   :356.67  \n",
       " 3rd Qu.:24.000   3rd Qu.:666.0   3rd Qu.:20.20   3rd Qu.:396.23  \n",
       " Max.   :24.000   Max.   :711.0   Max.   :22.00   Max.   :396.90  \n",
       "     lstat            medv      \n",
       " Min.   : 1.73   Min.   : 5.00  \n",
       " 1st Qu.: 6.95   1st Qu.:17.02  \n",
       " Median :11.36   Median :21.20  \n",
       " Mean   :12.65   Mean   :22.53  \n",
       " 3rd Qu.:16.95   3rd Qu.:25.00  \n",
       " Max.   :37.97   Max.   :50.00  "
      ]
     },
     "metadata": {},
     "output_type": "display_data"
    }
   ],
   "source": [
    "\n",
    "#E\n",
    "sum(Boston$chas)\n",
    "#35 suburbs are bound to the Charles River\n",
    "\n",
    "#F\n",
    "median(Boston$ptratio)\n",
    "#median ptratio = 19.05\n",
    "\n",
    "#G\n",
    "Boston[Boston$medv == min(Boston$medv),]\n",
    "\n",
    "summary(Boston)\n",
    "# age -> very old buildings\n",
    "# crime rate -> very high\n",
    "# black -> maximum / very close to maximum\n",
    "# ptratio -> high\n",
    "# lstat -> high percentage of lower status population"
   ]
  },
  {
   "cell_type": "code",
   "execution_count": 27,
   "metadata": {},
   "outputs": [
    {
     "name": "stdout",
     "output_type": "stream",
     "text": [
      "[1] \"F 137.1\"\n",
      "[1] \"M 142.1\"\n"
     ]
    }
   ],
   "source": [
    "#Exercise 3 (p.120, Chap.3)\n",
    "\n",
    "#A\n",
    "#salary = B0 + B1*gpa + B2*iq + B3*gender_f + B4*(gpa*iq) + B5*(gpa*gender_f)\n",
    "B0 <- 50\n",
    "B1 <- 20\n",
    "B2 <- 0.07\n",
    "B3 <- 35\n",
    "B4 <- 0.01\n",
    "B5 <- -10\n",
    "\n",
    "iq <- 110\n",
    "gpa <- 4\n",
    "\n",
    "gender_f <- 1\n",
    "salary <- B0 + B1*gpa + B2*iq + B3*gender_f + B4*(gpa*iq) + B5*(gpa*gender_f)\n",
    "print(paste(\"F\",salary))\n",
    "\n",
    "gender_f <- 0\n",
    "salary <- B0 + B1*gpa + B2*iq + B3*gender_f + B4*(gpa*iq) + B5*(gpa*gender_f)\n",
    "print(paste(\"M\",salary))\n",
    "#Answer iii -> For a fixed value of IQ and GPA, males earn more on average than females provided that the GPA is high enough (>3.5)\n",
    "\n",
    "#B\n",
    "#Answer: 137.1\n",
    "\n",
    "#C\n",
    "#Answer: FALSE, The impact of the interaction term is measured in the unit of the coefficients.\n",
    "#If the amount of gpa or iq is high, the interaction effect (1% increase) results in a bigger impact as well"
   ]
  },
  {
   "cell_type": "code",
   "execution_count": 28,
   "metadata": {},
   "outputs": [
    {
     "name": "stderr",
     "output_type": "stream",
     "text": [
      "Warning message:\n",
      "\"package 'ISLR' was built under R version 3.6.2\""
     ]
    },
    {
     "data": {
      "text/html": [
       "<table>\n",
       "<thead><tr><th scope=col>Sales</th><th scope=col>CompPrice</th><th scope=col>Income</th><th scope=col>Advertising</th><th scope=col>Population</th><th scope=col>Price</th><th scope=col>ShelveLoc</th><th scope=col>Age</th><th scope=col>Education</th><th scope=col>Urban</th><th scope=col>US</th></tr></thead>\n",
       "<tbody>\n",
       "\t<tr><td> 9.50</td><td>138  </td><td>73   </td><td>11   </td><td>276  </td><td>120  </td><td>Bad  </td><td>42   </td><td>17   </td><td>Yes  </td><td>Yes  </td></tr>\n",
       "\t<tr><td>11.22</td><td>111  </td><td>48   </td><td>16   </td><td>260  </td><td> 83  </td><td>Good </td><td>65   </td><td>10   </td><td>Yes  </td><td>Yes  </td></tr>\n",
       "</tbody>\n",
       "</table>\n"
      ],
      "text/latex": [
       "\\begin{tabular}{r|lllllllllll}\n",
       " Sales & CompPrice & Income & Advertising & Population & Price & ShelveLoc & Age & Education & Urban & US\\\\\n",
       "\\hline\n",
       "\t  9.50 & 138   & 73    & 11    & 276   & 120   & Bad   & 42    & 17    & Yes   & Yes  \\\\\n",
       "\t 11.22 & 111   & 48    & 16    & 260   &  83   & Good  & 65    & 10    & Yes   & Yes  \\\\\n",
       "\\end{tabular}\n"
      ],
      "text/markdown": [
       "\n",
       "| Sales | CompPrice | Income | Advertising | Population | Price | ShelveLoc | Age | Education | Urban | US |\n",
       "|---|---|---|---|---|---|---|---|---|---|---|\n",
       "|  9.50 | 138   | 73    | 11    | 276   | 120   | Bad   | 42    | 17    | Yes   | Yes   |\n",
       "| 11.22 | 111   | 48    | 16    | 260   |  83   | Good  | 65    | 10    | Yes   | Yes   |\n",
       "\n"
      ],
      "text/plain": [
       "  Sales CompPrice Income Advertising Population Price ShelveLoc Age Education\n",
       "1  9.50 138       73     11          276        120   Bad       42  17       \n",
       "2 11.22 111       48     16          260         83   Good      65  10       \n",
       "  Urban US \n",
       "1 Yes   Yes\n",
       "2 Yes   Yes"
      ]
     },
     "metadata": {},
     "output_type": "display_data"
    },
    {
     "data": {
      "text/plain": [
       "\n",
       "Call:\n",
       "lm(formula = Sales ~ Price + Urban + US, data = Carseats)\n",
       "\n",
       "Residuals:\n",
       "    Min      1Q  Median      3Q     Max \n",
       "-6.9206 -1.6220 -0.0564  1.5786  7.0581 \n",
       "\n",
       "Coefficients:\n",
       "             Estimate Std. Error t value Pr(>|t|)    \n",
       "(Intercept) 13.043469   0.651012  20.036  < 2e-16 ***\n",
       "Price       -0.054459   0.005242 -10.389  < 2e-16 ***\n",
       "UrbanYes    -0.021916   0.271650  -0.081    0.936    \n",
       "USYes        1.200573   0.259042   4.635 4.86e-06 ***\n",
       "---\n",
       "Signif. codes:  0 '***' 0.001 '**' 0.01 '*' 0.05 '.' 0.1 ' ' 1\n",
       "\n",
       "Residual standard error: 2.472 on 396 degrees of freedom\n",
       "Multiple R-squared:  0.2393,\tAdjusted R-squared:  0.2335 \n",
       "F-statistic: 41.52 on 3 and 396 DF,  p-value: < 2.2e-16\n"
      ]
     },
     "metadata": {},
     "output_type": "display_data"
    },
    {
     "data": {
      "text/html": [
       "<dl class=dl-horizontal>\n",
       "\t<dt>(Intercept)</dt>\n",
       "\t\t<dd>13.0434689367649</dd>\n",
       "\t<dt>Price</dt>\n",
       "\t\t<dd>-0.0544588491775822</dd>\n",
       "\t<dt>UrbanYes</dt>\n",
       "\t\t<dd>-0.0219161508141408</dd>\n",
       "\t<dt>USYes</dt>\n",
       "\t\t<dd>1.20057269779412</dd>\n",
       "</dl>\n"
      ],
      "text/latex": [
       "\\begin{description*}\n",
       "\\item[(Intercept)] 13.0434689367649\n",
       "\\item[Price] -0.0544588491775822\n",
       "\\item[UrbanYes] -0.0219161508141408\n",
       "\\item[USYes] 1.20057269779412\n",
       "\\end{description*}\n"
      ],
      "text/markdown": [
       "(Intercept)\n",
       ":   13.0434689367649Price\n",
       ":   -0.0544588491775822UrbanYes\n",
       ":   -0.0219161508141408USYes\n",
       ":   1.20057269779412\n",
       "\n"
      ],
      "text/plain": [
       "(Intercept)       Price    UrbanYes       USYes \n",
       "13.04346894 -0.05445885 -0.02191615  1.20057270 "
      ]
     },
     "metadata": {},
     "output_type": "display_data"
    },
    {
     "data": {
      "text/plain": [
       "\n",
       "Call:\n",
       "lm(formula = Sales ~ Price + US, data = Carseats)\n",
       "\n",
       "Residuals:\n",
       "    Min      1Q  Median      3Q     Max \n",
       "-6.9269 -1.6286 -0.0574  1.5766  7.0515 \n",
       "\n",
       "Coefficients:\n",
       "            Estimate Std. Error t value Pr(>|t|)    \n",
       "(Intercept) 13.03079    0.63098  20.652  < 2e-16 ***\n",
       "Price       -0.05448    0.00523 -10.416  < 2e-16 ***\n",
       "USYes        1.19964    0.25846   4.641 4.71e-06 ***\n",
       "---\n",
       "Signif. codes:  0 '***' 0.001 '**' 0.01 '*' 0.05 '.' 0.1 ' ' 1\n",
       "\n",
       "Residual standard error: 2.469 on 397 degrees of freedom\n",
       "Multiple R-squared:  0.2393,\tAdjusted R-squared:  0.2354 \n",
       "F-statistic: 62.43 on 2 and 397 DF,  p-value: < 2.2e-16\n"
      ]
     },
     "metadata": {},
     "output_type": "display_data"
    },
    {
     "data": {
      "text/html": [
       "<table>\n",
       "<thead><tr><th></th><th scope=col>2.5 %</th><th scope=col>97.5 %</th></tr></thead>\n",
       "<tbody>\n",
       "\t<tr><th scope=row>(Intercept)</th><td>11.79032020</td><td>14.27126531</td></tr>\n",
       "\t<tr><th scope=row>Price</th><td>-0.06475984</td><td>-0.04419543</td></tr>\n",
       "\t<tr><th scope=row>USYes</th><td> 0.69151957</td><td> 1.70776632</td></tr>\n",
       "</tbody>\n",
       "</table>\n"
      ],
      "text/latex": [
       "\\begin{tabular}{r|ll}\n",
       "  & 2.5 \\% & 97.5 \\%\\\\\n",
       "\\hline\n",
       "\t(Intercept) & 11.79032020 & 14.27126531\\\\\n",
       "\tPrice & -0.06475984 & -0.04419543\\\\\n",
       "\tUSYes &  0.69151957 &  1.70776632\\\\\n",
       "\\end{tabular}\n"
      ],
      "text/markdown": [
       "\n",
       "| <!--/--> | 2.5 % | 97.5 % |\n",
       "|---|---|---|\n",
       "| (Intercept) | 11.79032020 | 14.27126531 |\n",
       "| Price | -0.06475984 | -0.04419543 |\n",
       "| USYes |  0.69151957 |  1.70776632 |\n",
       "\n"
      ],
      "text/plain": [
       "            2.5 %       97.5 %     \n",
       "(Intercept) 11.79032020 14.27126531\n",
       "Price       -0.06475984 -0.04419543\n",
       "USYes        0.69151957  1.70776632"
      ]
     },
     "metadata": {},
     "output_type": "display_data"
    },
    {
     "data": {
      "text/plain": [
       "     Sales            Price         US     \n",
       " Min.   : 0.000   Min.   : 24.0   No :142  \n",
       " 1st Qu.: 5.390   1st Qu.:100.0   Yes:258  \n",
       " Median : 7.490   Median :117.0            \n",
       " Mean   : 7.496   Mean   :115.8            \n",
       " 3rd Qu.: 9.320   3rd Qu.:131.0            \n",
       " Max.   :16.270   Max.   :191.0            "
      ]
     },
     "metadata": {},
     "output_type": "display_data"
    }
   ],
   "source": [
    "#Exercise 10 (p.123, Chap.3)\n",
    "library(ISLR)\n",
    "head(Carseats, 2)\n",
    "#?Carseats\n",
    "\n",
    "#A\n",
    "lm.fit <- lm(Sales ~ Price + Urban + US, data = Carseats)\n",
    "summary(lm.fit)\n",
    "\n",
    "#B\n",
    "#B0 y intercept -> with all the other coefficients being 0, the sales are 13.04\n",
    "#B1 (price) -> significant (p-value < 0.05), negative: the higher the price, the lower the sales\n",
    "#B2 (UrbanYes) -> not significant (p-value > 0.05) negative impact on sales\n",
    "#B3 (USYes) -> significant (p-value < 0.05) positive: if store is in the US, sales are higher \n",
    "\n",
    "#C\n",
    "sales <- Price <- UrbanYes <- USYes <- 0\n",
    "lm.fit$coeff\n",
    "sales <- B0 + B1 * Price + B2 * UrbanYes + B3 * USYes\n",
    "\n",
    "#D\n",
    "#Urban -> p-value = 0.936 > 0.05 so Urban is on a 95% confidence level not statistically relevant\n",
    "\n",
    "#E\n",
    "lm.fit1 <- lm(Sales ~ Price + US, data = Carseats)\n",
    "summary(lm.fit1)\n",
    "\n",
    "#F\n",
    "#R2 for Model 1 = 0.2335 ~ R2 Model 2 = 0.2354\n",
    "# both models only explain 23% of the total variance for sales in the dataset\n",
    "\n",
    "#G\n",
    "confint(lm.fit1, level = 0.95)\n",
    "\n",
    "#H\n",
    "summary(Carseats[,c(\"Sales\", \"Price\", \"US\")])\n",
    "#there is no evidence for outliers or high leverage observation points"
   ]
  },
  {
   "cell_type": "code",
   "execution_count": 29,
   "metadata": {},
   "outputs": [
    {
     "name": "stderr",
     "output_type": "stream",
     "text": [
      "Warning message in summary.lm(lm.fit):\n",
      "\"essentially perfect fit: summary may be unreliable\""
     ]
    },
    {
     "data": {
      "text/html": [
       "<table>\n",
       "<thead><tr><th></th><th scope=col>crim</th><th scope=col>zn</th><th scope=col>indus</th><th scope=col>chas</th><th scope=col>nox</th><th scope=col>rm</th><th scope=col>age</th><th scope=col>dis</th><th scope=col>rad</th><th scope=col>tax</th><th scope=col>ptratio</th><th scope=col>black</th><th scope=col>lstat</th><th scope=col>medv</th></tr></thead>\n",
       "<tbody>\n",
       "\t<tr><th scope=row>Estimate</th><td>1.000000e+00 </td><td>-7.393498e-02</td><td>5.097763e-01 </td><td>-1.8927766   </td><td>3.124853e+01 </td><td>-2.684051e+00</td><td>1.077862e-01 </td><td>-1.550902e+00</td><td>6.179109e-01 </td><td>2.974225e-02 </td><td>1.151983e+00 </td><td>-3.627964e-02</td><td>5.488048e-01 </td><td>-3.631599e-01</td></tr>\n",
       "\t<tr><th scope=row>Std. Error</th><td>5.640901e-18 </td><td> 1.609460e-02</td><td>5.102433e-02 </td><td> 1.5061155   </td><td>2.999190e+00 </td><td> 5.320411e-01</td><td>1.273644e-02 </td><td> 1.683300e-01</td><td>3.433182e-02 </td><td>1.847415e-03 </td><td>1.693736e-01 </td><td> 3.873154e-03</td><td>4.776097e-02 </td><td> 3.839017e-02</td></tr>\n",
       "\t<tr><th scope=row>t value</th><td>1.772767e+17 </td><td>-4.593776e+00</td><td>9.990848e+00 </td><td>-1.2567274   </td><td>1.041899e+01 </td><td>-5.044819e+00</td><td>8.462825e+00 </td><td>-9.213458e+00</td><td>1.799820e+01 </td><td>1.609939e+01 </td><td>6.801430e+00 </td><td>-9.366951e+00</td><td>1.149065e+01 </td><td>-9.459710e+00</td></tr>\n",
       "\t<tr><th scope=row>Pr(&gt;|t|)</th><td>0.000000e+00 </td><td> 5.506472e-06</td><td>1.450349e-21 </td><td> 0.2094345   </td><td>3.751739e-23 </td><td> 6.346703e-07</td><td>2.854869e-16 </td><td> 8.519949e-19</td><td>2.693844e-56 </td><td>2.357127e-47 </td><td>2.942922e-11 </td><td> 2.487274e-19</td><td>2.654277e-27 </td><td> 1.173987e-19</td></tr>\n",
       "</tbody>\n",
       "</table>\n"
      ],
      "text/latex": [
       "\\begin{tabular}{r|llllllllllllll}\n",
       "  & crim & zn & indus & chas & nox & rm & age & dis & rad & tax & ptratio & black & lstat & medv\\\\\n",
       "\\hline\n",
       "\tEstimate & 1.000000e+00  & -7.393498e-02 & 5.097763e-01  & -1.8927766    & 3.124853e+01  & -2.684051e+00 & 1.077862e-01  & -1.550902e+00 & 6.179109e-01  & 2.974225e-02  & 1.151983e+00  & -3.627964e-02 & 5.488048e-01  & -3.631599e-01\\\\\n",
       "\tStd. Error & 5.640901e-18  &  1.609460e-02 & 5.102433e-02  &  1.5061155    & 2.999190e+00  &  5.320411e-01 & 1.273644e-02  &  1.683300e-01 & 3.433182e-02  & 1.847415e-03  & 1.693736e-01  &  3.873154e-03 & 4.776097e-02  &  3.839017e-02\\\\\n",
       "\tt value & 1.772767e+17  & -4.593776e+00 & 9.990848e+00  & -1.2567274    & 1.041899e+01  & -5.044819e+00 & 8.462825e+00  & -9.213458e+00 & 1.799820e+01  & 1.609939e+01  & 6.801430e+00  & -9.366951e+00 & 1.149065e+01  & -9.459710e+00\\\\\n",
       "\tPr(>\\textbar{}t\\textbar{}) & 0.000000e+00  &  5.506472e-06 & 1.450349e-21  &  0.2094345    & 3.751739e-23  &  6.346703e-07 & 2.854869e-16  &  8.519949e-19 & 2.693844e-56  & 2.357127e-47  & 2.942922e-11  &  2.487274e-19 & 2.654277e-27  &  1.173987e-19\\\\\n",
       "\\end{tabular}\n"
      ],
      "text/markdown": [
       "\n",
       "| <!--/--> | crim | zn | indus | chas | nox | rm | age | dis | rad | tax | ptratio | black | lstat | medv |\n",
       "|---|---|---|---|---|---|---|---|---|---|---|---|---|---|---|\n",
       "| Estimate | 1.000000e+00  | -7.393498e-02 | 5.097763e-01  | -1.8927766    | 3.124853e+01  | -2.684051e+00 | 1.077862e-01  | -1.550902e+00 | 6.179109e-01  | 2.974225e-02  | 1.151983e+00  | -3.627964e-02 | 5.488048e-01  | -3.631599e-01 |\n",
       "| Std. Error | 5.640901e-18  |  1.609460e-02 | 5.102433e-02  |  1.5061155    | 2.999190e+00  |  5.320411e-01 | 1.273644e-02  |  1.683300e-01 | 3.433182e-02  | 1.847415e-03  | 1.693736e-01  |  3.873154e-03 | 4.776097e-02  |  3.839017e-02 |\n",
       "| t value | 1.772767e+17  | -4.593776e+00 | 9.990848e+00  | -1.2567274    | 1.041899e+01  | -5.044819e+00 | 8.462825e+00  | -9.213458e+00 | 1.799820e+01  | 1.609939e+01  | 6.801430e+00  | -9.366951e+00 | 1.149065e+01  | -9.459710e+00 |\n",
       "| Pr(>|t|) | 0.000000e+00  |  5.506472e-06 | 1.450349e-21  |  0.2094345    | 3.751739e-23  |  6.346703e-07 | 2.854869e-16  |  8.519949e-19 | 2.693844e-56  | 2.357127e-47  | 2.942922e-11  |  2.487274e-19 | 2.654277e-27  |  1.173987e-19 |\n",
       "\n"
      ],
      "text/plain": [
       "           crim         zn            indus        chas       nox         \n",
       "Estimate   1.000000e+00 -7.393498e-02 5.097763e-01 -1.8927766 3.124853e+01\n",
       "Std. Error 5.640901e-18  1.609460e-02 5.102433e-02  1.5061155 2.999190e+00\n",
       "t value    1.772767e+17 -4.593776e+00 9.990848e+00 -1.2567274 1.041899e+01\n",
       "Pr(>|t|)   0.000000e+00  5.506472e-06 1.450349e-21  0.2094345 3.751739e-23\n",
       "           rm            age          dis           rad          tax         \n",
       "Estimate   -2.684051e+00 1.077862e-01 -1.550902e+00 6.179109e-01 2.974225e-02\n",
       "Std. Error  5.320411e-01 1.273644e-02  1.683300e-01 3.433182e-02 1.847415e-03\n",
       "t value    -5.044819e+00 8.462825e+00 -9.213458e+00 1.799820e+01 1.609939e+01\n",
       "Pr(>|t|)    6.346703e-07 2.854869e-16  8.519949e-19 2.693844e-56 2.357127e-47\n",
       "           ptratio      black         lstat        medv         \n",
       "Estimate   1.151983e+00 -3.627964e-02 5.488048e-01 -3.631599e-01\n",
       "Std. Error 1.693736e-01  3.873154e-03 4.776097e-02  3.839017e-02\n",
       "t value    6.801430e+00 -9.366951e+00 1.149065e+01 -9.459710e+00\n",
       "Pr(>|t|)   2.942922e-11  2.487274e-19 2.654277e-27  1.173987e-19"
      ]
     },
     "metadata": {},
     "output_type": "display_data"
    },
    {
     "data": {
      "text/html": [
       "<table>\n",
       "<thead><tr><th></th><th scope=col>crim</th><th scope=col>zn</th><th scope=col>indus</th><th scope=col>nox</th><th scope=col>rm</th><th scope=col>age</th><th scope=col>dis</th><th scope=col>rad</th><th scope=col>tax</th><th scope=col>ptratio</th><th scope=col>black</th><th scope=col>lstat</th><th scope=col>medv</th></tr></thead>\n",
       "<tbody>\n",
       "\t<tr><th scope=row>Estimate</th><td>1.000000e+00 </td><td>-7.393498e-02</td><td>5.097763e-01 </td><td>3.124853e+01 </td><td>-2.684051e+00</td><td>1.077862e-01 </td><td>-1.550902e+00</td><td>6.179109e-01 </td><td>2.974225e-02 </td><td>1.151983e+00 </td><td>-3.627964e-02</td><td>5.488048e-01 </td><td>-3.631599e-01</td></tr>\n",
       "\t<tr><th scope=row>Std. Error</th><td>5.640901e-18 </td><td> 1.609460e-02</td><td>5.102433e-02 </td><td>2.999190e+00 </td><td> 5.320411e-01</td><td>1.273644e-02 </td><td> 1.683300e-01</td><td>3.433182e-02 </td><td>1.847415e-03 </td><td>1.693736e-01 </td><td> 3.873154e-03</td><td>4.776097e-02 </td><td> 3.839017e-02</td></tr>\n",
       "\t<tr><th scope=row>t value</th><td>1.772767e+17 </td><td>-4.593776e+00</td><td>9.990848e+00 </td><td>1.041899e+01 </td><td>-5.044819e+00</td><td>8.462825e+00 </td><td>-9.213458e+00</td><td>1.799820e+01 </td><td>1.609939e+01 </td><td>6.801430e+00 </td><td>-9.366951e+00</td><td>1.149065e+01 </td><td>-9.459710e+00</td></tr>\n",
       "\t<tr><th scope=row>Pr(&gt;|t|)</th><td>0.000000e+00 </td><td> 5.506472e-06</td><td>1.450349e-21 </td><td>3.751739e-23 </td><td> 6.346703e-07</td><td>2.854869e-16 </td><td> 8.519949e-19</td><td>2.693844e-56 </td><td>2.357127e-47 </td><td>2.942922e-11 </td><td> 2.487274e-19</td><td>2.654277e-27 </td><td> 1.173987e-19</td></tr>\n",
       "</tbody>\n",
       "</table>\n"
      ],
      "text/latex": [
       "\\begin{tabular}{r|lllllllllllll}\n",
       "  & crim & zn & indus & nox & rm & age & dis & rad & tax & ptratio & black & lstat & medv\\\\\n",
       "\\hline\n",
       "\tEstimate & 1.000000e+00  & -7.393498e-02 & 5.097763e-01  & 3.124853e+01  & -2.684051e+00 & 1.077862e-01  & -1.550902e+00 & 6.179109e-01  & 2.974225e-02  & 1.151983e+00  & -3.627964e-02 & 5.488048e-01  & -3.631599e-01\\\\\n",
       "\tStd. Error & 5.640901e-18  &  1.609460e-02 & 5.102433e-02  & 2.999190e+00  &  5.320411e-01 & 1.273644e-02  &  1.683300e-01 & 3.433182e-02  & 1.847415e-03  & 1.693736e-01  &  3.873154e-03 & 4.776097e-02  &  3.839017e-02\\\\\n",
       "\tt value & 1.772767e+17  & -4.593776e+00 & 9.990848e+00  & 1.041899e+01  & -5.044819e+00 & 8.462825e+00  & -9.213458e+00 & 1.799820e+01  & 1.609939e+01  & 6.801430e+00  & -9.366951e+00 & 1.149065e+01  & -9.459710e+00\\\\\n",
       "\tPr(>\\textbar{}t\\textbar{}) & 0.000000e+00  &  5.506472e-06 & 1.450349e-21  & 3.751739e-23  &  6.346703e-07 & 2.854869e-16  &  8.519949e-19 & 2.693844e-56  & 2.357127e-47  & 2.942922e-11  &  2.487274e-19 & 2.654277e-27  &  1.173987e-19\\\\\n",
       "\\end{tabular}\n"
      ],
      "text/markdown": [
       "\n",
       "| <!--/--> | crim | zn | indus | nox | rm | age | dis | rad | tax | ptratio | black | lstat | medv |\n",
       "|---|---|---|---|---|---|---|---|---|---|---|---|---|---|\n",
       "| Estimate | 1.000000e+00  | -7.393498e-02 | 5.097763e-01  | 3.124853e+01  | -2.684051e+00 | 1.077862e-01  | -1.550902e+00 | 6.179109e-01  | 2.974225e-02  | 1.151983e+00  | -3.627964e-02 | 5.488048e-01  | -3.631599e-01 |\n",
       "| Std. Error | 5.640901e-18  |  1.609460e-02 | 5.102433e-02  | 2.999190e+00  |  5.320411e-01 | 1.273644e-02  |  1.683300e-01 | 3.433182e-02  | 1.847415e-03  | 1.693736e-01  |  3.873154e-03 | 4.776097e-02  |  3.839017e-02 |\n",
       "| t value | 1.772767e+17  | -4.593776e+00 | 9.990848e+00  | 1.041899e+01  | -5.044819e+00 | 8.462825e+00  | -9.213458e+00 | 1.799820e+01  | 1.609939e+01  | 6.801430e+00  | -9.366951e+00 | 1.149065e+01  | -9.459710e+00 |\n",
       "| Pr(>|t|) | 0.000000e+00  |  5.506472e-06 | 1.450349e-21  | 3.751739e-23  |  6.346703e-07 | 2.854869e-16  |  8.519949e-19 | 2.693844e-56  | 2.357127e-47  | 2.942922e-11  |  2.487274e-19 | 2.654277e-27  |  1.173987e-19 |\n",
       "\n"
      ],
      "text/plain": [
       "           crim         zn            indus        nox          rm           \n",
       "Estimate   1.000000e+00 -7.393498e-02 5.097763e-01 3.124853e+01 -2.684051e+00\n",
       "Std. Error 5.640901e-18  1.609460e-02 5.102433e-02 2.999190e+00  5.320411e-01\n",
       "t value    1.772767e+17 -4.593776e+00 9.990848e+00 1.041899e+01 -5.044819e+00\n",
       "Pr(>|t|)   0.000000e+00  5.506472e-06 1.450349e-21 3.751739e-23  6.346703e-07\n",
       "           age          dis           rad          tax          ptratio     \n",
       "Estimate   1.077862e-01 -1.550902e+00 6.179109e-01 2.974225e-02 1.151983e+00\n",
       "Std. Error 1.273644e-02  1.683300e-01 3.433182e-02 1.847415e-03 1.693736e-01\n",
       "t value    8.462825e+00 -9.213458e+00 1.799820e+01 1.609939e+01 6.801430e+00\n",
       "Pr(>|t|)   2.854869e-16  8.519949e-19 2.693844e-56 2.357127e-47 2.942922e-11\n",
       "           black         lstat        medv         \n",
       "Estimate   -3.627964e-02 5.488048e-01 -3.631599e-01\n",
       "Std. Error  3.873154e-03 4.776097e-02  3.839017e-02\n",
       "t value    -9.366951e+00 1.149065e+01 -9.459710e+00\n",
       "Pr(>|t|)    2.487274e-19 2.654277e-27  1.173987e-19"
      ]
     },
     "metadata": {},
     "output_type": "display_data"
    }
   ],
   "source": [
    "#Exercise 15 (p.126, Chap.3)\n",
    "#?Boston\n",
    "\n",
    "#A\n",
    "sum <- NULL\n",
    "for (coeff in names(Boston)){\n",
    "    lm.fit <- lm(Boston$crim ~ Boston[,coeff])\n",
    "    t <- summary(lm.fit)$coefficients[2,]\n",
    "    sum <- cbind(sum, t)\n",
    "    colnames(sum)[ncol(sum)] <- coeff\n",
    "}\n",
    "sum\n",
    "\n",
    "sum[, sum[4,] < 0.05]\n",
    "#All coefficients are significant on an individual level"
   ]
  },
  {
   "cell_type": "code",
   "execution_count": null,
   "metadata": {},
   "outputs": [],
   "source": []
  },
  {
   "cell_type": "code",
   "execution_count": 30,
   "metadata": {},
   "outputs": [
    {
     "name": "stderr",
     "output_type": "stream",
     "text": [
      "Warning message:\n",
      "\"package 'tidyr' was built under R version 3.6.2\""
     ]
    },
    {
     "ename": "ERROR",
     "evalue": "Error in t(sum1): object 'sum1' not found\n",
     "output_type": "error",
     "traceback": [
      "Error in t(sum1): object 'sum1' not found\nTraceback:\n",
      "1. t(sum1)"
     ]
    }
   ],
   "source": [
    "#C\n",
    "library(tidyr)\n",
    "par1 <- t(sum1)\n",
    "par1 <- par1[,2:ncol(par1)]\n",
    "par <- sum[,2:ncol(sum)]\n",
    "\n",
    "par\n",
    "par1\n",
    "\n",
    "plot(par[1,], par1[1,], col=factor(colnames(par)))\n",
    "\n",
    "#D\n",
    "#Yes, The plots from do not show a simple linear relationship between response and predictor variables\n",
    "# predictor variables \"rad\" and \"black\""
   ]
  },
  {
   "cell_type": "code",
   "execution_count": null,
   "metadata": {},
   "outputs": [],
   "source": []
  },
  {
   "cell_type": "code",
   "execution_count": null,
   "metadata": {},
   "outputs": [],
   "source": []
  }
 ],
 "metadata": {
  "kernelspec": {
   "display_name": "R",
   "language": "R",
   "name": "ir"
  },
  "language_info": {
   "codemirror_mode": "r",
   "file_extension": ".r",
   "mimetype": "text/x-r-source",
   "name": "R",
   "pygments_lexer": "r",
   "version": "3.6.0"
  }
 },
 "nbformat": 4,
 "nbformat_minor": 2
}
